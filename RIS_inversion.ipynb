{
 "cells": [
  {
   "cell_type": "markdown",
   "id": "638ab246",
   "metadata": {},
   "source": [
    "# Ross Ice Shelf gravity inversion"
   ]
  },
  {
   "cell_type": "markdown",
   "id": "8205e4a4",
   "metadata": {},
   "source": [
    "# Import packages"
   ]
  },
  {
   "cell_type": "code",
   "execution_count": null,
   "id": "89e2c898",
   "metadata": {
    "execution": {
     "iopub.execute_input": "2023-04-12T02:12:31.796308Z",
     "iopub.status.busy": "2023-04-12T02:12:31.795977Z",
     "iopub.status.idle": "2023-04-12T02:12:45.894865Z",
     "shell.execute_reply": "2023-04-12T02:12:45.893698Z",
     "shell.execute_reply.started": "2023-04-12T02:12:31.796285Z"
    },
    "tags": []
   },
   "outputs": [],
   "source": [
    "%load_ext autoreload\n",
    "%autoreload 2\n",
    "%load_ext snakeviz\n",
    "\n",
    "from RIS_gravity_inversion import regional, synthetic, plotting, optimization\n",
    "import RIS_gravity_inversion.inversion as inv\n",
    "import RIS_gravity_inversion.utils as inv_utils\n",
    "\n",
    "import copy\n",
    "from antarctic_plots import utils, regions, maps, fetch, profile\n",
    "import zarr\n",
    "import harmonica as hm\n",
    "import numpy as np\n",
    "import pandas as pd\n",
    "import xarray as xr\n",
    "import matplotlib.pyplot as plt\n",
    "import verde as vd\n",
    "import scipy as sp\n",
    "import pvxarray\n",
    "import rioxarray\n",
    "import pygmt\n",
    "import geopandas as gpd\n",
    "import plotly.graph_objects as go\n",
    "import optuna\n",
    "from optuna.storages import JournalStorage, JournalFileStorage\n",
    "import warnings\n",
    "import itertools\n",
    "\n",
    "import os\n",
    "\n",
    "# make beep sound when notify is called at end of long-running cells\n",
    "from IPython.display import Audio\n",
    "\n",
    "wave = np.sin(2 * np.pi * 400 * np.arange(10000 * 1) / 10000)\n",
    "notify = Audio(wave, rate=10000, autoplay=True)"
   ]
  },
  {
   "cell_type": "code",
   "execution_count": null,
   "id": "0d86438e",
   "metadata": {
    "execution": {
     "iopub.execute_input": "2023-04-12T02:12:45.897483Z",
     "iopub.status.busy": "2023-04-12T02:12:45.897100Z",
     "iopub.status.idle": "2023-04-12T02:12:45.944474Z",
     "shell.execute_reply": "2023-04-12T02:12:45.943803Z",
     "shell.execute_reply.started": "2023-04-12T02:12:45.897458Z"
    },
    "tags": []
   },
   "outputs": [],
   "source": [
    "# from pygmt import session_management\n",
    "\n",
    "# session_management.end()\n",
    "# session_management.begin()"
   ]
  },
  {
   "cell_type": "markdown",
   "id": "bfe9b431",
   "metadata": {},
   "source": [
    "# Set region and parameters"
   ]
  },
  {
   "cell_type": "code",
   "execution_count": null,
   "id": "0d4e766f",
   "metadata": {
    "execution": {
     "iopub.execute_input": "2023-04-12T02:12:45.945506Z",
     "iopub.status.busy": "2023-04-12T02:12:45.945275Z",
     "iopub.status.idle": "2023-04-12T02:12:46.180102Z",
     "shell.execute_reply": "2023-04-12T02:12:46.179376Z",
     "shell.execute_reply.started": "2023-04-12T02:12:45.945484Z"
    },
    "tags": []
   },
   "outputs": [],
   "source": [
    "# polygon = regions.draw_region()"
   ]
  },
  {
   "cell_type": "code",
   "execution_count": null,
   "id": "917ce9fd",
   "metadata": {
    "execution": {
     "iopub.execute_input": "2023-04-12T02:12:46.182121Z",
     "iopub.status.busy": "2023-04-12T02:12:46.181799Z",
     "iopub.status.idle": "2023-04-12T02:12:46.427436Z",
     "shell.execute_reply": "2023-04-12T02:12:46.426510Z",
     "shell.execute_reply.started": "2023-04-12T02:12:46.182097Z"
    },
    "tags": []
   },
   "outputs": [],
   "source": [
    "# starting_region = utils.polygon_to_region(polygon)"
   ]
  },
  {
   "cell_type": "code",
   "execution_count": null,
   "id": "479cec85",
   "metadata": {
    "execution": {
     "iopub.execute_input": "2023-04-12T02:12:46.428899Z",
     "iopub.status.busy": "2023-04-12T02:12:46.428613Z",
     "iopub.status.idle": "2023-04-12T02:12:46.675509Z",
     "shell.execute_reply": "2023-04-12T02:12:46.674961Z",
     "shell.execute_reply.started": "2023-04-12T02:12:46.428875Z"
    },
    "tags": []
   },
   "outputs": [],
   "source": [
    "starting_region = [-580e3, 420e3, -1420e3, -420e3]\n",
    "\n",
    "inversion_region = starting_region\n",
    "buffer_region = vd.pad_region(starting_region, 40e3)\n",
    "# inversion_region, buffer_region = utils.alter_region(\n",
    "#     starting_region=starting_region,\n",
    "#     zoom=30e3,\n",
    "#     # n_shift=0e3,\n",
    "#     # w_shift=-0e3,\n",
    "#     buffer=30e3,\n",
    "# )\n",
    "\n",
    "# set densities\n",
    "air_density = 1\n",
    "ice_density = 917  # +/- 5, from Griggs and Bamber 2009/2011\n",
    "water_density = 1024  # +/- 5, from Griggs and Bamber 2009/2011\n",
    "sediment_density = 2300  # will likely change this\n",
    "\n",
    "# set layer parameters\n",
    "layer_spacing = 5e3\n",
    "registration = \"g\"\n",
    "\n",
    "# set gravity observation parameters\n",
    "grav_observation_height = 1e3\n",
    "grav_spacing = 5e3\n",
    "\n",
    "print(f\"layer spacing: {layer_spacing}m\")\n",
    "print(f\"registration: {registration}\")\n",
    "print(\"inversion region = \", inversion_region)\n",
    "print(\"buffer region = \", buffer_region)"
   ]
  },
  {
   "cell_type": "markdown",
   "id": "e139eabb",
   "metadata": {},
   "source": [
    "# Load data"
   ]
  },
  {
   "cell_type": "markdown",
   "id": "79375ab7",
   "metadata": {},
   "source": [
    "## topographic layers\n",
    "* Surface, Icebase, Bed"
   ]
  },
  {
   "cell_type": "code",
   "execution_count": null,
   "id": "5f096130",
   "metadata": {
    "execution": {
     "iopub.execute_input": "2023-04-12T02:12:46.676432Z",
     "iopub.status.busy": "2023-04-12T02:12:46.676252Z",
     "iopub.status.idle": "2023-04-12T02:12:50.123109Z",
     "shell.execute_reply": "2023-04-12T02:12:50.122504Z",
     "shell.execute_reply.started": "2023-04-12T02:12:46.676414Z"
    },
    "tags": []
   },
   "outputs": [],
   "source": [
    "# SURFACE\n",
    "fname = \"inversion_layers/bedmachine_surface.zarr\"\n",
    "# fname= \"inversion_layers/bedmap2_surface.zarr\"\n",
    "surface_full = xr.open_zarr(fname).surface\n",
    "\n",
    "# ICEBASE\n",
    "fname = \"inversion_layers/bedmachine_icebase.zarr\"\n",
    "# fname =  \"inversion_layers/bedmap2_icebase.zarr\"\n",
    "icebase_full = xr.open_zarr(fname).icebase\n",
    "\n",
    "# BED\n",
    "fname = \"inversion_layers/bedmachine_bed.zarr\"\n",
    "bedmachine_bed_full = xr.open_zarr(fname).bed\n",
    "\n",
    "fname = \"inversion_layers/bedmap2_bed.zarr\"\n",
    "bedmap_bed_full = xr.open_zarr(fname).bed\n",
    "\n",
    "# bedmachine outside RIS, riggs inside\n",
    "if layer_spacing == 5e3:\n",
    "    fname = \"inversion_layers/bed_from_constraints_5k.zarr\"\n",
    "elif layer_spacing == 10e3:\n",
    "    fname = \"inversion_layers/bed_from_constraints_10k.zarr\"\n",
    "else:\n",
    "    raise ValueError(\"No bed grids available at specified spacing!\")\n",
    "\n",
    "bed_full = xr.open_zarr(fname).bed\n",
    "\n",
    "# bedmachine outside RIS, bedmap2 inside RIS, and RIGGS points within RIS\n",
    "# bed = \"inversion_layers/bedmap_bedmachine_merge.zarr\"\n",
    "\n",
    "# BASEMENT\n",
    "# Ross Embayment basement merged to bedmachine bed\n",
    "# basement = \"inversion_layers/bed_basement_merged.zarr\"\n",
    "# Ross Embayment basement merged to ANTASed basement\n",
    "# basement = \"inversion_layers/ANTASed_magnetics_merged_basement.zarr\"\n",
    "# basement = xr.open_zarr(basement).basement\n",
    "\n",
    "grids = [\n",
    "    surface_full,\n",
    "    icebase_full,\n",
    "    bed_full,\n",
    "    bedmap_bed_full,\n",
    "    bedmachine_bed_full,\n",
    "]\n",
    "\n",
    "for g in grids:\n",
    "    print(utils.get_grid_info(g))"
   ]
  },
  {
   "cell_type": "markdown",
   "id": "d14d1ad4-1aa9-4dd6-b705-3e08e96ab41c",
   "metadata": {},
   "source": [
    "### resample to same spacing / region"
   ]
  },
  {
   "cell_type": "code",
   "execution_count": null,
   "id": "f2e7c504-5e71-425f-ae49-3f5ef834428b",
   "metadata": {
    "execution": {
     "iopub.execute_input": "2023-04-12T02:12:50.124230Z",
     "iopub.status.busy": "2023-04-12T02:12:50.123964Z",
     "iopub.status.idle": "2023-04-12T02:14:02.760930Z",
     "shell.execute_reply": "2023-04-12T02:14:02.760182Z",
     "shell.execute_reply.started": "2023-04-12T02:12:50.124211Z"
    },
    "tags": []
   },
   "outputs": [],
   "source": [
    "surface = fetch.resample_grid(\n",
    "    surface_full,\n",
    "    spacing=1e3,\n",
    "    region=buffer_region,\n",
    "    registration=registration,\n",
    "    verbose=\"q\",\n",
    ")\n",
    "icebase = fetch.resample_grid(\n",
    "    icebase_full,\n",
    "    spacing=1e3,\n",
    "    region=buffer_region,\n",
    "    registration=registration,\n",
    "    verbose=\"q\",\n",
    ")\n",
    "icebase_layer_spacing = fetch.resample_grid(\n",
    "    icebase_full,\n",
    "    spacing=layer_spacing,\n",
    "    region=buffer_region,\n",
    "    registration=registration,\n",
    "    verbose=\"q\",\n",
    ")\n",
    "bed = fetch.resample_grid(\n",
    "    bed_full,\n",
    "    spacing=layer_spacing,\n",
    "    region=buffer_region,\n",
    "    registration=registration,\n",
    "    verbose=\"q\",\n",
    ")\n",
    "bedmap_bed = fetch.resample_grid(\n",
    "    bedmap_bed_full,\n",
    "    spacing=layer_spacing,\n",
    "    region=buffer_region,\n",
    "    registration=registration,\n",
    "    verbose=\"q\",\n",
    ")\n",
    "bedmachine_bed = fetch.resample_grid(\n",
    "    bedmachine_bed_full,\n",
    "    spacing=layer_spacing,\n",
    "    region=buffer_region,\n",
    "    registration=registration,\n",
    "    verbose=\"q\",\n",
    ")\n",
    "\n",
    "# ensure layers never cross\n",
    "icebase = xr.where(icebase > surface, surface, icebase)\n",
    "bed = xr.where(\n",
    "    bed > icebase_layer_spacing,\n",
    "    icebase_layer_spacing,\n",
    "    bed,\n",
    ")\n",
    "\n",
    "grids = [\n",
    "    surface,\n",
    "    icebase,\n",
    "    icebase_layer_spacing,\n",
    "    bed,\n",
    "    bedmap_bed,\n",
    "    bedmachine_bed,\n",
    "]\n",
    "\n",
    "for g in grids:\n",
    "    print(utils.get_grid_info(g))\n",
    "\n",
    "# set conventional names\n",
    "# surface = surface.rename({\"x\": \"easting\", \"y\": \"northing\"})\n",
    "# icebase = icebase.rename({\"x\": \"easting\", \"y\": \"northing\"})\n",
    "# bed = bed.rename({\"x\": \"easting\", \"y\": \"northing\"})\n",
    "bedmachine_bed = bedmachine_bed.rename({\"x\": \"easting\", \"y\": \"northing\"})\n",
    "bedmap_bed = bedmap_bed.rename({\"x\": \"easting\", \"y\": \"northing\"})"
   ]
  },
  {
   "cell_type": "markdown",
   "id": "fd508853-1553-4fcb-96c1-93b5de5c7e9d",
   "metadata": {
    "tags": []
   },
   "source": [
    "## bed constraints\n",
    "from notebook `RIS_bathymetry_data.ipynb`"
   ]
  },
  {
   "cell_type": "code",
   "execution_count": null,
   "id": "c8ba09bd-e319-40ca-a56c-fc6fe00b0273",
   "metadata": {
    "execution": {
     "iopub.execute_input": "2023-04-12T02:14:02.762342Z",
     "iopub.status.busy": "2023-04-12T02:14:02.762022Z",
     "iopub.status.idle": "2023-04-12T02:14:02.931892Z",
     "shell.execute_reply": "2023-04-12T02:14:02.931311Z",
     "shell.execute_reply.started": "2023-04-12T02:14:02.762321Z"
    },
    "tags": []
   },
   "outputs": [],
   "source": [
    "# constraints_fname = \"data/bedmap1.csv.gz\"\n",
    "if layer_spacing == 5e3:\n",
    "    constraints_fname = \"data/bed_constraints_5k.csv.gz\"\n",
    "elif layer_spacing == 10e3:\n",
    "    constraints_fname = \"data/bed_constraints_10k.csv.gz\"\n",
    "else:\n",
    "    raise ValueError(\"No constraint point files available at specified spacing!\")\n",
    "\n",
    "constraints = pd.read_csv(\n",
    "    constraints_fname,\n",
    "    sep=\",\",\n",
    "    header=\"infer\",\n",
    "    index_col=None,\n",
    "    compression=\"gzip\",\n",
    ")\n",
    "\n",
    "# constraints = utils.block_reduce(\n",
    "#     constraints,\n",
    "#     np.median,\n",
    "#     spacing = layer_spacing,\n",
    "#     input_data_names = [\"z_ellipsoidal\"],\n",
    "#     center_coordinates=True,\n",
    "#     adjust=\"region\",\n",
    "#     drop_coords=False,\n",
    "# )\n",
    "\n",
    "# ensure all points are within buffer region\n",
    "constraints = utils.points_inside_region(\n",
    "    constraints, buffer_region, names=(\"easting\", \"northing\")\n",
    ")\n",
    "\n",
    "print(f\"bathymetry control points:{len(constraints)}\")\n",
    "constraints.describe()"
   ]
  },
  {
   "cell_type": "code",
   "execution_count": null,
   "id": "52588c09-0bb7-4296-9fb4-954e1c0ac245",
   "metadata": {
    "execution": {
     "iopub.execute_input": "2023-04-12T02:14:02.933118Z",
     "iopub.status.busy": "2023-04-12T02:14:02.932701Z",
     "iopub.status.idle": "2023-04-12T02:14:14.847800Z",
     "shell.execute_reply": "2023-04-12T02:14:14.846863Z",
     "shell.execute_reply.started": "2023-04-12T02:14:02.933098Z"
    },
    "tags": []
   },
   "outputs": [],
   "source": [
    "maps.plot_grd(\n",
    "    bed,\n",
    "    points=constraints.rename(columns={\"easting\": \"x\", \"northing\": \"y\"}),\n",
    "    points_style=\"c0.05c\",\n",
    ")"
   ]
  },
  {
   "cell_type": "markdown",
   "id": "57ff6d9d-3c75-4817-a376-68530b935044",
   "metadata": {},
   "source": [
    "## gravity data\n",
    "\n",
    "github repository [RIS_grav_bath_data](https://github.com/mdtanker/RIS_grav_bath_data), contains a compilation of gravity data and bed elevation constraints for the Ross Ice Shelf region. Load the data into a pandas dataframe with the below cell. \n",
    "\n",
    "> **Note:** this repo is currently private, so it requires a github authentication token!"
   ]
  },
  {
   "cell_type": "code",
   "execution_count": null,
   "id": "8212b870-e866-4b54-93db-43d0132453f3",
   "metadata": {
    "execution": {
     "iopub.execute_input": "2023-03-28T02:44:57.770841Z",
     "iopub.status.busy": "2023-03-28T02:44:57.770528Z",
     "iopub.status.idle": "2023-03-28T02:44:58.141201Z",
     "shell.execute_reply": "2023-03-28T02:44:58.140651Z",
     "shell.execute_reply.started": "2023-03-28T02:44:57.770814Z"
    },
    "tags": []
   },
   "outputs": [],
   "source": [
    "# load gravity data\n",
    "# grav_grid_full = xr.open_zarr(\"inversion_layers/rosetta_eq_source_1k_up_continued.zarr\").load()\n",
    "grav_grid_full = xr.open_zarr(\n",
    "    \"inversion_layers/rosetta_1k_up_continued_20k_masked.zarr\"\n",
    ").load()\n",
    "\n",
    "grav_grid_full.Gobs.plot()"
   ]
  },
  {
   "cell_type": "code",
   "execution_count": null,
   "id": "85506d15",
   "metadata": {
    "execution": {
     "iopub.execute_input": "2023-03-28T02:44:58.142327Z",
     "iopub.status.busy": "2023-03-28T02:44:58.142138Z",
     "iopub.status.idle": "2023-03-28T02:45:00.597362Z",
     "shell.execute_reply": "2023-03-28T02:45:00.596768Z",
     "shell.execute_reply.started": "2023-03-28T02:44:58.142310Z"
    },
    "tags": []
   },
   "outputs": [],
   "source": [
    "grav_grid = inv_utils.filter_grid(\n",
    "    grav_grid_full.Gobs,\n",
    "    50e3,\n",
    "    filt_type=\"lowpass\",\n",
    ")\n",
    "# grav_grid = inv_utils.filter_grid(\n",
    "#     grav_grid,\n",
    "#     5e3,\n",
    "#     filt_type=\"lowpass\",\n",
    "#     # change_spacing=True,\n",
    "# )\n",
    "# grav_grid = grav_grid_full.Gobs\n",
    "\n",
    "print(utils.get_grid_info(grav_grid))\n",
    "\n",
    "grav_grid.plot()"
   ]
  },
  {
   "cell_type": "code",
   "execution_count": null,
   "id": "4d36798d-46e7-4e3d-9c35-78688543e416",
   "metadata": {
    "execution": {
     "iopub.execute_input": "2023-03-28T02:45:00.598540Z",
     "iopub.status.busy": "2023-03-28T02:45:00.598245Z",
     "iopub.status.idle": "2023-03-28T02:45:00.658534Z",
     "shell.execute_reply": "2023-03-28T02:45:00.658008Z",
     "shell.execute_reply.started": "2023-03-28T02:45:00.598520Z"
    },
    "tags": []
   },
   "outputs": [],
   "source": [
    "grav = vd.grid_to_table(grav_grid)\n",
    "grav = grav[grav.Gobs.notna()]\n",
    "grav[\"upward\"] = 1000\n",
    "grav.describe()"
   ]
  },
  {
   "cell_type": "code",
   "execution_count": null,
   "id": "1cb5bf8b",
   "metadata": {
    "execution": {
     "iopub.execute_input": "2023-03-28T02:45:00.659656Z",
     "iopub.status.busy": "2023-03-28T02:45:00.659275Z",
     "iopub.status.idle": "2023-03-28T02:45:01.104535Z",
     "shell.execute_reply": "2023-03-28T02:45:01.104027Z",
     "shell.execute_reply.started": "2023-03-28T02:45:00.659638Z"
    },
    "tags": []
   },
   "outputs": [],
   "source": [
    "grav = inv_utils.prep_grav_data(\n",
    "    grav,\n",
    "    region=inversion_region,\n",
    "    input_grav_name=\"Gobs\",\n",
    "    input_coord_names=(\"easting\", \"northing\", \"upward\"),\n",
    ")\n",
    "grav.describe()"
   ]
  },
  {
   "cell_type": "code",
   "execution_count": null,
   "id": "8408040d-3f2f-406e-b81d-bf3d47bf64be",
   "metadata": {
    "execution": {
     "iopub.execute_input": "2023-03-28T02:45:01.105627Z",
     "iopub.status.busy": "2023-03-28T02:45:01.105265Z",
     "iopub.status.idle": "2023-03-28T02:45:01.394472Z",
     "shell.execute_reply": "2023-03-28T02:45:01.393983Z",
     "shell.execute_reply.started": "2023-03-28T02:45:01.105609Z"
    },
    "tags": []
   },
   "outputs": [],
   "source": [
    "# grav_fname = \"inversion_layers/ross_ice_shelf_gravity_data.csv.gz\"\n",
    "# # grav_fname = fetch_private_github_file(grav, output_dir=\"../inversion_layers/\")\n",
    "# # print(grav_fname)\n",
    "\n",
    "# grav = pd.read_csv(\n",
    "#     grav_fname,\n",
    "#     sep=\",\",\n",
    "#     header=\"infer\",\n",
    "#     index_col=None,\n",
    "#     compression=\"gzip\",\n",
    "# )\n",
    "\n",
    "# grav = inv_utils.prep_grav_data(\n",
    "#     grav,\n",
    "#     region=inversion_region,\n",
    "#     input_grav_name=\"free_air_anomaly\",\n",
    "#     input_coord_names=(\"x\", \"y\", \"ellipsoidal_elevation\"),\n",
    "# )\n",
    "# grav.describe()"
   ]
  },
  {
   "cell_type": "markdown",
   "id": "17d9df6f-f485-44e3-80df-80a2b825636f",
   "metadata": {},
   "source": [
    "# Plot input data"
   ]
  },
  {
   "cell_type": "code",
   "execution_count": null,
   "id": "415049c7-f970-4db3-b92b-9a32dc1c59d3",
   "metadata": {
    "execution": {
     "iopub.execute_input": "2023-03-28T02:45:02.730306Z",
     "iopub.status.busy": "2023-03-28T02:45:02.729971Z",
     "iopub.status.idle": "2023-03-28T02:46:33.902858Z",
     "shell.execute_reply": "2023-03-28T02:46:33.902036Z",
     "shell.execute_reply.started": "2023-03-28T02:45:02.730289Z"
    },
    "tags": []
   },
   "outputs": [],
   "source": [
    "fig = plotting.plot_data_and_layers(\n",
    "    [surface, icebase, bed],\n",
    "    [\"surface\", \"icebase\", \"bed\"],\n",
    "    grav.set_index([\"northing\", \"easting\"]).to_xarray().Gobs,\n",
    "    inversion_region=inversion_region,\n",
    "    buffer_region=buffer_region,\n",
    "    # points=constraints.rename(columns={\"easting\": \"x\", \"northing\": \"y\"}),\n",
    "    points_style=\"c0.05c\",\n",
    "    robust=True,\n",
    ")\n",
    "fig.show()"
   ]
  },
  {
   "cell_type": "code",
   "execution_count": null,
   "id": "849d8ecb",
   "metadata": {
    "execution": {
     "iopub.execute_input": "2023-03-28T02:46:33.904345Z",
     "iopub.status.busy": "2023-03-28T02:46:33.904028Z",
     "iopub.status.idle": "2023-03-28T02:46:33.943950Z",
     "shell.execute_reply": "2023-03-28T02:46:33.943443Z",
     "shell.execute_reply.started": "2023-03-28T02:46:33.904325Z"
    },
    "tags": []
   },
   "outputs": [],
   "source": [
    "# fig = go.Figure(\n",
    "#     data=[\n",
    "#         go.Surface(\n",
    "#             z=surface.values,\n",
    "#             colorscale=\"Blues\",\n",
    "#             opacity=0.8,\n",
    "#             colorbar_x=1,\n",
    "#         ),\n",
    "#         go.Surface(\n",
    "#             z=icebase.values,\n",
    "#             colorscale=\"Greens\",\n",
    "#             opacity=0.4,\n",
    "#             colorbar_x=1.2,\n",
    "#         ),\n",
    "#         go.Surface(\n",
    "#             z=bed.values,\n",
    "#             colorscale=\"Electric\",\n",
    "#             colorbar_x=1.4,\n",
    "#         ),\n",
    "#     ],\n",
    "# )\n",
    "\n",
    "\n",
    "# fig.update_traces(\n",
    "#     contours_z=dict(\n",
    "#         show=True,\n",
    "#         usecolormap=True,\n",
    "#         highlightcolor=\"limegreen\",\n",
    "#         project_z=True,\n",
    "#     ),\n",
    "# )\n",
    "\n",
    "# camera = dict(eye=dict(x=0.5, y=0.5, z=0.5))\n",
    "# fig.update_layout(\n",
    "#     # title=title,\n",
    "#     scene_camera=camera,\n",
    "# )\n",
    "\n",
    "# fig.show()"
   ]
  },
  {
   "cell_type": "code",
   "execution_count": null,
   "id": "51351bd5",
   "metadata": {
    "execution": {
     "iopub.execute_input": "2023-03-28T02:46:33.945041Z",
     "iopub.status.busy": "2023-03-28T02:46:33.944661Z",
     "iopub.status.idle": "2023-03-28T02:46:34.422401Z",
     "shell.execute_reply": "2023-03-28T02:46:34.421908Z",
     "shell.execute_reply.started": "2023-03-28T02:46:33.945023Z"
    }
   },
   "outputs": [],
   "source": [
    "# grav = misfit"
   ]
  },
  {
   "cell_type": "markdown",
   "id": "6c87b208",
   "metadata": {},
   "source": [
    "# Bouguer corrections"
   ]
  },
  {
   "cell_type": "markdown",
   "id": "38a63c59-6777-4d76-ab9d-d5365c986cbe",
   "metadata": {},
   "source": [
    "### Surface prisms"
   ]
  },
  {
   "cell_type": "code",
   "execution_count": null,
   "id": "b9ccc44a-6cf0-48ef-8404-6cf07d7d9735",
   "metadata": {
    "execution": {
     "iopub.execute_input": "2023-03-28T02:46:34.423412Z",
     "iopub.status.busy": "2023-03-28T02:46:34.423107Z",
     "iopub.status.idle": "2023-03-28T02:46:34.853251Z",
     "shell.execute_reply": "2023-03-28T02:46:34.852627Z",
     "shell.execute_reply.started": "2023-03-28T02:46:34.423395Z"
    },
    "iooxa": {
     "id": {
      "block": "cJ4hetq8McbxM8AsDu9h",
      "project": "SFyeWjT1xaHHWH2Kk85e",
      "version": 1
     },
     "outputId": null
    },
    "tags": []
   },
   "outputs": [],
   "source": [
    "# create prisms around surface\n",
    "# positive densities above reference, negative below\n",
    "density = ice_density - air_density\n",
    "print(f\"Surface density contrast: {density}kgm-3\")\n",
    "\n",
    "surface_prisms = inv_utils.grids_to_prisms(\n",
    "    surface=surface,\n",
    "    reference=surface.values.mean(),\n",
    "    density=xr.where(surface >= surface.values.mean(), density, -density),\n",
    "    input_coord_names=[\"x\", \"y\"],\n",
    ")\n",
    "\n",
    "# plotting.show_prism_layers(\n",
    "#     [surface_prisms],\n",
    "#     cmap=\"viridis\",\n",
    "#     color_by=\"density\",\n",
    "#     # color_by=\"thickness\",\n",
    "#     zscale=100,\n",
    "#     clip_box=False,\n",
    "#     log_scale=False,\n",
    "# )"
   ]
  },
  {
   "cell_type": "markdown",
   "id": "21e55a68-1f5d-43e2-b00b-d60e617402c8",
   "metadata": {},
   "source": [
    "### Surface gravity"
   ]
  },
  {
   "cell_type": "code",
   "execution_count": null,
   "id": "785a3fff",
   "metadata": {
    "execution": {
     "iopub.execute_input": "2023-03-28T02:46:34.858409Z",
     "iopub.status.busy": "2023-03-28T02:46:34.857986Z",
     "iopub.status.idle": "2023-03-28T02:50:59.482006Z",
     "shell.execute_reply": "2023-03-28T02:50:59.481332Z",
     "shell.execute_reply.started": "2023-03-28T02:46:34.858389Z"
    },
    "tags": []
   },
   "outputs": [],
   "source": [
    "# calculate gravity of surface\n",
    "surface_grav_grid, surface_grav_df = inv_utils.forward_grav_of_prismlayer(\n",
    "    [surface_prisms],\n",
    "    grav[grav.Gobs.notna()],\n",
    "    names=[\"surface_prisms\"],\n",
    "    progressbar=True,\n",
    "    plot=False,\n",
    ")\n",
    "\n",
    "grav[\"surface_forward\"] = surface_grav_df.forward_total\n",
    "\n",
    "grav.describe()"
   ]
  },
  {
   "cell_type": "code",
   "execution_count": null,
   "id": "bbda198c",
   "metadata": {
    "execution": {
     "iopub.execute_input": "2023-03-28T02:57:42.457940Z",
     "iopub.status.busy": "2023-03-28T02:57:42.457656Z",
     "iopub.status.idle": "2023-03-28T02:57:42.727572Z",
     "shell.execute_reply": "2023-03-28T02:57:42.727058Z",
     "shell.execute_reply.started": "2023-03-28T02:57:42.457920Z"
    },
    "tags": []
   },
   "outputs": [],
   "source": [
    "# grid the results\n",
    "surface_forward = grav.set_index([\"northing\", \"easting\"]).to_xarray().surface_forward\n",
    "surface_forward.plot()"
   ]
  },
  {
   "cell_type": "markdown",
   "id": "380d056a-a962-4598-bc72-619b532132df",
   "metadata": {},
   "source": [
    "### Icebase prisms"
   ]
  },
  {
   "cell_type": "code",
   "execution_count": null,
   "id": "7f3a030f-bc1f-4fce-a879-14b3695bbeec",
   "metadata": {
    "execution": {
     "iopub.execute_input": "2023-03-28T02:50:59.784908Z",
     "iopub.status.busy": "2023-03-28T02:50:59.784563Z",
     "iopub.status.idle": "2023-03-28T02:50:59.992268Z",
     "shell.execute_reply": "2023-03-28T02:50:59.991755Z",
     "shell.execute_reply.started": "2023-03-28T02:50:59.784890Z"
    },
    "iooxa": {
     "id": {
      "block": "cJ4hetq8McbxM8AsDu9h",
      "project": "SFyeWjT1xaHHWH2Kk85e",
      "version": 1
     },
     "outputId": null
    },
    "tags": []
   },
   "outputs": [],
   "source": [
    "# create prisms around icebase\n",
    "# positive densities above reference, negative below\n",
    "density = water_density - ice_density\n",
    "print(f\"Icebase density contrast: {density}kgm-3\")\n",
    "\n",
    "icebase_prisms = inv_utils.grids_to_prisms(\n",
    "    surface=icebase,\n",
    "    reference=icebase.values.mean(),\n",
    "    density=xr.where(icebase >= icebase.values.mean(), density, -density),\n",
    "    input_coord_names=[\"x\", \"y\"],\n",
    ")\n",
    "\n",
    "# plotting.show_prism_layers(\n",
    "#     [icebase_prisms],\n",
    "#     cmap=\"viridis\",\n",
    "#     color_by=\"density\",\n",
    "#     # color_by=\"thickness\",\n",
    "#     zscale=100,\n",
    "#     clip_box=False,\n",
    "#     log_scale=False,\n",
    "# )"
   ]
  },
  {
   "cell_type": "markdown",
   "id": "9126ce68-f7b7-45b5-95b1-c1c476eb0831",
   "metadata": {},
   "source": [
    "### Icebase gravity"
   ]
  },
  {
   "cell_type": "code",
   "execution_count": null,
   "id": "a6b3b2bf-48e5-422d-879d-591dc5bf53e6",
   "metadata": {
    "execution": {
     "iopub.execute_input": "2023-03-28T02:50:59.993292Z",
     "iopub.status.busy": "2023-03-28T02:50:59.992951Z"
    },
    "iooxa": {
     "id": {
      "block": "06qmnJvCqgPombnZbivO",
      "project": "SFyeWjT1xaHHWH2Kk85e",
      "version": 1
     },
     "outputId": {
      "block": "0GSW26vpuObmcgNWuYST",
      "project": "SFyeWjT1xaHHWH2Kk85e",
      "version": 1
     }
    },
    "tags": []
   },
   "outputs": [],
   "source": [
    "# calculate gravity of icebase\n",
    "icebase_grav_grid, icebase_grav_df = inv_utils.forward_grav_of_prismlayer(\n",
    "    [icebase_prisms],\n",
    "    grav[grav.Gobs.notna()],\n",
    "    names=[\"icebase_prisms\"],\n",
    "    progressbar=True,\n",
    "    plot=False,\n",
    ")\n",
    "\n",
    "grav[\"icebase_forward\"] = icebase_grav_df.forward_total\n",
    "\n",
    "\n",
    "grav.describe()"
   ]
  },
  {
   "cell_type": "code",
   "execution_count": null,
   "id": "28a7c651-e6cf-49de-9521-07751a23c345",
   "metadata": {
    "execution": {
     "iopub.execute_input": "2023-03-28T02:57:49.017590Z",
     "iopub.status.busy": "2023-03-28T02:57:49.017316Z",
     "iopub.status.idle": "2023-03-28T02:57:49.288439Z",
     "shell.execute_reply": "2023-03-28T02:57:49.287907Z",
     "shell.execute_reply.started": "2023-03-28T02:57:49.017571Z"
    },
    "tags": []
   },
   "outputs": [],
   "source": [
    "# grid the results\n",
    "icebase_forward = grav.set_index([\"northing\", \"easting\"]).to_xarray().icebase_forward\n",
    "\n",
    "icebase_forward.plot()"
   ]
  },
  {
   "cell_type": "markdown",
   "id": "7d1f0ac7-b39b-4053-9b51-1f7fd2b71737",
   "metadata": {},
   "source": [
    "## Correct the observed gravity"
   ]
  },
  {
   "cell_type": "code",
   "execution_count": null,
   "id": "d83a5ae1-77d0-4110-9d52-e9953fc73730",
   "metadata": {
    "execution": {
     "iopub.execute_input": "2023-03-28T02:57:53.697953Z",
     "iopub.status.busy": "2023-03-28T02:57:53.697414Z",
     "iopub.status.idle": "2023-03-28T02:57:53.752515Z",
     "shell.execute_reply": "2023-03-28T02:57:53.751993Z",
     "shell.execute_reply.started": "2023-03-28T02:57:53.697934Z"
    },
    "tags": []
   },
   "outputs": [],
   "source": [
    "grav[\"Gobs_corr\"] = grav.Gobs - grav.surface_forward - grav.icebase_forward\n",
    "grav.describe()"
   ]
  },
  {
   "cell_type": "markdown",
   "id": "7664d7c3",
   "metadata": {},
   "source": [
    "### Save and load results"
   ]
  },
  {
   "cell_type": "code",
   "execution_count": null,
   "id": "cbe0de65",
   "metadata": {
    "execution": {
     "iopub.execute_input": "2023-03-28T02:57:54.997056Z",
     "iopub.status.busy": "2023-03-28T02:57:54.996644Z",
     "iopub.status.idle": "2023-03-28T02:57:56.256977Z",
     "shell.execute_reply": "2023-03-28T02:57:56.256377Z",
     "shell.execute_reply.started": "2023-03-28T02:57:54.997037Z"
    },
    "tags": []
   },
   "outputs": [],
   "source": [
    "grav.to_csv(\n",
    "    \"data/RIS_bouguer_corrections_50k_filt_mask.csv.gz\",\n",
    "    # \"data/RIS_bouguer_corrections_50k_filt.csv.gz\",\n",
    "    sep=\",\",\n",
    "    na_rep=\"\",\n",
    "    header=True,\n",
    "    index=False,\n",
    "    encoding=\"utf-8\",\n",
    "    compression=\"gzip\",\n",
    ")"
   ]
  },
  {
   "cell_type": "code",
   "execution_count": null,
   "id": "fa4fe60d",
   "metadata": {
    "execution": {
     "iopub.execute_input": "2023-03-28T03:08:36.334316Z",
     "iopub.status.busy": "2023-03-28T03:08:36.334029Z",
     "iopub.status.idle": "2023-03-28T03:08:36.744254Z",
     "shell.execute_reply": "2023-03-28T03:08:36.743758Z",
     "shell.execute_reply.started": "2023-03-28T03:08:36.334300Z"
    },
    "tags": []
   },
   "outputs": [],
   "source": [
    "grav = pd.read_csv(\n",
    "    \"data/RIS_bouguer_corrections_50k_filt_mask.csv.gz\",\n",
    "    # \"data/RIS_bouguer_corrections_50k_filt.csv.gz\",\n",
    "    sep=\",\",\n",
    "    header=\"infer\",\n",
    "    index_col=None,\n",
    "    compression=\"gzip\",\n",
    ")\n",
    "\n",
    "grav.describe()"
   ]
  },
  {
   "cell_type": "code",
   "execution_count": null,
   "id": "c8dd7eb9-d164-47e3-b942-52834969c795",
   "metadata": {
    "execution": {
     "iopub.execute_input": "2023-03-28T03:09:52.997594Z",
     "iopub.status.busy": "2023-03-28T03:09:52.997258Z",
     "iopub.status.idle": "2023-03-28T03:11:31.215761Z",
     "shell.execute_reply": "2023-03-28T03:11:31.215244Z",
     "shell.execute_reply.started": "2023-03-28T03:09:52.997574Z"
    },
    "tags": []
   },
   "outputs": [],
   "source": [
    "plotting.corrections_plotting(\n",
    "    grav,\n",
    "    [\n",
    "        \"surface_forward\",\n",
    "        \"icebase_forward\",\n",
    "        \"Gobs_corr\",\n",
    "        \"Gobs\",\n",
    "    ],\n",
    "    titles=[\n",
    "        \"Surface forward gravity\",\n",
    "        \"Icebase forward gravity\",\n",
    "        \"Corrected gravity\",\n",
    "        \"Observed gravity\",\n",
    "    ],\n",
    "    buffer_region=buffer_region,\n",
    "    inversion_region=inversion_region,\n",
    "    robust=True,\n",
    "    # points = constraints,\n",
    "    # points_style = \"c0.05c\",\n",
    ")"
   ]
  },
  {
   "cell_type": "markdown",
   "id": "c2c72023",
   "metadata": {},
   "source": [
    "# Gravity misfit"
   ]
  },
  {
   "cell_type": "markdown",
   "id": "ecf9401b-b09a-47fc-9440-0a9832dd10be",
   "metadata": {},
   "source": [
    "## Bed prisms"
   ]
  },
  {
   "cell_type": "code",
   "execution_count": null,
   "id": "06f2866f-3d3e-473e-8f2e-5cd773405833",
   "metadata": {
    "execution": {
     "iopub.execute_input": "2023-03-28T04:24:52.153458Z",
     "iopub.status.busy": "2023-03-28T04:24:52.153286Z",
     "iopub.status.idle": "2023-03-28T04:24:52.505587Z",
     "shell.execute_reply": "2023-03-28T04:24:52.505062Z",
     "shell.execute_reply.started": "2023-03-28T04:24:52.153442Z"
    },
    "iooxa": {
     "id": {
      "block": "cJ4hetq8McbxM8AsDu9h",
      "project": "SFyeWjT1xaHHWH2Kk85e",
      "version": 1
     },
     "outputId": null
    },
    "tags": []
   },
   "outputs": [],
   "source": [
    "# create prisms around bed\n",
    "# positive densities above reference, negative below\n",
    "density = sediment_density - water_density\n",
    "print(f\"Bed density contrast: {density}kgm-3\")\n",
    "\n",
    "bed_prisms = inv_utils.grids_to_prisms(\n",
    "    surface=bed,\n",
    "    reference=bed.values.mean(),\n",
    "    density=xr.where(bed >= bed.values.mean(), density, -density),\n",
    "    input_coord_names=[\"x\", \"y\"],\n",
    ")\n",
    "\n",
    "# plotting.show_prism_layers(\n",
    "#     [bed_prisms],\n",
    "#     cmap=\"viridis\",\n",
    "#     color_by=\"density\",\n",
    "#     # color_by=\"thickness\",\n",
    "#     zscale=100,\n",
    "#     clip_box=False,\n",
    "#     log_scale=False,\n",
    "# )"
   ]
  },
  {
   "cell_type": "markdown",
   "id": "d45c0345-650a-4eb8-ba59-bb14b24eb829",
   "metadata": {},
   "source": [
    "## Bed gravity"
   ]
  },
  {
   "cell_type": "code",
   "execution_count": null,
   "id": "ebce8eaa-f7c6-410d-b415-75b1da1dd5b9",
   "metadata": {
    "execution": {
     "iopub.execute_input": "2023-03-28T03:11:43.617676Z",
     "iopub.status.busy": "2023-03-28T03:11:43.617234Z",
     "iopub.status.idle": "2023-03-28T03:11:54.648564Z",
     "shell.execute_reply": "2023-03-28T03:11:54.647881Z",
     "shell.execute_reply.started": "2023-03-28T03:11:43.617659Z"
    },
    "iooxa": {
     "id": {
      "block": "06qmnJvCqgPombnZbivO",
      "project": "SFyeWjT1xaHHWH2Kk85e",
      "version": 1
     },
     "outputId": {
      "block": "0GSW26vpuObmcgNWuYST",
      "project": "SFyeWjT1xaHHWH2Kk85e",
      "version": 1
     }
    },
    "tags": []
   },
   "outputs": [],
   "source": [
    "# calculate gravity of icebase\n",
    "bed_grav_grid, bed_grav_df = inv_utils.forward_grav_of_prismlayer(\n",
    "    [bed_prisms],\n",
    "    grav[grav.Gobs.notna()],\n",
    "    names=[\"bed_prisms\"],\n",
    "    progressbar=True,\n",
    "    plot=False,\n",
    ")\n",
    "\n",
    "grav[\"bed_forward\"] = bed_grav_df.forward_total\n",
    "\n",
    "grav.describe()"
   ]
  },
  {
   "cell_type": "code",
   "execution_count": null,
   "id": "65f3e8d5-289e-4be8-a28e-ccdd01efb621",
   "metadata": {
    "execution": {
     "iopub.execute_input": "2023-03-28T03:11:54.650180Z",
     "iopub.status.busy": "2023-03-28T03:11:54.649903Z",
     "iopub.status.idle": "2023-03-28T03:11:54.931723Z",
     "shell.execute_reply": "2023-03-28T03:11:54.931223Z",
     "shell.execute_reply.started": "2023-03-28T03:11:54.650162Z"
    },
    "tags": []
   },
   "outputs": [],
   "source": [
    "# grid the results\n",
    "bed_forward = grav.set_index([\"northing\", \"easting\"]).to_xarray().bed_forward\n",
    "bed_forward.plot()"
   ]
  },
  {
   "cell_type": "code",
   "execution_count": null,
   "id": "638f0771-ef82-491d-b1e1-f2addb9b829f",
   "metadata": {
    "execution": {
     "iopub.execute_input": "2023-03-28T03:11:55.768500Z",
     "iopub.status.busy": "2023-03-28T03:11:55.768272Z",
     "iopub.status.idle": "2023-03-28T03:11:57.189986Z",
     "shell.execute_reply": "2023-03-28T03:11:57.189456Z",
     "shell.execute_reply.started": "2023-03-28T03:11:55.768483Z"
    },
    "tags": []
   },
   "outputs": [],
   "source": [
    "grav.to_csv(\n",
    "    \"data/RIS_bouguer_corrections_50k_filt_mask.csv.gz\",\n",
    "    # \"data/RIS_bouguer_corrections_50k_filt.csv.gz\",\n",
    "    sep=\",\",\n",
    "    na_rep=\"\",\n",
    "    header=True,\n",
    "    index=False,\n",
    "    encoding=\"utf-8\",\n",
    "    compression=\"gzip\",\n",
    ")"
   ]
  },
  {
   "cell_type": "code",
   "execution_count": null,
   "id": "d306c8bb-d6bc-4288-bf1e-8ab2720b5db4",
   "metadata": {
    "execution": {
     "iopub.execute_input": "2023-03-28T06:50:24.341970Z",
     "iopub.status.busy": "2023-03-28T06:50:24.341772Z",
     "iopub.status.idle": "2023-03-28T06:50:24.458751Z",
     "shell.execute_reply": "2023-03-28T06:50:24.458292Z",
     "shell.execute_reply.started": "2023-03-28T06:50:24.341953Z"
    },
    "tags": []
   },
   "outputs": [],
   "source": [
    "grav = pd.read_csv(\n",
    "    \"data/RIS_bouguer_corrections_50k_filt_mask.csv.gz\",\n",
    "    # \"data/RIS_bouguer_corrections_50k_filt.csv.gz\",\n",
    "    sep=\",\",\n",
    "    header=\"infer\",\n",
    "    index_col=None,\n",
    "    compression=\"gzip\",\n",
    ")\n",
    "\n",
    "grav"
   ]
  },
  {
   "cell_type": "markdown",
   "id": "71d5ac8d-53db-4894-b068-7571bea54554",
   "metadata": {},
   "source": [
    "## misfit"
   ]
  },
  {
   "cell_type": "code",
   "execution_count": null,
   "id": "cb6cf19f-312b-4969-9601-13129fd037fd",
   "metadata": {
    "execution": {
     "iopub.execute_input": "2023-03-28T03:11:54.932567Z",
     "iopub.status.busy": "2023-03-28T03:11:54.932393Z",
     "iopub.status.idle": "2023-03-28T03:11:55.767129Z",
     "shell.execute_reply": "2023-03-28T03:11:55.766598Z",
     "shell.execute_reply.started": "2023-03-28T03:11:54.932551Z"
    },
    "tags": []
   },
   "outputs": [],
   "source": [
    "misfit = inv.misfit(\n",
    "    input_grav=grav,\n",
    "    input_forward_column=\"bed_forward\",\n",
    "    input_grav_column=\"Gobs_corr\",\n",
    "    constraints=constraints,\n",
    ")\n",
    "misfit.describe()"
   ]
  },
  {
   "cell_type": "markdown",
   "id": "fa0bf192-5fbf-4a06-8d27-86bac9db34f5",
   "metadata": {},
   "source": [
    "### Save and load results"
   ]
  },
  {
   "cell_type": "code",
   "execution_count": null,
   "id": "c7be99ef",
   "metadata": {
    "execution": {
     "iopub.execute_input": "2023-03-28T06:50:24.460083Z",
     "iopub.status.busy": "2023-03-28T06:50:24.459745Z",
     "iopub.status.idle": "2023-03-28T06:50:24.781407Z",
     "shell.execute_reply": "2023-03-28T06:50:24.780943Z",
     "shell.execute_reply.started": "2023-03-28T06:50:24.460066Z"
    },
    "tags": []
   },
   "outputs": [],
   "source": [
    "misfit.set_index([\"northing\", \"easting\"]).to_xarray().misfit.plot(robust=True)"
   ]
  },
  {
   "cell_type": "code",
   "execution_count": null,
   "id": "09ffbcd8-cfff-48ff-8d0e-60a2cbcb433e",
   "metadata": {
    "tags": []
   },
   "outputs": [],
   "source": [
    "fig = plotting.misfit_plotting(\n",
    "    misfit,\n",
    "    plot_type=\"pygmt\",\n",
    "    input_forward_column=\"bed_forward\",\n",
    "    input_grav_column=\"Gobs_corr_shift\",\n",
    "    robust=True,\n",
    ")\n",
    "fig.show()"
   ]
  },
  {
   "cell_type": "markdown",
   "id": "ddcabeef-ace6-47ee-ac6b-3139fd627b4b",
   "metadata": {},
   "source": [
    "# Regional - Residual seperation\n",
    "\n",
    "The `corrected observed gravity` is the combination of the signal from the density contrasts of `bathymetry` and `basement`. Both of these signals contain long-wavelength components, since both surface have long-wavelength topographic features. The `bathymetry` signal also contains short-wavelength components. Deeper in the crust, further away from the gravity observation points, these short-wavelength components decrease in amplitude. This means the majority the short-wavelength signal in the `corrected observed gravity` is resulting from the density contrast of the `bathymetry`. This is the signal we want to isolate and input into the inversion. \n",
    "\n",
    "To do this, we need to seperate the gravity misfit into a `regional` component and a `residual` component. This `regional` field should theoretically contain every gravity signal other than the that resulting from the `bathymetry` surface. Additionaly, this `residual` component should theoretically represent the gravity anomaly due to the difference between the true `bathymetry` and the low-resolution `bathymetry`. \n",
    "\n",
    "If we fail to accurately remove the `regional` signal, the resulting `bathymetry` after the inversion will contain long-wavelength topography, resulting from the `regional` gravity field.  "
   ]
  },
  {
   "cell_type": "code",
   "execution_count": null,
   "id": "145d3491-d960-4965-8ba5-fbe5e6be25d4",
   "metadata": {
    "execution": {
     "iopub.execute_input": "2023-03-28T06:50:44.144356Z",
     "iopub.status.busy": "2023-03-28T06:50:44.144114Z",
     "iopub.status.idle": "2023-03-28T06:50:46.622683Z",
     "shell.execute_reply": "2023-03-28T06:50:46.622056Z",
     "shell.execute_reply.started": "2023-03-28T06:50:44.144339Z"
    },
    "tags": []
   },
   "outputs": [],
   "source": [
    "# choose the regional method:\n",
    "# regional_method = \"filter\"\n",
    "# regional_method = \"trend\"\n",
    "regional_method = \"constraints\"\n",
    "# regional_method = \"eq_sources\"\n",
    "\n",
    "# set the parameter:\n",
    "# contraints: 1 results in pedastals, 0 is good,\n",
    "param = 0.25\n",
    "\n",
    "df_anomalies = regional.regional_seperation(\n",
    "    regional_method=regional_method,\n",
    "    filter=f\"g{param}\",\n",
    "    # filter=param,\n",
    "    trend=param,\n",
    "    tension_factor=param,\n",
    "    eq_sources=param,\n",
    "    input_grav=misfit,\n",
    "    input_forward_column=\"bed_forward\",\n",
    "    input_grav_column=\"Gobs_corr_shift\",\n",
    "    grav_spacing=grav_spacing,\n",
    "    inversion_region=inversion_region,\n",
    "    constraints=constraints,\n",
    "    block_size=layer_spacing * 10,\n",
    "    # grid_method=\"verde\",\n",
    "    # block_reduce=True,\n",
    "    #     delayed=False,\n",
    ")\n",
    "\n",
    "anom_grids = plotting.anomalies_plotting(\n",
    "    df_anomalies,\n",
    "    region=inversion_region,\n",
    "    grav_spacing=layer_spacing,\n",
    "    title=f\" Method: {regional_method}, parameter: {param}\",\n",
    "    # constraints=constraints,\n",
    "    input_forward_column=\"bed_forward\",\n",
    "    input_grav_column=\"Gobs_corr_shift\",\n",
    "    robust=True,\n",
    "    # shp_mask = gpd.read_file(\"plotting/RIS_outline.shp\").buffer(-20e3)\n",
    ")"
   ]
  },
  {
   "cell_type": "markdown",
   "id": "9f27d2e9-aef0-4b38-894e-bdaf0c184398",
   "metadata": {},
   "source": [
    "### Save and load results"
   ]
  },
  {
   "cell_type": "code",
   "execution_count": null,
   "id": "c865f674-bcd5-4798-8e5d-5f0bb8d1dca6",
   "metadata": {
    "execution": {
     "iopub.execute_input": "2023-03-28T06:50:46.624291Z",
     "iopub.status.busy": "2023-03-28T06:50:46.624029Z",
     "iopub.status.idle": "2023-03-28T06:50:47.551312Z",
     "shell.execute_reply": "2023-03-28T06:50:47.550708Z",
     "shell.execute_reply.started": "2023-03-28T06:50:46.624272Z"
    },
    "tags": []
   },
   "outputs": [],
   "source": [
    "df_anomalies.to_csv(\n",
    "    \"data/RIS_residual_50k_filt_mask.csv.gz\",\n",
    "    # \"data/RIS_residual_50k_filt.csv.gz\",\n",
    "    sep=\",\",\n",
    "    na_rep=\"\",\n",
    "    header=True,\n",
    "    index=False,\n",
    "    encoding=\"utf-8\",\n",
    "    compression=\"gzip\",\n",
    ")"
   ]
  },
  {
   "cell_type": "code",
   "execution_count": null,
   "id": "d5b81d3c-cc5d-4a0b-9584-e2bc706a59ff",
   "metadata": {
    "execution": {
     "iopub.execute_input": "2023-03-28T06:50:47.552279Z",
     "iopub.status.busy": "2023-03-28T06:50:47.552089Z",
     "iopub.status.idle": "2023-03-28T06:50:47.672519Z",
     "shell.execute_reply": "2023-03-28T06:50:47.672055Z",
     "shell.execute_reply.started": "2023-03-28T06:50:47.552262Z"
    },
    "tags": []
   },
   "outputs": [],
   "source": [
    "df_anomalies = pd.read_csv(\n",
    "    \"data/RIS_residual_50k_filt_mask.csv.gz\",\n",
    "    # \"data/RIS_residual_50k_filt.csv.gz\",\n",
    "    sep=\",\",\n",
    "    header=\"infer\",\n",
    "    index_col=None,\n",
    "    compression=\"gzip\",\n",
    ")\n",
    "\n",
    "df_anomalies"
   ]
  },
  {
   "cell_type": "code",
   "execution_count": null,
   "id": "a69b35b9-09c6-4f73-8a21-209b7009f792",
   "metadata": {
    "execution": {
     "iopub.execute_input": "2023-03-28T06:50:47.673511Z",
     "iopub.status.busy": "2023-03-28T06:50:47.673158Z",
     "iopub.status.idle": "2023-03-28T06:50:47.732705Z",
     "shell.execute_reply": "2023-03-28T06:50:47.732256Z",
     "shell.execute_reply.started": "2023-03-28T06:50:47.673494Z"
    },
    "tags": []
   },
   "outputs": [],
   "source": [
    "df_anomalies.describe()"
   ]
  },
  {
   "cell_type": "markdown",
   "id": "1ff51b6f-cc9f-4bfd-a542-a46d754c5e43",
   "metadata": {},
   "source": [
    "# Plot Inputs"
   ]
  },
  {
   "cell_type": "code",
   "execution_count": null,
   "id": "234aab04-f0bb-4f83-9448-ce1ea1a283a9",
   "metadata": {
    "execution": {
     "iopub.execute_input": "2023-03-28T06:50:47.734357Z",
     "iopub.status.busy": "2023-03-28T06:50:47.734083Z",
     "iopub.status.idle": "2023-03-28T06:51:09.459608Z",
     "shell.execute_reply": "2023-03-28T06:51:09.459039Z",
     "shell.execute_reply.started": "2023-03-28T06:50:47.734340Z"
    },
    "tags": []
   },
   "outputs": [],
   "source": [
    "plotting.inputs_plotting(\n",
    "    df_anomalies,\n",
    "    bed,\n",
    "    buffer_region=buffer_region,\n",
    "    inversion_region=inversion_region,\n",
    "    robust=True,\n",
    "    # points = constraints,\n",
    "    # points_style = \"c0.05c\",\n",
    ")"
   ]
  },
  {
   "attachments": {},
   "cell_type": "markdown",
   "id": "81cf3651-c685-448f-9193-fa584400883a",
   "metadata": {},
   "source": [
    "# Constraints grid\n"
   ]
  },
  {
   "cell_type": "code",
   "execution_count": null,
   "id": "f1ffd954-1d95-4eec-a0b4-f4291abccb76",
   "metadata": {
    "execution": {
     "iopub.execute_input": "2023-03-28T06:51:09.460688Z",
     "iopub.status.busy": "2023-03-28T06:51:09.460425Z",
     "iopub.status.idle": "2023-03-28T06:51:09.488266Z",
     "shell.execute_reply": "2023-03-28T06:51:09.487824Z",
     "shell.execute_reply.started": "2023-03-28T06:51:09.460671Z"
    },
    "tags": []
   },
   "outputs": [],
   "source": [
    "# starting_prisms = copy.deepcopy(bed_prisms)\n",
    "\n",
    "# weights, min_dist = inv_utils.constraints_grid(\n",
    "#     constraints,\n",
    "#     starting_prisms,\n",
    "#     inner_bound=5e3,\n",
    "#     outer_bound=20e3,\n",
    "#     low=0,\n",
    "#     high=1,\n",
    "#     region=inversion_region,\n",
    "#     interp_type=\"spline\",\n",
    "#     efficient_interp=True,\n",
    "#     # tension_factor = .9,\n",
    "#     # plot = True,\n",
    "# )"
   ]
  },
  {
   "cell_type": "code",
   "execution_count": null,
   "id": "ab3ab1a3",
   "metadata": {
    "execution": {
     "iopub.execute_input": "2023-03-28T06:51:09.489201Z",
     "iopub.status.busy": "2023-03-28T06:51:09.488867Z",
     "iopub.status.idle": "2023-03-28T06:51:09.613596Z",
     "shell.execute_reply": "2023-03-28T06:51:09.613170Z",
     "shell.execute_reply.started": "2023-03-28T06:51:09.489185Z"
    },
    "tags": []
   },
   "outputs": [],
   "source": [
    "# starting_prisms[\"weights\"] = weights\n",
    "# starting_prisms[\"min_dist\"] = min_dist\n",
    "# starting_prisms"
   ]
  },
  {
   "cell_type": "code",
   "execution_count": null,
   "id": "92de213d-f1be-4704-a689-c37b00d2bd45",
   "metadata": {
    "execution": {
     "iopub.execute_input": "2023-03-28T06:51:09.614426Z",
     "iopub.status.busy": "2023-03-28T06:51:09.614169Z",
     "iopub.status.idle": "2023-03-28T06:51:09.790220Z",
     "shell.execute_reply": "2023-03-28T06:51:09.789798Z",
     "shell.execute_reply.started": "2023-03-28T06:51:09.614410Z"
    },
    "tags": []
   },
   "outputs": [],
   "source": [
    "# starting_prisms.weights.plot(cmap=\"Blues\")"
   ]
  },
  {
   "cell_type": "code",
   "execution_count": null,
   "id": "53d7c5fc-b3eb-4029-a418-169de35b28d7",
   "metadata": {
    "execution": {
     "iopub.execute_input": "2023-03-28T06:51:09.791054Z",
     "iopub.status.busy": "2023-03-28T06:51:09.790788Z",
     "iopub.status.idle": "2023-03-28T06:51:09.949841Z",
     "shell.execute_reply": "2023-03-28T06:51:09.949422Z",
     "shell.execute_reply.started": "2023-03-28T06:51:09.791037Z"
    },
    "tags": []
   },
   "outputs": [],
   "source": [
    "# starting_prisms.min_dist.plot(cmap=\"Blues\")"
   ]
  },
  {
   "cell_type": "markdown",
   "id": "5001c286-5558-43d7-8f11-08b05c5d1463",
   "metadata": {},
   "source": [
    "### Save to Zarr"
   ]
  },
  {
   "cell_type": "code",
   "execution_count": null,
   "id": "63e2b030-c54c-49d0-aa46-6c23ca382ef0",
   "metadata": {
    "execution": {
     "iopub.execute_input": "2023-03-28T06:51:09.950652Z",
     "iopub.status.busy": "2023-03-28T06:51:09.950408Z",
     "iopub.status.idle": "2023-03-28T06:51:10.126309Z",
     "shell.execute_reply": "2023-03-28T06:51:10.125888Z",
     "shell.execute_reply.started": "2023-03-28T06:51:09.950636Z"
    },
    "tags": []
   },
   "outputs": [],
   "source": [
    "# enc = {x: {\"compressor\": zarr.Blosc()} for x in starting_prisms}\n",
    "# starting_prisms.to_zarr(\n",
    "#     f\"inversion_layers/RIS_starting_prisms_{int(layer_spacing)}k_constraints.zarr\",\n",
    "#     encoding=enc,\n",
    "#     mode=\"w\",\n",
    "# )"
   ]
  },
  {
   "cell_type": "code",
   "execution_count": null,
   "id": "766f928d-fc93-4231-bd2c-f5c7c3cfbbf9",
   "metadata": {
    "execution": {
     "iopub.execute_input": "2023-03-28T06:51:10.127122Z",
     "iopub.status.busy": "2023-03-28T06:51:10.126874Z",
     "iopub.status.idle": "2023-03-28T06:51:10.277186Z",
     "shell.execute_reply": "2023-03-28T06:51:10.276752Z",
     "shell.execute_reply.started": "2023-03-28T06:51:10.127107Z"
    },
    "tags": []
   },
   "outputs": [],
   "source": [
    "starting_prisms = xr.open_zarr(\n",
    "    f\"inversion_layers/RIS_starting_prisms_{int(layer_spacing)}k_constraints.zarr\"\n",
    ")"
   ]
  },
  {
   "cell_type": "code",
   "execution_count": null,
   "id": "1852e672-dabe-4dc0-a002-440efdfa9c14",
   "metadata": {
    "execution": {
     "iopub.execute_input": "2023-03-28T06:51:10.278016Z",
     "iopub.status.busy": "2023-03-28T06:51:10.277768Z"
    },
    "tags": []
   },
   "outputs": [],
   "source": [
    "fig = maps.plot_grd(\n",
    "    starting_prisms.weights,\n",
    "    fig_height=10,\n",
    "    title=\"Weighting grid\",\n",
    "    cbar_label=\"weights\",\n",
    "    cmap=\"dense\",\n",
    "    # points=constraints.rename(columns={\"easting\": \"x\", \"northing\": \"y\"}),\n",
    "    points_style=\"c0.05c\",\n",
    ")\n",
    "fig = maps.plot_grd(\n",
    "    starting_prisms.min_dist,\n",
    "    fig=fig,\n",
    "    origin_shift=\"xshift\",\n",
    "    title=\"Minumum distance to constraints\",\n",
    "    cbar_label=\"m\",\n",
    "    cmap=\"viridis\",\n",
    "    # points=constraints.rename(columns={\"easting\": \"x\", \"northing\": \"y\"}),\n",
    "    points_style=\"c0.05c\",\n",
    ")\n",
    "\n",
    "fig.show()"
   ]
  },
  {
   "cell_type": "markdown",
   "id": "89aa7c4b",
   "metadata": {},
   "source": [
    "# Geo inversion"
   ]
  },
  {
   "cell_type": "code",
   "execution_count": null,
   "id": "1333acc0",
   "metadata": {
    "execution": {
     "iopub.execute_input": "2023-03-28T07:09:16.530888Z",
     "iopub.status.busy": "2023-03-28T07:09:16.530608Z",
     "iopub.status.idle": "2023-03-28T07:14:04.468112Z",
     "shell.execute_reply": "2023-03-28T07:14:04.467476Z",
     "shell.execute_reply.started": "2023-03-28T07:09:16.530870Z"
    },
    "tags": []
   },
   "outputs": [],
   "source": [
    "no_weights_results = inv.geo_inversion(\n",
    "    input_grav=df_anomalies,\n",
    "    input_grav_column=\"Gobs_corr_shift\",\n",
    "    prism_layer=starting_prisms,\n",
    "    # apply_weights = True,\n",
    "    max_iterations=2,\n",
    "    l2_norm_tolerance=0.2,  # 0.01, #.2,\n",
    "    delta_l2_norm_tolerance=0.8,  # =.1, #.8,\n",
    "    perc_increase_limit=0.2,  # 1000, #.2,\n",
    "    upper_confining_layer=icebase_layer_spacing,\n",
    "    deriv_type=\"annulus\",\n",
    "    # deriv_type = \"prisms\",\n",
    "    solver_type=\"scipy least squares\",\n",
    "    # solver_type = \"gauss newton\",\n",
    "    # solver_type = \"verde least squares\",\n",
    "    solver_damping=0.1,\n",
    "    # solver_damping = 1000\n",
    "    # save_results=True,\n",
    "    # fname_prefix= \"results/no_weights_mask\",\n",
    ")"
   ]
  },
  {
   "cell_type": "code",
   "execution_count": null,
   "id": "0027e9a9-36f4-4bd7-9564-7752a7c29846",
   "metadata": {
    "execution": {
     "iopub.execute_input": "2023-03-28T07:14:04.469574Z",
     "iopub.status.busy": "2023-03-28T07:14:04.469327Z",
     "iopub.status.idle": "2023-03-28T07:14:09.529995Z",
     "shell.execute_reply": "2023-03-28T07:14:09.529459Z",
     "shell.execute_reply.started": "2023-03-28T07:14:04.469556Z"
    },
    "tags": []
   },
   "outputs": [],
   "source": [
    "# prism_results, grav_results, params, elapsed_time = no_weights_results\n",
    "prism_results = \"results/no_weights_mask_prism_results.csv.gz\"\n",
    "grav_results = \"results/no_weights_mask_gravity_results.csv.gz\"\n",
    "params = \"results/no_weights_mask_parameters.npy\"\n",
    "\n",
    "no_weights_grids = plotting.plot_inversion_results(\n",
    "    grav_results,\n",
    "    prism_results,\n",
    "    params,\n",
    "    grav_region=inversion_region,\n",
    "    grav_spacing=layer_spacing,\n",
    "    constraints=constraints,\n",
    "    # plot_iter_results=False\n",
    "    # plot_topo_results=False,\n",
    "    plot_grav_results=False,\n",
    "    iters_to_plot=2,\n",
    "    shp_mask=\"plotting/RIS_outline.shp\",\n",
    "    misfit_cmap_perc=0.2,\n",
    "    topo_cmap_perc=0.8,\n",
    "    corrections_cmap_perc=0.2,\n",
    ")\n",
    "no_weights_final_topo = no_weights_grids[1][-1]\n",
    "no_weights_topo_diff = (\n",
    "    bed.rename({\"x\": \"easting\", \"y\": \"northing\"}) - no_weights_final_topo\n",
    ")"
   ]
  },
  {
   "cell_type": "code",
   "execution_count": null,
   "id": "2e947319-ee48-4db4-9ada-756352ae5550",
   "metadata": {
    "tags": []
   },
   "outputs": [],
   "source": [
    "dif = no_weights_topo_diff\n",
    "dif = utils.mask_from_shp(\n",
    "    \"plotting/RIS_outline.shp\",\n",
    "    xr_grid=dif,\n",
    "    masked=True,\n",
    "    invert=False,\n",
    ")\n",
    "fig = maps.plot_grd(\n",
    "    dif,\n",
    "    points=constraints.rename(columns={\"easting\": \"x\", \"northing\": \"y\"}),\n",
    "    cmap=\"vik+h0\",\n",
    "    points_style=\"c0.05c\",\n",
    "    # grd2cpt=True,\n",
    "    hist=True,\n",
    "    title=\"total inversion correction, no weights\",\n",
    "    cbar_unit=\"m\",\n",
    "    robust=True,\n",
    ")\n",
    "fig.show()"
   ]
  },
  {
   "cell_type": "code",
   "execution_count": null,
   "id": "f74cb3da-d5d3-419d-9509-a502bd6924f7",
   "metadata": {
    "tags": []
   },
   "outputs": [],
   "source": [
    "fig = maps.plot_grd(\n",
    "    no_weights_final_topo,\n",
    "    points=constraints.rename(columns={\"easting\": \"x\", \"northing\": \"y\"}),\n",
    "    cmap=\"rain\",\n",
    "    reverse_cpt=True,\n",
    "    points_style=\"c0.05c\",\n",
    "    grd2cpt=True,\n",
    "    cpt_lims=[-1200, 0],\n",
    "    hist=True,\n",
    "    title=\"final topography, no weights\",\n",
    "    cbar_unit=\"m\",\n",
    "    # robust=True,\n",
    ")\n",
    "fig.show()"
   ]
  },
  {
   "cell_type": "code",
   "execution_count": null,
   "id": "3adf4191",
   "metadata": {
    "tags": []
   },
   "outputs": [],
   "source": [
    "dif = no_weights_final_topo - bedmachine_bed\n",
    "dif = utils.mask_from_shp(\n",
    "    \"plotting/RIS_outline.shp\",\n",
    "    xr_grid=dif,\n",
    "    masked=True,\n",
    "    invert=False,\n",
    ")\n",
    "fig = maps.plot_grd(\n",
    "    dif,\n",
    "    points=constraints.rename(columns={\"easting\": \"x\", \"northing\": \"y\"}),\n",
    "    cmap=\"vik+h0\",\n",
    "    points_style=\"c0.05c\",\n",
    "    # grd2cpt=True,\n",
    "    # cpt_lims=[-200, 200],\n",
    "    hist=True,\n",
    "    title=\"difference with bedmachine, no weights\",\n",
    "    cbar_unit=\"m\",\n",
    "    robust=True,\n",
    ")\n",
    "fig.show()"
   ]
  },
  {
   "cell_type": "code",
   "execution_count": null,
   "id": "808f5528-9d5a-45ad-aaec-f2832d624457",
   "metadata": {
    "tags": []
   },
   "outputs": [],
   "source": [
    "dif = no_weights_final_topo - bedmap_bed\n",
    "dif = utils.mask_from_shp(\n",
    "    \"plotting/RIS_outline.shp\",\n",
    "    xr_grid=dif,\n",
    "    masked=True,\n",
    "    invert=False,\n",
    ")\n",
    "fig = maps.plot_grd(\n",
    "    dif,\n",
    "    points=constraints.rename(columns={\"easting\": \"x\", \"northing\": \"y\"}),\n",
    "    cmap=\"vik+h0\",\n",
    "    points_style=\"c0.05c\",\n",
    "    # grd2cpt=True,\n",
    "    # cpt_lims=[-200, 200],\n",
    "    hist=True,\n",
    "    title=\"difference with bedmap, no weights\",\n",
    "    cbar_unit=\"m\",\n",
    "    robust=True,\n",
    ")\n",
    "fig.show()"
   ]
  },
  {
   "cell_type": "code",
   "execution_count": null,
   "id": "4c6240b6",
   "metadata": {
    "execution": {
     "iopub.execute_input": "2023-03-28T07:14:09.530976Z",
     "iopub.status.busy": "2023-03-28T07:14:09.530732Z",
     "iopub.status.idle": "2023-03-28T07:19:30.936733Z",
     "shell.execute_reply": "2023-03-28T07:19:30.935986Z",
     "shell.execute_reply.started": "2023-03-28T07:14:09.530959Z"
    },
    "tags": []
   },
   "outputs": [],
   "source": [
    "with_weights_results = inv.geo_inversion(\n",
    "    input_grav=df_anomalies,\n",
    "    input_grav_column=\"Gobs_corr_shift\",\n",
    "    prism_layer=starting_prisms,\n",
    "    apply_weights=True,\n",
    "    max_iterations=20,\n",
    "    l2_norm_tolerance=0.2,  # 0.01, #.2,\n",
    "    delta_l2_norm_tolerance=0.8,  # .1, #.8,\n",
    "    perc_increase_limit=0.2,  # 1000, #.2,\n",
    "    upper_confining_layer=icebase_layer_spacing,\n",
    "    # max_layer_change_per_iter = 0.0,\n",
    "    deriv_type=\"annulus\",\n",
    "    # deriv_type = \"prisms\",\n",
    "    solver_type=\"scipy least squares\",\n",
    "    # solver_type = \"gauss newton\",\n",
    "    # solver_type = \"verde least squares\",\n",
    "    solver_damping=0.1,\n",
    "    # solver_damping = 1000\n",
    "    save_results=True,\n",
    "    fname_prefix=\"results/weights_mask\",\n",
    ")"
   ]
  },
  {
   "cell_type": "code",
   "execution_count": null,
   "id": "d385d4d0",
   "metadata": {
    "execution": {
     "iopub.execute_input": "2023-03-28T07:19:30.938762Z",
     "iopub.status.busy": "2023-03-28T07:19:30.938467Z",
     "iopub.status.idle": "2023-03-28T07:19:35.861730Z",
     "shell.execute_reply": "2023-03-28T07:19:35.861194Z",
     "shell.execute_reply.started": "2023-03-28T07:19:30.938744Z"
    },
    "tags": []
   },
   "outputs": [],
   "source": [
    "# prism_results, grav_results, params, elapsed_time = with_weights_results\n",
    "prism_results = \"results/weights_mask_prism_results.csv.gz\"\n",
    "grav_results = \"results/weights_mask_gravity_results.csv.gz\"\n",
    "params = \"results/weights_mask_parameters.npy\"\n",
    "\n",
    "with_weights_grids = plotting.plot_inversion_results(\n",
    "    grav_results,\n",
    "    prism_results,\n",
    "    params,\n",
    "    grav_region=inversion_region,\n",
    "    grav_spacing=layer_spacing,\n",
    "    constraints=constraints,\n",
    "    # plot_iter_results=False\n",
    "    # plot_topo_results=False,\n",
    "    plot_grav_results=False,\n",
    "    iters_to_plot=2,\n",
    "    shp_mask=\"plotting/RIS_outline.shp\",\n",
    "    misfit_cmap_perc=0.2,\n",
    "    topo_cmap_perc=0.8,\n",
    "    corrections_cmap_perc=0.2,\n",
    ")\n",
    "with_weights_final_topo = with_weights_grids[1][-1]\n",
    "with_weights_topo_diff = (\n",
    "    bed.rename({\"x\": \"easting\", \"y\": \"northing\"}) - with_weights_final_topo\n",
    ")"
   ]
  },
  {
   "cell_type": "code",
   "execution_count": null,
   "id": "c05f452e",
   "metadata": {},
   "outputs": [],
   "source": [
    "maps.plot_grd(\n",
    "    with_weights_final_topo,\n",
    "    region=utils.alter_region(regions.minna_bluff, zoom=-200e3)[0],\n",
    "    hist=True,\n",
    "    cmap=\"viridis\",\n",
    "    # reverse_cpt=True,\n",
    "    coast=True,\n",
    "    inset=True,\n",
    "    robust=True,\n",
    "    cpt_lims=[-1000, 0],\n",
    ")"
   ]
  },
  {
   "cell_type": "code",
   "execution_count": null,
   "id": "5042e786",
   "metadata": {},
   "outputs": [],
   "source": []
  },
  {
   "cell_type": "code",
   "execution_count": null,
   "id": "9dd6012b-89cb-4ff8-864a-af7998d4e922",
   "metadata": {
    "tags": []
   },
   "outputs": [],
   "source": [
    "dif = with_weights_topo_diff\n",
    "dif = utils.mask_from_shp(\n",
    "    \"plotting/RIS_outline.shp\",\n",
    "    xr_grid=dif,\n",
    "    masked=True,\n",
    "    invert=False,\n",
    ")\n",
    "fig = maps.plot_grd(\n",
    "    dif,\n",
    "    points=constraints.rename(columns={\"easting\": \"x\", \"northing\": \"y\"}),\n",
    "    cmap=\"vik+h0\",\n",
    "    points_style=\"c0.05c\",\n",
    "    # grd2cpt=True,\n",
    "    hist=True,\n",
    "    title=\"total inversion correction, with weights\",\n",
    "    cbar_unit=\"m\",\n",
    "    robust=True,\n",
    ")\n",
    "fig.show()"
   ]
  },
  {
   "cell_type": "code",
   "execution_count": null,
   "id": "8bd991b4",
   "metadata": {
    "tags": []
   },
   "outputs": [],
   "source": [
    "fig = maps.plot_grd(\n",
    "    with_weights_final_topo,\n",
    "    points=constraints.rename(columns={\"easting\": \"x\", \"northing\": \"y\"}),\n",
    "    cmap=\"rain\",\n",
    "    reverse_cpt=True,\n",
    "    points_style=\"c0.05c\",\n",
    "    grd2cpt=True,\n",
    "    cpt_lims=[-1200, 0],\n",
    "    hist=True,\n",
    "    title=\"final topography, with weights\",\n",
    "    cbar_unit=\"m\",\n",
    "    # robust=True,\n",
    ")\n",
    "fig.show()"
   ]
  },
  {
   "cell_type": "code",
   "execution_count": null,
   "id": "54af3b54",
   "metadata": {
    "tags": []
   },
   "outputs": [],
   "source": [
    "dif = with_weights_final_topo - bedmachine_bed\n",
    "dif = utils.mask_from_shp(\n",
    "    \"plotting/RIS_outline.shp\",\n",
    "    xr_grid=dif,\n",
    "    masked=True,\n",
    "    invert=False,\n",
    ")\n",
    "fig = maps.plot_grd(\n",
    "    dif,\n",
    "    points=constraints.rename(columns={\"easting\": \"x\", \"northing\": \"y\"}),\n",
    "    cmap=\"vik+h0\",\n",
    "    points_style=\"c0.05c\",\n",
    "    # grd2cpt=True,\n",
    "    # cpt_lims=[-200, 200],\n",
    "    hist=True,\n",
    "    title=\"difference with bedmachine, with weights\",\n",
    "    cbar_unit=\"m\",\n",
    "    robust=True,\n",
    ")\n",
    "fig.show()"
   ]
  },
  {
   "cell_type": "code",
   "execution_count": null,
   "id": "fd4a0626",
   "metadata": {},
   "outputs": [],
   "source": [
    "# function to find the closest odd integer to a given number\n",
    "def closest_odd(x):\n",
    "    return int(np.ceil(x / 2.0) * 2 - 1)"
   ]
  },
  {
   "cell_type": "code",
   "execution_count": null,
   "id": "1ed2d57c-1bdb-43d9-944c-65c49d5e9453",
   "metadata": {
    "tags": []
   },
   "outputs": [],
   "source": [
    "dif = with_weights_final_topo - bedmap_bed\n",
    "dif = utils.mask_from_shp(\n",
    "    \"plotting/RIS_outline.shp\",\n",
    "    xr_grid=dif,\n",
    "    masked=True,\n",
    "    invert=False,\n",
    ")\n",
    "fig = maps.plot_grd(\n",
    "    dif,\n",
    "    points=constraints.rename(columns={\"easting\": \"x\", \"northing\": \"y\"}),\n",
    "    cmap=\"vik+h0\",\n",
    "    points_style=\"c0.05c\",\n",
    "    # grd2cpt=True,\n",
    "    # cpt_lims=[-200, 200],\n",
    "    hist=True,\n",
    "    title=\"difference with bedmap, with weights\",\n",
    "    cbar_unit=\"m\",\n",
    "    robust=True,\n",
    ")\n",
    "fig.show()"
   ]
  },
  {
   "cell_type": "code",
   "execution_count": null,
   "id": "4467c134",
   "metadata": {
    "tags": []
   },
   "outputs": [],
   "source": [
    "dif = no_weights_final_topo - with_weights_final_topo\n",
    "dif = utils.mask_from_shp(\n",
    "    \"plotting/RIS_outline.shp\",\n",
    "    xr_grid=dif,\n",
    "    masked=True,\n",
    "    invert=False,\n",
    ")\n",
    "fig = maps.plot_grd(\n",
    "    dif,\n",
    "    points=constraints.rename(columns={\"easting\": \"x\", \"northing\": \"y\"}),\n",
    "    cmap=\"vik+h0\",\n",
    "    points_style=\"c0.05c\",\n",
    "    # grd2cpt=True,\n",
    "    # cpt_lims=[-100, 100],\n",
    "    hist=True,\n",
    "    title=\"difference with and without weights\",\n",
    "    cbar_unit=\"m\",\n",
    "    robust=True,\n",
    ")\n",
    "fig.show()"
   ]
  },
  {
   "cell_type": "code",
   "execution_count": null,
   "id": "98382459",
   "metadata": {},
   "outputs": [],
   "source": [
    "# from ipyfastscape import TopoViz3d\n",
    "\n",
    "# ds2 = da2.to_dataset()\n",
    "\n",
    "# app = TopoViz3d(ds2, elevation_var=\"z\")\n",
    "\n",
    "# app.show()"
   ]
  },
  {
   "cell_type": "markdown",
   "id": "c3207e9c",
   "metadata": {},
   "source": [
    "# Density inversion"
   ]
  },
  {
   "cell_type": "code",
   "execution_count": null,
   "id": "d7350b41",
   "metadata": {},
   "outputs": [],
   "source": [
    "# density_inversion(\n",
    "# density_layer='bathymetry',\n",
    "# plot=True\n",
    "# )\n",
    "# 10mins, 200km zoom/5k, 3.5mins 400km zoom/5k (113x113 prisms, 33x33 grav)\n",
    "# notify"
   ]
  },
  {
   "cell_type": "markdown",
   "id": "ea4ec26e",
   "metadata": {},
   "source": [
    "# Cross sections"
   ]
  },
  {
   "cell_type": "code",
   "execution_count": null,
   "id": "ea4b24b4",
   "metadata": {},
   "outputs": [],
   "source": [
    "# lines = profile.draw_lines()"
   ]
  },
  {
   "cell_type": "code",
   "execution_count": null,
   "id": "99c1f18b",
   "metadata": {},
   "outputs": [],
   "source": [
    "# get clicked points\n",
    "# df = utils.shapes_to_df(lines)\n",
    "# # extract first and last\n",
    "# a = (df.x.iloc[0], df.y.iloc[0])\n",
    "# b = (df.x.iloc[-1], df.y.iloc[-1])"
   ]
  },
  {
   "cell_type": "code",
   "execution_count": null,
   "id": "ef9a19ca",
   "metadata": {},
   "outputs": [],
   "source": [
    "# # extract layers for profile plot\n",
    "# names = []\n",
    "# topo_grids = []\n",
    "# forward_grav_grids = []\n",
    "# for k, v in layers.items():\n",
    "#     names.append(k)\n",
    "#     topo_grids.append(v['grid'])\n",
    "#     forward_grav_grids.append(v['forward_grav_grid'])\n",
    "\n",
    "# layers_dict = profile.make_data_dict(\n",
    "#     names = names,\n",
    "#     grids = topo_grids,\n",
    "#     colors = [\"lightskyblue\",\"darkblue\",\"lightbrown\",\"chocolate\", \"darkolivegreen\"],\n",
    "# )\n",
    "\n",
    "# data_dict = profile.make_data_dict(\n",
    "#     names = names,\n",
    "#     grids = forward_grav_grids,\n",
    "#     colors = [\"red\",\"blue\",\"purple\",\"black\", \"magenta\"]\n",
    "#     )\n",
    "\n",
    "# # add dictionary entry for total forward gravity\n",
    "# data_dict[\"total\"] = {}\n",
    "# data_dict[\"total\"][\"name\"] = \"total\"\n",
    "# data_dict[\"total\"][\"grid\"] = forward_grav_total\n",
    "# data_dict[\"total\"][\"color\"] = \"forestgreen\"\n",
    "\n",
    "# a = (0, -641024)\n",
    "# b = (0, -1363968)\n",
    "\n",
    "# c = (-50e3, -750e3)#(-200e3, -925e3)\n",
    "# d = (50e3, -750e3)#(200e3, -925e3)"
   ]
  },
  {
   "cell_type": "code",
   "execution_count": null,
   "id": "df93d1f7",
   "metadata": {},
   "outputs": [],
   "source": [
    "# profile.plot_profile(\n",
    "#     \"points\",\n",
    "#     start=a,\n",
    "#     stop=b,\n",
    "#     num=1000,\n",
    "#     add_map=True,\n",
    "#     subplot_orientation='horizontal',\n",
    "#     data_dict=data_dict,\n",
    "#     layers_dict=layers_dict,\n",
    "#     share_yaxis=True,\n",
    "#     map_points=constraints_RIS_df,\n",
    "#     data_height=5,\n",
    "# )"
   ]
  },
  {
   "cell_type": "code",
   "execution_count": null,
   "id": "7ab63214",
   "metadata": {},
   "outputs": [],
   "source": [
    "# profile.plot_profile(\n",
    "#     \"points\",\n",
    "#     start=c,\n",
    "#     stop=d,\n",
    "#     num=1000,\n",
    "#     add_map=True,\n",
    "#     subplot_orientation='vertical',\n",
    "#     data_dict=data_dict,\n",
    "#     layers_dict=layers_dict,\n",
    "#     share_yaxis=True,\n",
    "#     inset_width=.15,\n",
    "#     map_points=constraints_RIS_df,\n",
    "#     data_height=5,\n",
    "# )"
   ]
  },
  {
   "cell_type": "code",
   "execution_count": null,
   "id": "a3ae88b1",
   "metadata": {},
   "outputs": [],
   "source": [
    "# anomalies_dict = profile.make_data_dict(\n",
    "#     names = [\"Observed\", \"Bouguer\", \"Forward total\", \"Misfit\", \"Regional misfit\", \"Residual misfit\"],\n",
    "#     grids = anom_grids,\n",
    "#     colors = [\"black\", \"turquoise\", \"red\", \"purple\", \"forestgreen\", \"blue\"]\n",
    "#     )\n",
    "\n",
    "# keys = [\"Observed\", \"Bouguer\"] # The keys you want\n",
    "# subset0 = dict((k, anomalies_dict[k]) for k in keys if k in anomalies_dict)\n",
    "\n",
    "# keys = [\"Bouguer\", \"Forward total\", \"Misfit\",] # The keys you want\n",
    "# subset1 = dict((k, anomalies_dict[k]) for k in keys if k in anomalies_dict)\n",
    "\n",
    "# keys = [\"Misfit\", \"Regional misfit\", \"Residual misfit\"] # The keys you want\n",
    "# subset2 = dict((k, anomalies_dict[k]) for k in keys if k in anomalies_dict)\n",
    "\n",
    "# a = (0, -641024)\n",
    "# b = (0, -1363968)\n",
    "\n",
    "# c = (-50e3, -750e3)#(-200e3, -925e3)\n",
    "# d = (50e3, -750e3)#(200e3, -925e3)"
   ]
  },
  {
   "cell_type": "code",
   "execution_count": null,
   "id": "c0a56f87",
   "metadata": {},
   "outputs": [],
   "source": [
    "# profile.plot_profile(\n",
    "#     \"points\",\n",
    "#     start=a,\n",
    "#     stop=b,\n",
    "#     num=1000,\n",
    "#     add_map=True,\n",
    "#     subplot_orientation='horizontal',\n",
    "#     data_dict=subset0,\n",
    "#     layers_dict=layers_dict,\n",
    "#     share_yaxis=True,\n",
    "#     map_points=constraints_RIS_df,\n",
    "#     data_height=5,\n",
    "# )\n",
    "\n",
    "# profile.plot_profile(\n",
    "#     \"points\",\n",
    "#     start=a,\n",
    "#     stop=b,\n",
    "#     num=1000,\n",
    "#     add_map=True,\n",
    "#     subplot_orientation='horizontal',\n",
    "#     data_dict=subset1,\n",
    "#     layers_dict=layers_dict,\n",
    "#     share_yaxis=True,\n",
    "#     map_points=constraints_RIS_df,\n",
    "#     data_height=5,\n",
    "# )\n",
    "\n",
    "# profile.plot_profile(\n",
    "#     \"points\",\n",
    "#     start=a,\n",
    "#     stop=b,\n",
    "#     num=1000,\n",
    "#     add_map=True,\n",
    "#     subplot_orientation='horizontal',\n",
    "#     data_dict=subset2,\n",
    "#     layers_dict=layers_dict,\n",
    "#     share_yaxis=True,\n",
    "#     map_points=constraints_RIS_df,\n",
    "#     data_height=5,\n",
    "# )\n",
    "\n",
    "# just the data\n",
    "# profile.plot_data(\n",
    "#     \"points\",\n",
    "#     start=a,\n",
    "#     stop=b,\n",
    "#     num=1000,\n",
    "#     data_dict=subset2,\n",
    "#     share_yaxis=True,\n",
    "# )"
   ]
  },
  {
   "cell_type": "code",
   "execution_count": null,
   "id": "10516687",
   "metadata": {
    "tags": []
   },
   "outputs": [],
   "source": [
    "# profile.plot_profile(\n",
    "#     \"points\",\n",
    "#     start=c,\n",
    "#     stop=d,\n",
    "#     num=1000,\n",
    "#     add_map=True,\n",
    "#     subplot_orientation='vertical',\n",
    "#     data_dict=subset0,\n",
    "#     layers_dict=layers_dict,\n",
    "#     share_yaxis=True,\n",
    "#     inset_width=.15,\n",
    "#     map_points=constraints_RIS_df,\n",
    "#     data_height=5,\n",
    "# )\n",
    "\n",
    "# profile.plot_profile(\n",
    "#     \"points\",\n",
    "#     start=c,\n",
    "#     stop=d,\n",
    "#     num=1000,\n",
    "#     add_map=True,\n",
    "#     subplot_orientation='vertical',\n",
    "#     data_dict=subset1,\n",
    "#     layers_dict=layers_dict,\n",
    "#     share_yaxis=True,\n",
    "#     inset_width=.15,\n",
    "#     map_points=constraints_RIS_df,\n",
    "#     data_height=5,\n",
    "# )\n",
    "\n",
    "# profile.plot_profile(\n",
    "#     \"points\",\n",
    "#     start=c,\n",
    "#     stop=d,\n",
    "#     num=1000,\n",
    "#     add_map=True,\n",
    "#     subplot_orientation='vertical',\n",
    "#     data_dict=subset2,\n",
    "#     layers_dict=layers_dict,\n",
    "#     share_yaxis=True,\n",
    "#     inset_width=.15,\n",
    "#     map_points=constraints_RIS_df,\n",
    "#     data_height=5,\n",
    "# )"
   ]
  }
 ],
 "metadata": {
  "kernelspec": {
   "display_name": "Python 3 (ipykernel)",
   "language": "python",
   "name": "python3"
  },
  "language_info": {
   "codemirror_mode": {
    "name": "ipython",
    "version": 3
   },
   "file_extension": ".py",
   "mimetype": "text/x-python",
   "name": "python",
   "nbconvert_exporter": "python",
   "pygments_lexer": "ipython3",
   "version": "3.10.9"
  },
  "toc-autonumbering": false,
  "toc-showcode": false,
  "toc-showmarkdowntxt": false,
  "toc-showtags": false,
  "vscode": {
   "interpreter": {
    "hash": "be5ed6196e54cd5072f7416641aebafb9cc46c9e9ac253365d503760856c4c67"
   }
  }
 },
 "nbformat": 4,
 "nbformat_minor": 5
}
