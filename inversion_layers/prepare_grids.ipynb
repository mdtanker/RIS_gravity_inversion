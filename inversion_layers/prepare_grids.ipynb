{
 "cells": [
  {
   "cell_type": "markdown",
   "metadata": {},
   "source": [
    "# Prepare grids for gravity inversion"
   ]
  },
  {
   "cell_type": "code",
   "execution_count": 1,
   "metadata": {},
   "outputs": [
    {
     "data": {
      "text/plain": [
       "'/Users/home/tankerma/RIS_gravity_inversion/inversion_layers'"
      ]
     },
     "execution_count": 1,
     "metadata": {},
     "output_type": "execute_result"
    }
   ],
   "source": [
    "import pygmt\n",
    "import pandas as pd\n",
    "import numpy as np\n",
    "import matplotlib.pyplot as plt\n",
    "\n",
    "import os\n",
    "os.getcwd()"
   ]
  },
  {
   "cell_type": "code",
   "execution_count": 2,
   "metadata": {},
   "outputs": [],
   "source": [
    "figheight=90 # in mm\n",
    "\"\"\"\n",
    "# for Ross Embayment\n",
    "ris_xl= -760_000\n",
    "ris_yl= -2_200_000 #N extent\n",
    "ris_xh= 600_000\n",
    "ris_yh= -350_000 #S extent\n",
    "\"\"\"\n",
    "# for RIS only\n",
    "ris_xl=-960_000\n",
    "ris_xh=800_000\n",
    "ris_yl=-1_800_000\n",
    "ris_yh=-40_000\n",
    "\n",
    "figwidth=figheight*(ris_xh-ris_xl)/(ris_yh-ris_yl)\n",
    "risratio = (ris_yh - ris_yl) / (figheight/1000)\n",
    "risreg = str(ris_xl) + '/' + str(ris_xh) + '/' + str(ris_yl) + '/' + str(ris_yh) #W/E/S/N\n",
    "risproj = \"x1:\" + str(risratio)\n",
    "antreg = \"-3330000/1900000/-3330000/1850000\"\n",
    "risproj_ll = \"s0/-90/-71/1:\" + str(risratio)\n",
    "\n",
    "def make_fig():\n",
    "    global fig, pos_str\n",
    "    fig = pygmt.Figure()\n",
    "    with pygmt.config(MAP_FRAME_TYPE = 'inside'):\n",
    "        fig.coast(region = risreg, projection = risproj_ll, land = 'white', water = 'white', frame = [\"nwse\", \"xf100000\", \"yf100000\", \"g0\"],verbose='e')\n",
    "    # set colorbar params\n",
    "    barwidth = figwidth/10 * 0.4 # color bar width is 40% of the map width, in cm\n",
    "    pos_str = 'jTL+w' + str(barwidth) + 'c+jTL+o1c/0.5c+h+ml+e'\n",
    "    # with pygmt.config(FONT_ANNOT_PRIMARY = '4p,white', FONT_LABEL = '6p,white', \n",
    "    #                   MAP_ANNOT_MIN_SPACING = '0p', MAP_ANNOT_OFFSET_PRIMARY = '0.5p', MAP_TICK_PEN_PRIMARY = '0.4p,white', \n",
    "    #                   MAP_TICK_LENGTH_PRIMARY = '2p', MAP_FRAME_PEN = '0.3p,white', MAP_LABEL_OFFSET = '4p')\n"
   ]
  },
  {
   "cell_type": "code",
   "execution_count": null,
   "metadata": {},
   "outputs": [],
   "source": [
    "!gmt grdsample -R-760000/600000/-1600000/-240000 -I20e3 ROSETTA_gravity.nc -GROSETTA_gravity_20k.nc\n",
    "!gmt grdsample -R-760000/600000/-1600000/-240000 -I20e3 BedMachine_surface_5k_filled.nc -GBedMachine_surface_filled_20k.nc\n",
    "!gmt grdsample -R-760000/600000/-1600000/-240000 -I20e3 BedMachine_icebase_5k_filled.nc -GBedMachine_icebase_filled_20k.nc\n",
    "!gmt grdsample -R-760000/600000/-1600000/-240000 -I20e3 BedMachine_bed_5k.nc -GBedMachine_bed_20k.nc \n",
    "!gmt grdsample -R-760000/600000/-1600000/-240000 -I20e3 ROSETTA_basement_BedMachine_bed.nc -GROSETTA_basement_BedMachine_bed_20k.nc \n",
    "\n",
    "!gmt grd2xyz -R-760000/600000/-1600000/-240000 ROSETTA_gravity_20k.nc > ROSETTA_gravity_20k.csv\n",
    "!gmt grd2xyz -R-760000/600000/-1600000/-240000 BedMachine_surface_filled_20k.nc > BedMachine_surface_filled_20k.csv\n",
    "!gmt grd2xyz -R-760000/600000/-1600000/-240000 BedMachine_icebase_filled_20k.nc > BedMachine_icebase_filled_20k.csv\n",
    "!gmt grd2xyz -R-760000/600000/-1600000/-240000 BedMachine_bed_20k.nc > BedMachine_bed_20k.csv\n",
    "!gmt grd2xyz -R-760000/600000/-1600000/-240000 ROSETTA_basement_BedMachine_bed_20k.nc > ROSETTA_basement_BedMachine_bed_20k.csv"
   ]
  },
  {
   "cell_type": "markdown",
   "metadata": {},
   "source": [
    "ANTASed Model"
   ]
  },
  {
   "cell_type": "code",
   "execution_count": null,
   "metadata": {},
   "outputs": [],
   "source": [
    "\n",
    "file ='D:/Datasets/ANTASed/0.1_lim_b.dat'\n",
    "df = pd.read_csv(file, header=None, \n",
    "                delim_whitespace=True, \n",
    "                names=['x_100km', 'y_100km', 'thick_km'])\n",
    "\n",
    "df['x'], df['y'], df['thick'] = df.x_100km*100000, df.y_100km*100000, df.thick_km*1000\n",
    "\n",
    "pygmt.xyz2grd(data=df[['x','y','thick']], region=antreg, spacing = 10e3, outgrid='D:/Datasets/ANTASed/ANTASed_thick.nc')"
   ]
  },
  {
   "cell_type": "code",
   "execution_count": null,
   "metadata": {},
   "outputs": [],
   "source": [
    "!gmt grdsample D:/Datasets/ANTASed/ANTASed_thick.nc -R-1060000/900000/-1900000/60000 -r -I10000+e -GD:/Datasets/ANTASed/ANTASed_thick_10k.nc\n",
    "!gmt grdsample bedmachine/BedMachine_bed_5k.nc -R-1060000/900000/-1900000/60000 -r -I10000+e -Gbedmachine/BedMachine_bed_10k.nc\n",
    "!gmt grdmath -Df bedmachine/BedMachine_bed_10k.nc D:/Datasets/ANTASed/ANTASed_thick_10k.nc SUB = D:/Datasets/ANTASed/ANTASed_basement.nc\n",
    "!gmt grdinfo D:/Datasets/ANTASed/ANTASed_basement.nc"
   ]
  },
  {
   "cell_type": "code",
   "execution_count": null,
   "metadata": {},
   "outputs": [],
   "source": [
    "make_fig()\n",
    "fig.grdimage(grid='D:/Datasets/ANTASed/ANTASed_basement.nc', cmap='viridis', projection=risproj, region=risreg)\n",
    "fig.colorbar(cmap = True, position = pos_str,frame = 'xa3000+l\"ANTASed basement elevation [km]\"') #, box = '+gblack+p0.5p,black+c3p')\n",
    "fig.show()"
   ]
  },
  {
   "cell_type": "code",
   "execution_count": null,
   "metadata": {},
   "outputs": [],
   "source": [
    "!gmt grdsample Ross_Embayment_basement_filt.nc -I10000+e -R-1060000/900000/-1900000/60000 -GRoss_Embayment_basement_filt_resample.nc\n",
    "!gmt grdblend Ross_Embayment_basement_filt_resample.nc D:/Datasets/ANTASed/ANTASed_basement.nc -Cf -GANTASed_mag_basement_merged.nc\n",
    "!gmt grdinfo ANTASed_mag_basement_merged.nc"
   ]
  },
  {
   "cell_type": "code",
   "execution_count": null,
   "metadata": {},
   "outputs": [],
   "source": [
    "make_fig()\n",
    "fig.grdimage(grid='ANTASed_mag_basement_merged.nc', cmap='viridis', projection=risproj, region=risreg)\n",
    "fig.colorbar(cmap = True, position = pos_str,frame = 'xa3000+l\"ANTASed basement elevation [km]\"') #, box = '+gblack+p0.5p,black+c3p')\n",
    "fig.show()"
   ]
  },
  {
   "cell_type": "code",
   "execution_count": null,
   "metadata": {},
   "outputs": [],
   "source": [
    "!gmt grd2xyz Ross_Embayment_basement_filt.nc -s > Ross_Embayment_basement_filt.xyz\n",
    "pygmt.surface(data = 'Ross_Embayment_basement_filt.xyz', \n",
    "              spacing='10000+e', \n",
    "              region='-1060000/900000/-1900000/60000',\n",
    "              M='10c',\n",
    "              outgrid='RE_basement_buffer.nc', verbose='e') \n",
    "!gmt grdsample Ross_Embayment_basement_filt.nc -I10000+e -R-1060000/900000/-1900000/60000 -rp -GRoss_Embayment_basement_filt_resample.nc\n",
    "!gmt grdsample RE_basement_buffer.nc -I10000+e -R-1060000/900000/-1900000/60000 -rp -GRE_basement_buffer.nc\n",
    "!gmt grdmath -Df RE_basement_buffer.nc ISNAN = RE_basement_buffer_mask.nc\n",
    "\n",
    "!gmt grdmath -Df RE_basement_buffer_mask.nc D:/Datasets/ANTASed/ANTASed_basement.nc MUL = D:/Datasets/ANTASed/ANTASed_basement_buffer.nc\n",
    "!gmt grdmath D:/Datasets/ANTASed/ANTASed_basement_buffer.nc 0 NAN = D:/Datasets/ANTASed/ANTASed_basement_buffer_mask.nc\n",
    "!gmt grdblend Ross_Embayment_basement_filt_resample.nc D:/Datasets/ANTASed/ANTASed_basement_buffer_mask.nc -Cf -GANTASed_mag_basement.nc\n",
    "# interpolated gap in QGIS with GRASS r.fillnulls -> ANTASed_mag_basement_filled.nc\n",
    "!gmt grdinfo ANTASed_mag_basement.nc"
   ]
  },
  {
   "cell_type": "code",
   "execution_count": null,
   "metadata": {},
   "outputs": [],
   "source": [
    "make_fig()\n",
    "fig.grdimage(grid='ANTASed_mag_basement_filled.nc', cmap='viridis', projection=risproj, region=risreg)\n",
    "fig.colorbar(cmap = True, position = pos_str,frame = 'xa3000+l\"ANTASed basement elevation [km]\"') #, box = '+gblack+p0.5p,black+c3p')\n",
    "fig.show()"
   ]
  },
  {
   "cell_type": "markdown",
   "metadata": {
    "tags": []
   },
   "source": [
    "## SURFACE"
   ]
  },
  {
   "cell_type": "markdown",
   "metadata": {},
   "source": [
    "#### Bedmap2 surface, NaN's set to 0"
   ]
  },
  {
   "cell_type": "code",
   "execution_count": 19,
   "metadata": {},
   "outputs": [],
   "source": [
    "fname='/Volumes/arc_04/tankerma/Datasets/bedmap2/bedmap2_tiff/bedmap2_surface.tif'\n",
    "fname2='/Volumes/arc_04/tankerma/Datasets/bedmap2/bedmap2_tiff/gl04c_geiod_to_WGS84.tif'\n",
    "# not sure if should conver to WGS than fill nans with 0, or vice-versa\n",
    "!gmt grdmath {fname} {fname2} ADD = bedmap2_surface_WGS84.nc\n",
    "!gmt grdmath bedmap2_surface_WGS84.nc 0 DENAN = bedmap2_surface_WGS84_filled.nc"
   ]
  },
  {
   "cell_type": "code",
   "execution_count": null,
   "metadata": {},
   "outputs": [],
   "source": [
    "!gmt grdmath -Df bedmap2_surface.tif gl04c_geoid_to_WGS84.tif ADD = bedmap2_surface_WGS_84.tif"
   ]
  },
  {
   "cell_type": "code",
   "execution_count": null,
   "metadata": {},
   "outputs": [],
   "source": [
    "!gmt grdsample bedmap2_surface_WGS_84.tif -Gbedmap2_surface_WGS_84_RIS_5k.nc -R-760000/600000/-1600000/-240000 -I5000+e"
   ]
  },
  {
   "cell_type": "code",
   "execution_count": null,
   "metadata": {},
   "outputs": [],
   "source": [
    "!gmt grdmath -Df bedmap2_surface_WGS_84_RIS_5k.nc 0 DENAN = layers/bedmap2_surface_WGS_84_RIS_5k_filled.nc"
   ]
  },
  {
   "cell_type": "code",
   "execution_count": null,
   "metadata": {},
   "outputs": [],
   "source": [
    "!gmt grd2xyz bedmap2_surface_WGS_84_RIS_5k.nc  > bedmap2_surface_WGS_84_RIS_5k.csv"
   ]
  },
  {
   "cell_type": "code",
   "execution_count": null,
   "metadata": {},
   "outputs": [],
   "source": [
    "make_fig()\n",
    "fig.grdimage(grid ='layers/bedmap2_surface_WGS_84_RIS_5k_filled.nc', cmap ='globe', shading='grdgradient+a45/45+nt1+m0', projection=risproj, region=risreg, nan_transparent=True)\n",
    "fig.colorbar(cmap ='globe', position = pos_str,frame = 'xa2000+l\"Bed Elevation [m]\"', box = '+gblack+p0.5p,black+c3p')\n",
    "fig.show()"
   ]
  },
  {
   "cell_type": "markdown",
   "metadata": {},
   "source": [
    "## ICEBASE"
   ]
  },
  {
   "cell_type": "markdown",
   "metadata": {},
   "source": [
    "#### Bedmap2 surface-thickness, NaN's set to 0"
   ]
  },
  {
   "cell_type": "markdown",
   "metadata": {},
   "source": [
    "!gmt grdmath -Df bedmap2_surface.tif bedmap2_thickness.tif SUB = bedmap2_icebase.nc"
   ]
  },
  {
   "cell_type": "markdown",
   "metadata": {},
   "source": [
    "!gmt grdsample bedmap2_icebase.nc -Gbedmap2_icebase_RIS.nc -R-760000/600000/-1600000/-240000"
   ]
  },
  {
   "cell_type": "markdown",
   "metadata": {},
   "source": [
    "!gmt grdmath -Df bedmap2_icebase.nc gl04c_geiod_to_WGS84.tif ADD = bedmap2_icebase_WGS_84.tif"
   ]
  },
  {
   "cell_type": "markdown",
   "metadata": {},
   "source": [
    "!gmt grdsample bedmap2_icebase_WGS_84.tif -Gbedmap2_icebase_WGS_84_RIS_5k.nc -R-760000/600000/-1600000/-240000 -I5000+e"
   ]
  },
  {
   "cell_type": "markdown",
   "metadata": {},
   "source": [
    "!gmt grdmath -Df bedmap2_icebase_WGS_84_RIS_5k.nc 0 DENAN = layers/bedmap2_icebase_WGS_84_RIS_5k_filled.nc"
   ]
  },
  {
   "cell_type": "markdown",
   "metadata": {},
   "source": [
    "!gmt grd2xyz bedmap2_icebase_WGS_84_RIS_5k_filled.nc > bedmap2_icebase_WGS_84_RIS_5k_filled.csv"
   ]
  },
  {
   "cell_type": "code",
   "execution_count": null,
   "metadata": {},
   "outputs": [],
   "source": [
    "!gmt grdsample bedmap2_thickness.tif -Gbedmap2_thickness_RIS_5k.nc -R-760000/600000/-1600000/-240000 -I5000+e"
   ]
  },
  {
   "cell_type": "code",
   "execution_count": null,
   "metadata": {},
   "outputs": [],
   "source": [
    "!gmt grdmath -Df layers/bedmap2_surface_WGS_84_RIS_5k_filled.nc bedmap2_thickness_RIS_5k.nc SUB = bedmap2_icebase_WGS_84_RIS_5k.nc"
   ]
  },
  {
   "cell_type": "code",
   "execution_count": null,
   "metadata": {},
   "outputs": [],
   "source": [
    "!gmt grdmath -Df bedmap2_icebase_WGS_84_RIS_5k.nc 0 DENAN = layers/bedmap2_icebase_WGS_84_RIS_5k_filled.nc"
   ]
  },
  {
   "cell_type": "code",
   "execution_count": null,
   "metadata": {},
   "outputs": [],
   "source": [
    "make_fig()\n",
    "fig.grdimage(grid ='layers/bedmap2_icebase_WGS_84_RIS_5k_filled.nc', cmap ='globe', region=risreg, projection=risproj, shading='grdgradient+a45/45+nt1+m0', nan_transparent=True)\n",
    "fig.colorbar(cmap ='globe', position = pos_str,frame = 'xa2000+l\"Ice Base [m]\"', box = '+gblack+p0.5p,black+c3p')\n",
    "fig.show()"
   ]
  },
  {
   "cell_type": "markdown",
   "metadata": {},
   "source": [
    "## BED"
   ]
  },
  {
   "cell_type": "markdown",
   "metadata": {},
   "source": [
    "#### Bedmap2 bed"
   ]
  },
  {
   "cell_type": "code",
   "execution_count": null,
   "metadata": {},
   "outputs": [],
   "source": [
    "!gmt grdmath -Df bedmap2_bed.tif gl04c_geiod_to_WGS84.tif ADD = bedmap2_bed_WGS_84.tif"
   ]
  },
  {
   "cell_type": "code",
   "execution_count": null,
   "metadata": {},
   "outputs": [],
   "source": [
    "!gmt grdsample bedmap2_bed_WGS_84.tif -Glayers/bedmap2_bed_WGS_84_RIS_5k.nc -R-760000/600000/-1600000/-240000 -I5000+e"
   ]
  },
  {
   "cell_type": "code",
   "execution_count": null,
   "metadata": {},
   "outputs": [],
   "source": [
    "!gmt grd2xyz layers/bedmap2_bed_WGS_84_RIS_5k.tif > bedmap2_bed_WGS_84_RIS_5k.csv"
   ]
  },
  {
   "cell_type": "code",
   "execution_count": null,
   "metadata": {},
   "outputs": [],
   "source": [
    "make_fig()\n",
    "fig.grdimage(grid ='layers/bedmap2_bed_WGS_84_RIS_5k.nc', cmap ='globe', projection=risproj, shading='grdgradient+a45/45+nt1+m0', region=risreg, nan_transparent=True)\n",
    "fig.colorbar(cmap ='globe', position = pos_str,frame = 'xa2000+l\"Bed Elevation [m]\"', box = '+gblack+p0.5p,black+c3p')\n",
    "fig.show()"
   ]
  },
  {
   "cell_type": "markdown",
   "metadata": {},
   "source": [
    "#### Bedmap2 bed minus bedmachine bed"
   ]
  },
  {
   "cell_type": "code",
   "execution_count": null,
   "metadata": {},
   "outputs": [],
   "source": [
    "!gmt grdmath -Df layers/bedmap2_bed_WGS_84_RIS_5k.nc layers/BedMachine_bed_5k.nc SUB = layers/tmp_bedmap2_bedmachine_bed_diff.nc "
   ]
  },
  {
   "cell_type": "code",
   "execution_count": null,
   "metadata": {},
   "outputs": [],
   "source": [
    "make_fig()\n",
    "pygmt.makecpt(cmap='polar', series='-200/200', background='o')\n",
    "fig.grdimage(grid ='layers/tmp_bedmap2_bedmachine_bed_diff.nc', cmap =True, projection=risproj, shading='grdgradient+a45/45+nt1+m0', region=risreg, nan_transparent=True)\n",
    "fig.colorbar(cmap =True, position = pos_str,frame = 'xa50+l\"Bed Elevation Difference [m]\"', box = '+gblack+p0.5p,black+c3p')\n",
    "fig.show()"
   ]
  },
  {
   "cell_type": "markdown",
   "metadata": {},
   "source": [
    "## BASEMENT"
   ]
  },
  {
   "cell_type": "markdown",
   "metadata": {},
   "source": [
    "#### ROSETTA_lindeque basement, merged to bedmap2 bed"
   ]
  },
  {
   "cell_type": "markdown",
   "metadata": {
    "tags": []
   },
   "source": [
    "## SURFACE"
   ]
  },
  {
   "cell_type": "markdown",
   "metadata": {},
   "source": [
    "#### Bedmachine surface, NaN's set to 0"
   ]
  },
  {
   "cell_type": "code",
   "execution_count": null,
   "metadata": {},
   "outputs": [],
   "source": [
    "!gmt grdsample D:/Bedmachine2/BedMachineAntarctica_2020-07-15_v02.nc?surface -R-1060000/900000/-1900000/60000 -r -Gbedmachine/BedMachine_surface.nc -I5000+e"
   ]
  },
  {
   "cell_type": "code",
   "execution_count": null,
   "metadata": {},
   "outputs": [],
   "source": [
    "!gmt grdmath -Df bedmachine/BedMachine_surface.nc 0 DENAN = bedmachine/BedMachine_surface_5k_filled.nc"
   ]
  },
  {
   "cell_type": "code",
   "execution_count": null,
   "metadata": {},
   "outputs": [],
   "source": [
    "make_fig()\n",
    "fig.grdimage(grid ='bedmachine/BedMachine_surface_5k_filled.nc', cmap ='globe', shading='grdgradient+a45/45+nt1+m0', projection=risproj, region=risreg, nan_transparent=True)\n",
    "fig.colorbar(cmap ='globe', position = pos_str,frame = 'xa2000+l\"Bed Elevation [m]\"', box = '+gblack+p0.5p,black+c3p')\n",
    "fig.show()"
   ]
  },
  {
   "cell_type": "markdown",
   "metadata": {},
   "source": [
    "## ICEBASE"
   ]
  },
  {
   "cell_type": "markdown",
   "metadata": {},
   "source": [
    "#### BedMachine surface-thickness, NaN's set to 0"
   ]
  },
  {
   "cell_type": "code",
   "execution_count": null,
   "metadata": {},
   "outputs": [],
   "source": [
    "!gmt grdsample D:/Bedmachine2/BedMachineAntarctica_2020-07-15_v02.nc?thickness -R-1060000/900000/-1900000/60000 -r -Gbedmachine/BedMachine_thickness.nc -I5000+e"
   ]
  },
  {
   "cell_type": "code",
   "execution_count": null,
   "metadata": {},
   "outputs": [],
   "source": [
    "!gmt grdmath bedmachine/BedMachine_surface.nc bedmachine/BedMachine_thickness.nc SUB = bedmachine/BedMachine_icebase_5k.nc"
   ]
  },
  {
   "cell_type": "code",
   "execution_count": null,
   "metadata": {},
   "outputs": [],
   "source": [
    "!gmt grdmath -Df bedmachine/BedMachine_icebase_5k.nc 0 DENAN = bedmachine/BedMachine_icebase_5k_filled.nc"
   ]
  },
  {
   "cell_type": "code",
   "execution_count": null,
   "metadata": {},
   "outputs": [],
   "source": [
    "make_fig()\n",
    "fig.grdimage(grid ='bedmachine/BedMachine_icebase_5k_filled.nc', cmap ='globe', region=risreg, projection=risproj, shading='grdgradient+a45/45+nt1+m0', nan_transparent=True)\n",
    "fig.colorbar(cmap ='globe', position = pos_str,frame = 'xa1000+l\"Bed Elevation [m]\"', box = '+gblack+p0.5p,black+c3p')\n",
    "fig.show()"
   ]
  },
  {
   "cell_type": "markdown",
   "metadata": {},
   "source": [
    "## BED"
   ]
  },
  {
   "cell_type": "markdown",
   "metadata": {},
   "source": [
    "#### BedMachine bed"
   ]
  },
  {
   "cell_type": "code",
   "execution_count": null,
   "metadata": {},
   "outputs": [],
   "source": [
    "!gmt grdsample D:/Bedmachine2/BedMachineAntarctica_2020-07-15_v02.nc?bed -Gbedmachine/BedMachine_bed_5k.nc -R-1060000/900000/-1900000/60000 -r -I5000+e"
   ]
  },
  {
   "cell_type": "code",
   "execution_count": null,
   "metadata": {},
   "outputs": [],
   "source": [
    "make_fig()\n",
    "fig.grdimage(grid ='bedmachine/BedMachine_bed_5k.nc', cmap ='globe', projection=risproj, shading='grdgradient+a45/45+nt1+m0', region=risreg, nan_transparent=True)\n",
    "fig.colorbar(cmap ='globe', position = pos_str,frame = 'xa1000+l\"Bed Elevation [m]\"', box = '+gblack+p0.5p,black+c3p')\n",
    "fig.show()"
   ]
  },
  {
   "cell_type": "markdown",
   "metadata": {},
   "source": [
    "## BASEMENT"
   ]
  },
  {
   "cell_type": "markdown",
   "metadata": {},
   "source": [
    "#### ROSETTA_lindeque basement, merged to BedMachine bed"
   ]
  },
  {
   "cell_type": "code",
   "execution_count": null,
   "metadata": {},
   "outputs": [],
   "source": [
    "!gmt grd2xyz Ross_Embayment_basement_filt.nc -s > Ross_Embayment_basement_filt.xyz\n",
    "pygmt.surface(data = 'Ross_Embayment_basement_filt.xyz', \n",
    "              spacing='5000+e', \n",
    "              region='-1060000/900000/-1900000/60000',\n",
    "              M='20c',\n",
    "              outgrid='RE_basement_buffer.nc', verbose='e') \n",
    "!gmt grdsample Ross_Embayment_basement_filt.nc -I5000+e -R-1060000/900000/-1900000/60000 -rp -GRoss_Embayment_basement_filt_resample.nc\n",
    "!gmt grdsample RE_basement_buffer.nc -I5000+e -R-1060000/900000/-1900000/60000 -rp -GRE_basement_buffer.nc\n",
    "!gmt grdmath -Df RE_basement_buffer.nc ISNAN = RE_basement_buffer_mask.nc\n",
    "!gmt grdmath -Df RE_basement_buffer_mask.nc bedmachine/BedMachine_bed_5k.nc MUL = bedmachine/BedMachine_bed_5k_buffer.nc\n",
    "!gmt grdmath bedmachine/BedMachine_bed_5k_buffer.nc 0 NAN = bedmachine/BedMachine_bed_5k_buffer_mask.nc\n",
    "!gmt grdblend Ross_Embayment_basement_filt_resample.nc bedmachine/BedMachine_bed_5k_buffer_mask.nc -Cf -GRE_basement_BedMachinebed.nc\n",
    "# interpolated gap in QGIS with GRASS r.fillnulls -> RE_basement_bed_filled.tif\n",
    "!gmt grdinfo Ross_Embayment_basement_filt_resample.nc"
   ]
  },
  {
   "cell_type": "code",
   "execution_count": null,
   "metadata": {},
   "outputs": [],
   "source": [
    "!gmt grdinfo bedmachine/BedMachine_bed_5k_buffer_mask.nc"
   ]
  },
  {
   "cell_type": "code",
   "execution_count": null,
   "metadata": {},
   "outputs": [],
   "source": [
    "make_fig()\n",
    "\n",
    "#pygmt.grdfilter(grid='rosetta_lindeque_basement.tif', filter='g100000', distance='0', outgrid='rosetta_lindeque_basement_filt.tif')\n",
    "\n",
    "fig.grdimage(grid='bedmachine/ROSETTA_basement_BedMachine_bed_merged.nc', cmap='globe', projection=risproj, region=risreg, shading='grdgradient+a45/45+nt1+m0', nan_transparent=True, dpi='300')\n",
    "fig.colorbar(cmap ='globe', position = pos_str,frame = 'xa1000+l\"Depth to Basement [m]\"', box = '+gblack+p0.5p,black+c3p')\n",
    "fig.show()"
   ]
  },
  {
   "cell_type": "markdown",
   "metadata": {},
   "source": [
    "## MOHO"
   ]
  },
  {
   "cell_type": "markdown",
   "metadata": {},
   "source": [
    "### An"
   ]
  },
  {
   "cell_type": "code",
   "execution_count": 9,
   "metadata": {},
   "outputs": [
    {
     "name": "stdout",
     "output_type": "stream",
     "text": [
      "/Volumes/arc_04/tankerma/Datasets/An_et_al_2015/AN1-CRUST.grd: Title: region_mask.grd\n",
      "/Volumes/arc_04/tankerma/Datasets/An_et_al_2015/AN1-CRUST.grd: Command: grdmath region_mask.grd plot.grd MUL = plot_new.grd\n",
      "/Volumes/arc_04/tankerma/Datasets/An_et_al_2015/AN1-CRUST.grd: Remark: \n",
      "/Volumes/arc_04/tankerma/Datasets/An_et_al_2015/AN1-CRUST.grd: Gridline node registration used [Geographic grid]\n",
      "/Volumes/arc_04/tankerma/Datasets/An_et_al_2015/AN1-CRUST.grd: Grid file format: nf = GMT netCDF format (32-bit float), CF-1.7\n",
      "/Volumes/arc_04/tankerma/Datasets/An_et_al_2015/AN1-CRUST.grd: x_min: -180 x_max: 180 x_inc: 0.0666666666667 (4 min) name: longitude n_columns: 5401\n",
      "/Volumes/arc_04/tankerma/Datasets/An_et_al_2015/AN1-CRUST.grd: y_min: -90 y_max: -24 y_inc: 0.0666666666667 (4 min) name: latitude n_rows: 991\n",
      "/Volumes/arc_04/tankerma/Datasets/An_et_al_2015/AN1-CRUST.grd: v_min: 5.6293926239 v_max: 65.1211013794 name: z\n",
      "/Volumes/arc_04/tankerma/Datasets/An_et_al_2015/AN1-CRUST.grd: scale_factor: 1 add_offset: 0\n",
      "/Volumes/arc_04/tankerma/Datasets/An_et_al_2015/AN1-CRUST.grd: format: classic\n",
      "\n"
     ]
    },
    {
     "name": "stderr",
     "output_type": "stream",
     "text": [
      "grdproject [WARNING]: x_inc does not divide 180; geographic boundary condition changed to natural.\n",
      "/tmp/ipykernel_2287747/1648343706.py:6: SyntaxWarning: Short-form parameter (r) is not recommended. Use long-form parameter 'registration' instead.\n",
      "  crust = pygmt.grdsample(grid, region='-1060000/900000/-1900000/60000', spacing=10e3, r='p')\n",
      "grdsample [WARNING]: Output sampling interval in x exceeds input interval and may lead to aliasing.\n"
     ]
    }
   ],
   "source": [
    "fname='/Volumes/arc_04/tankerma/Datasets/An_et_al_2015/AN1-CRUST.grd'\n",
    "# print(pygmt.grdinfo(fname))\n",
    "grid = pygmt.load_dataarray(fname)\n",
    "grid = pygmt.grdproject(grid, projection='EPSG:3031')\n",
    "grid = grid*1000\n",
    "crust = pygmt.grdsample(grid, region='-1060000/900000/-1900000/60000', spacing=10e3, registration='p')"
   ]
  },
  {
   "cell_type": "code",
   "execution_count": 20,
   "metadata": {},
   "outputs": [
    {
     "name": "stderr",
     "output_type": "stream",
     "text": [
      "grdsample [WARNING]: Output sampling interval in x exceeds input interval and may lead to aliasing.\n",
      "grdsample [WARNING]: Output sampling interval in y exceeds input interval and may lead to aliasing.\n"
     ]
    },
    {
     "name": "stdout",
     "output_type": "stream",
     "text": [
      ": Title: \n",
      ": Command: \n",
      ": Remark: \n",
      ": Gridline node registration used [Cartesian grid]\n",
      ": Grid file format: nf = GMT netCDF format (32-bit float), CF-1.7\n",
      ": x_min: -1055000 x_max: 895000 x_inc: 10000 name: x n_columns: 196\n",
      ": y_min: -1895000 y_max: 55000 y_inc: 10000 name: y n_rows: 196\n",
      ": v_min: -53232.6054688 v_max: -7489.875 name: z\n",
      ": scale_factor: 1 add_offset: 0\n",
      ": format: classic\n",
      "\n"
     ]
    }
   ],
   "source": [
    "bedmap2_surface = pygmt.grdsample('bedmap2_surface_WGS84_filled.nc', region='-1060000/900000/-1900000/60000', spacing=10e3)\n",
    "moho = bedmap2_surface - crust\n",
    "print(pygmt.grdinfo(moho))\n",
    "fname='/Volumes/arc_04/tankerma/Datasets/An_et_al_2015/AN1-MOHO.nc'\n",
    "moho.to_netcdf(fname)\n",
    "# print(pygmt.grdinfo(fname))\n",
    "# grid.plot()"
   ]
  },
  {
   "cell_type": "code",
   "execution_count": 21,
   "metadata": {},
   "outputs": [
    {
     "name": "stdout",
     "output_type": "stream",
     "text": [
      ": Title: \n",
      ": Command: \n",
      ": Remark: \n",
      ": Gridline node registration used [Cartesian grid]\n",
      ": Grid file format: nf = GMT netCDF format (32-bit float), CF-1.7\n",
      ": x_min: -1055000 x_max: 895000 x_inc: 10000 name: x n_columns: 196\n",
      ": y_min: -1895000 y_max: 55000 y_inc: 10000 name: y n_rows: 196\n",
      ": v_min: -53232.6054688 v_max: -7489.875 name: z\n",
      ": scale_factor: 1 add_offset: 0\n",
      ": format: classic\n",
      "\n"
     ]
    }
   ],
   "source": [
    "moho = pygmt.load_dataarray(fname)\n",
    "print(pygmt.grdinfo(moho))"
   ]
  },
  {
   "cell_type": "markdown",
   "metadata": {},
   "source": [
    "### Shen"
   ]
  },
  {
   "cell_type": "code",
   "execution_count": null,
   "metadata": {},
   "outputs": [],
   "source": [
    "Moho_Shen = pd.read_csv('Shen_moho.final.dat', header=None, sep='\\ ', engine='python')\n",
    "Moho_Shen.columns =['Lon','Lat','z']\n",
    "Moho_Shen_uncert = pd.read_csv('Shen_un.moho.final.dat', header=None, sep='\\ ', engine='python')\n",
    "Moho_Shen_uncert.columns =['Lon','Lat','uncert']\n",
    "Moho_Shen['uncert']=Moho_Shen_uncert.uncert\n",
    "Moho_Shen.z=Moho_Shen.z.apply(lambda x:x*-1000)\n",
    "Moho_Shen.uncert=Moho_Shen.uncert.apply(lambda x:x*1000)\n",
    "\n",
    "moho = pygmt.surface(x=Moho_Shen.Lon, y=Moho_Shen.Lat, z=Moho_Shen.z, region='-180/180/-90/-60', spacing='10m', M='1c')\n",
    "moho.plot()"
   ]
  },
  {
   "cell_type": "code",
   "execution_count": null,
   "metadata": {},
   "outputs": [],
   "source": [
    "# moho = pygmt.grdproject(moho, projection='EPSG:3031')\n",
    "moho = pygmt.grdsample(moho, region='-1060000/900000/-1900000/60000', spacing=20e3)\n",
    "\n",
    "moho.plot()"
   ]
  },
  {
   "cell_type": "markdown",
   "metadata": {},
   "source": [
    "### Lamb"
   ]
  },
  {
   "cell_type": "code",
   "execution_count": null,
   "metadata": {},
   "outputs": [],
   "source": [
    "!gmt grdsample Crust_Lamb.nc -GCrust_Lamb_RIS.nc -R-760000/600000/-1600000/-240000 -T"
   ]
  },
  {
   "cell_type": "code",
   "execution_count": null,
   "metadata": {},
   "outputs": [],
   "source": [
    "!gmt grdsample Crust_Lamb.nc -GCrust_Lamb_RE.nc -T"
   ]
  },
  {
   "cell_type": "code",
   "execution_count": null,
   "metadata": {},
   "outputs": [],
   "source": [
    "!gmt grdmath -Df -R-760000/600000/-1600000/-240000 bedmap2_bed_WGS_84_RIS_5k.tif Crust_Lamb_RIS.nc  SUB = Lamb_Moho_wgs84_RIS.tif "
   ]
  },
  {
   "cell_type": "code",
   "execution_count": null,
   "metadata": {},
   "outputs": [],
   "source": [
    "!gmt grdmath -Df bedmap2_bed_WGS_84_5k.tif Crust_Lamb_RE.nc  SUB = Lamb_Moho_wgs84.tif "
   ]
  },
  {
   "cell_type": "code",
   "execution_count": null,
   "metadata": {},
   "outputs": [],
   "source": [
    "!gmt grd2xyz Lamb_Moho_wgs84_RIS.tif  >Lamb_Moho_wgs84_RIS.csv"
   ]
  },
  {
   "cell_type": "code",
   "execution_count": null,
   "metadata": {},
   "outputs": [],
   "source": [
    "make_fig()\n",
    "\n",
    "fig.grdimage(grid='Lamb_Moho_wgs84.tif', cmap=\"Moho.cpt\", nan_transparent=True, dpi='500')\n",
    "fig.colorbar(cmap=\"Moho.cpt\", position = pos_str, frame = 'xa10000+l\"Moho Depth [m]\"', box = '+gblack+p0.5p,black+c3p')\n",
    "fig.show()\n",
    "\n"
   ]
  },
  {
   "cell_type": "markdown",
   "metadata": {},
   "source": [
    "## GRAVITY"
   ]
  },
  {
   "cell_type": "code",
   "execution_count": null,
   "metadata": {},
   "outputs": [],
   "source": [
    "ris_xl= -760_000\n",
    "ris_yl= -1600_000 #N extent\n",
    "ris_xh= 600_000\n",
    "ris_yh= -350_000 #S extent\n",
    "risreg = str(ris_xl) + '/' + str(ris_xh) + '/' + str(ris_yl) + '/' + str(ris_yh) #W/E/S/N\n",
    "aerograv_data = \"D:/ROSETTA_Data/from_LDEO_2021/rs_2019_grav.csv\"\n",
    "gravity = pd.read_csv(aerograv_data)\n",
    "gravity = pygmt.blockmedian(table=gravity[[\"x\", \"y\", \"FAG_levelled\"]], \n",
    "                                         spacing=\"5000+e\", \n",
    "                                         region=risreg)\n",
    "pygmt.surface(x=gravity.x, y=gravity.y, z=gravity.FAG_levelled,\n",
    "              spacing='5000+e',\n",
    "              outfile=\"layers/ROSETTA_gravity.nc\",\n",
    "              region=risreg,) \n",
    "!gmt grdmask ..\\shapefiles\\RIS_outline.shp -GRIS_mask.nc -I5000+e -R-760000/600000/-1600000/-350000 -NNaN/1/1\n",
    "!gmt grdmath -Df layers/ROSETTA_gravity.nc RIS_mask.nc MUL = layers/ROSETTA_gravity.nc\n",
    "!gmt grdsample layers/ROSETTA_gravity.nc -Glayers/ROSETTA_gravity.nc -T"
   ]
  },
  {
   "cell_type": "code",
   "execution_count": null,
   "metadata": {},
   "outputs": [],
   "source": [
    "!gmt grd2xyz layers/ROSETTA_gravity.nc > layers/ROSETTA_gravity.csv"
   ]
  },
  {
   "cell_type": "code",
   "execution_count": null,
   "metadata": {},
   "outputs": [],
   "source": [
    "print(pygmt.grdinfo(\"GRAV_50k.nc\"))"
   ]
  },
  {
   "cell_type": "code",
   "execution_count": null,
   "metadata": {},
   "outputs": [],
   "source": [
    "!gmt xyz2grd antgg_FAG_10k_RIS_hole_filled.xyz -GGRAV_10k.nc -I10000+e -R-760000/600000/-1600000/-240000"
   ]
  },
  {
   "cell_type": "code",
   "execution_count": null,
   "metadata": {},
   "outputs": [],
   "source": [
    "!gmt grdsample GRAV_10k.nc -GGRAV_50k.nc -R-760000/600000/-1600000/-240000 -I50000+e -T"
   ]
  },
  {
   "cell_type": "code",
   "execution_count": null,
   "metadata": {},
   "outputs": [],
   "source": [
    "!gmt grd2xyz GRAV_50k.nc > GRAV_50k_fromgrid.csv"
   ]
  },
  {
   "cell_type": "code",
   "execution_count": null,
   "metadata": {},
   "outputs": [],
   "source": [
    "make_fig()\n",
    "\n",
    "fig.grdimage(grid='GRAV_50k.nc', cmap=\"wysiwyg\", nan_transparent=True, dpi='500')\n",
    "fig.colorbar(cmap=True, position = pos_str, frame = 'xa10000+l\"Moho Depth [m]\"', box = '+gblack+p0.5p,black+c3p')\n",
    "fig.show()\n"
   ]
  },
  {
   "cell_type": "markdown",
   "metadata": {},
   "source": [
    "# Setup CSV's in format for inversion"
   ]
  },
  {
   "cell_type": "code",
   "execution_count": null,
   "metadata": {},
   "outputs": [],
   "source": [
    "def edit_csvs(file_in, file_out, rho):\n",
    "    df = pd.read_csv(file_in, header=None, index_col=None, sep='\\t', names=('X','Y','Z'))\n",
    "    df['RHO']=rho\n",
    "    df['CP']=0\n",
    "    df.to_csv(file_out, sep=',', index=False)"
   ]
  },
  {
   "cell_type": "code",
   "execution_count": null,
   "metadata": {},
   "outputs": [],
   "source": [
    "edit_csvs('SURFACE_1k.csv', 'ICE_1k.csv', 0.92)"
   ]
  },
  {
   "cell_type": "code",
   "execution_count": null,
   "metadata": {},
   "outputs": [],
   "source": [
    "edit_csvs('ICEBASE_1k.csv', 'WATER_1k.csv', 1.03)"
   ]
  },
  {
   "cell_type": "code",
   "execution_count": null,
   "metadata": {},
   "outputs": [],
   "source": [
    "edit_csvs('BED_5k.csv', 'SEDIMENT_5k.csv', 2.3)"
   ]
  },
  {
   "cell_type": "code",
   "execution_count": null,
   "metadata": {},
   "outputs": [],
   "source": [
    "edit_csvs('BASEMENT_5k.csv', 'CRUST_5k.csv', 2.8)"
   ]
  },
  {
   "cell_type": "code",
   "execution_count": null,
   "metadata": {},
   "outputs": [],
   "source": [
    "edit_csvs('MOHO_5k.csv', 'MANTLE_5k.csv', 3.3)"
   ]
  },
  {
   "cell_type": "code",
   "execution_count": null,
   "metadata": {},
   "outputs": [],
   "source": [
    "df = pd.read_csv('GRAV_50k_fromgrid.csv', header=None, index_col=None, sep='\\t', names=('X','Y','FA'))\n",
    "df['Z']=800\n",
    "df['FACP']=df.FA\n",
    "df.dropna(inplace=True)\n",
    "df.to_csv('GRAV_50k.csv', sep=',', index=False)\n",
    "df"
   ]
  }
 ],
 "metadata": {
  "kernelspec": {
   "display_name": "Python 3.10.4",
   "language": "python",
   "name": "python3"
  },
  "language_info": {
   "codemirror_mode": {
    "name": "ipython",
    "version": 3
   },
   "file_extension": ".py",
   "mimetype": "text/x-python",
   "name": "python",
   "nbconvert_exporter": "python",
   "pygments_lexer": "ipython3",
   "version": "3.10.4"
  },
  "vscode": {
   "interpreter": {
    "hash": "d04a0599df57a9557ccc19b054618dbdd19e88c69938836ab2b98cd4a40eea61"
   }
  }
 },
 "nbformat": 4,
 "nbformat_minor": 4
}
