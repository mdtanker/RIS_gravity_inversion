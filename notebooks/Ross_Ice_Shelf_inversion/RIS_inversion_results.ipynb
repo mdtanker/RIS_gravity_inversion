{
 "cells": [
  {
   "attachments": {},
   "cell_type": "markdown",
   "id": "638ab246",
   "metadata": {},
   "source": [
    "# Ross Ice Shelf Inversion final results"
   ]
  },
  {
   "cell_type": "markdown",
   "id": "8205e4a4",
   "metadata": {},
   "source": [
    "# Import packages"
   ]
  },
  {
   "cell_type": "code",
   "execution_count": null,
   "id": "89e2c898",
   "metadata": {
    "tags": []
   },
   "outputs": [],
   "source": [
    "from __future__ import annotations\n",
    "\n",
    "%load_ext autoreload\n",
    "%autoreload 2\n",
    "%load_ext snakeviz\n",
    "\n",
    "\n",
    "import numpy as np\n",
    "import seaborn as sns\n",
    "import xarray as xr\n",
    "from polartoolkit import maps, utils\n",
    "\n",
    "sns.set_theme()\n",
    "\n",
    "# make beep sound when notify is called at end of long-running cells\n",
    "from IPython.display import Audio\n",
    "\n",
    "wave = np.sin(2 * np.pi * 400 * np.arange(10000 * 1) / 10000)\n",
    "notify = Audio(wave, rate=10000, autoplay=True)"
   ]
  },
  {
   "attachments": {},
   "cell_type": "markdown",
   "id": "a613f1f8-0347-492e-96ac-8cb95efbe658",
   "metadata": {},
   "source": [
    "## Load from zarr"
   ]
  },
  {
   "cell_type": "code",
   "execution_count": null,
   "id": "0e9f0ea9-d1f7-4d52-89fb-1a065522325c",
   "metadata": {
    "tags": []
   },
   "outputs": [],
   "source": [
    "bed = xr.open_zarr(\"../../results/antarctic_wide_results.zarr\")\n",
    "print(utils.get_grid_info(bed.bed))\n",
    "bed"
   ]
  },
  {
   "attachments": {},
   "cell_type": "markdown",
   "id": "38dc6c35",
   "metadata": {},
   "source": [
    "## Create grids of + and - 1 sigma within ice shelf region"
   ]
  },
  {
   "cell_type": "code",
   "execution_count": null,
   "id": "dd75eb22",
   "metadata": {},
   "outputs": [],
   "source": [
    "# mask bed error outside of RIS\n",
    "inside_error = utils.mask_from_shp(\n",
    "    \"../../plotting/RIS_outline.shp\",\n",
    "    xr_grid=bed.bed_error,\n",
    "    masked=True,\n",
    "    invert=False,\n",
    ")\n",
    "\n",
    "# fill NaNs (outside of RIS) with 0's\n",
    "inside_error = inside_error.fillna(0)\n",
    "fig = maps.plot_grd(inside_error)\n",
    "fig.show()\n",
    "inside_error"
   ]
  },
  {
   "cell_type": "code",
   "execution_count": null,
   "id": "a1b16532",
   "metadata": {},
   "outputs": [],
   "source": [
    "# add uncertainty to bed\n",
    "upper_uncert = bed.bed + inside_error\n",
    "\n",
    "# ensure new bed doesn't cross bedmachine ice base\n",
    "maps.plot_grd(upper_uncert)"
   ]
  },
  {
   "cell_type": "code",
   "execution_count": null,
   "id": "ed1e8866",
   "metadata": {},
   "outputs": [],
   "source": [
    "lower_uncert = bed.bed - inside_error\n",
    "maps.plot_grd(lower_uncert)"
   ]
  },
  {
   "cell_type": "code",
   "execution_count": null,
   "id": "991c9014",
   "metadata": {},
   "outputs": [],
   "source": []
  }
 ],
 "metadata": {
  "kernelspec": {
   "display_name": "Python 3 (ipykernel)",
   "language": "python",
   "name": "python3"
  },
  "language_info": {
   "codemirror_mode": {
    "name": "ipython",
    "version": 3
   },
   "file_extension": ".py",
   "mimetype": "text/x-python",
   "name": "python",
   "nbconvert_exporter": "python",
   "pygments_lexer": "ipython3",
   "version": "3.10.9"
  },
  "toc-autonumbering": false,
  "toc-showcode": false,
  "toc-showmarkdowntxt": false,
  "toc-showtags": false,
  "vscode": {
   "interpreter": {
    "hash": "be5ed6196e54cd5072f7416641aebafb9cc46c9e9ac253365d503760856c4c67"
   }
  }
 },
 "nbformat": 4,
 "nbformat_minor": 5
}
