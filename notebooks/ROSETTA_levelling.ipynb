{
 "cells": [
  {
   "cell_type": "markdown",
   "metadata": {},
   "source": [
    "# Re-level ROSETTA-ice gravity data"
   ]
  },
  {
   "cell_type": "markdown",
   "metadata": {},
   "source": [
    "import the necessary packages"
   ]
  },
  {
   "cell_type": "code",
   "execution_count": null,
   "metadata": {
    "execution": {
     "iopub.execute_input": "2023-05-10T20:49:49.951528Z",
     "iopub.status.busy": "2023-05-10T20:49:49.951229Z",
     "iopub.status.idle": "2023-05-10T20:49:49.985665Z",
     "shell.execute_reply": "2023-05-10T20:49:49.985202Z",
     "shell.execute_reply.started": "2023-05-10T20:49:49.951508Z"
    },
    "tags": []
   },
   "outputs": [],
   "source": [
    "%load_ext autoreload\n",
    "%autoreload 2\n",
    "%load_ext snakeviz\n",
    "from antarctic_plots import fetch, regions, utils, maps\n",
    "import pygmt\n",
    "import numpy as np\n",
    "import pandas as pd\n",
    "import numpy as np\n",
    "from scipy import stats\n",
    "import geopandas as gpd\n",
    "import xarray as xr\n",
    "import rioxarray\n",
    "import verde as vd\n",
    "import harmonica as hm\n",
    "from pyproj import Transformer\n",
    "import os\n",
    "import zarr\n",
    "import math\n",
    "import scipy\n",
    "import warnings\n",
    "from tqdm.auto import tqdm\n",
    "import plotly.express as px\n",
    "import matplotlib.pyplot as plt\n",
    "import seaborn as sns\n",
    "import pickle\n",
    "\n",
    "from RIS_gravity_inversion import gravity_processing as grav\n",
    "from RIS_gravity_inversion import utils as inv_utils\n",
    "\n",
    "os.getcwd()"
   ]
  },
  {
   "cell_type": "markdown",
   "metadata": {},
   "source": [
    "## load data\n",
    "with antarctic_plots.fetch"
   ]
  },
  {
   "cell_type": "code",
   "execution_count": null,
   "metadata": {
    "execution": {
     "iopub.execute_input": "2023-05-10T20:49:51.630890Z",
     "iopub.status.busy": "2023-05-10T20:49:51.630540Z",
     "iopub.status.idle": "2023-05-10T20:49:53.091965Z",
     "shell.execute_reply": "2023-05-10T20:49:53.091355Z",
     "shell.execute_reply.started": "2023-05-10T20:49:51.630871Z"
    },
    "tags": []
   },
   "outputs": [],
   "source": [
    "rosetta = fetch.ROSETTA_gravity()\n",
    "\n",
    "# set standard column names\n",
    "rosetta = rosetta.rename(columns={\"Line\": \"line\", \"x\": \"easting\", \"y\": \"northing\"})\n",
    "\n",
    "rosetta = gpd.GeoDataFrame(\n",
    "    rosetta,\n",
    "    geometry=gpd.points_from_xy(x=rosetta.easting, y=rosetta.northing),\n",
    ")\n",
    "\n",
    "rosetta[[\"FAG_levelled\", \"Height\"]].hist(bins=100)\n",
    "print(rosetta.describe())"
   ]
  },
  {
   "cell_type": "code",
   "execution_count": null,
   "metadata": {
    "execution": {
     "iopub.execute_input": "2023-05-10T20:49:53.230121Z",
     "iopub.status.busy": "2023-05-10T20:49:53.229677Z",
     "iopub.status.idle": "2023-05-10T20:49:53.285453Z",
     "shell.execute_reply": "2023-05-10T20:49:53.284937Z",
     "shell.execute_reply.started": "2023-05-10T20:49:53.230102Z"
    },
    "tags": []
   },
   "outputs": [],
   "source": [
    "# seperate e-w flight lines from n-s tie lines\n",
    "ties = rosetta[rosetta.line >= 1000]\n",
    "lines = rosetta[rosetta.line < 1000]"
   ]
  },
  {
   "cell_type": "markdown",
   "metadata": {},
   "source": [
    "Plot as point data"
   ]
  },
  {
   "cell_type": "code",
   "execution_count": null,
   "metadata": {
    "execution": {
     "iopub.execute_input": "2023-05-10T20:49:54.790764Z",
     "iopub.status.busy": "2023-05-10T20:49:54.790499Z",
     "iopub.status.idle": "2023-05-10T20:49:54.817863Z",
     "shell.execute_reply": "2023-05-10T20:49:54.817388Z",
     "shell.execute_reply.started": "2023-05-10T20:49:54.790746Z"
    },
    "tags": []
   },
   "outputs": [],
   "source": [
    "# get bounding region of data\n",
    "# region = vd.get_region((rosetta.x, rosetta.y))\n",
    "# # zoom out by 20 km\n",
    "# region = utils.alter_region(region, zoom=-40e3)[0]\n",
    "# # round to nearest 5km\n",
    "# region = round_region(region, 5e3)\n",
    "# region\n",
    "region = (-620000.0, 460000.0, -1460000.0, -380000.0)"
   ]
  },
  {
   "cell_type": "code",
   "execution_count": null,
   "metadata": {
    "execution": {
     "iopub.status.busy": "2023-05-10T20:49:45.856135Z",
     "iopub.status.idle": "2023-05-10T20:49:45.856434Z",
     "shell.execute_reply": "2023-05-10T20:49:45.856335Z",
     "shell.execute_reply.started": "2023-05-10T20:49:45.856324Z"
    },
    "tags": []
   },
   "outputs": [],
   "source": [
    "# # plot a basemap\n",
    "# fig = maps.basemap(\n",
    "#     region,\n",
    "#     title=\"ROSETTA-Ice gravity data\",\n",
    "#     background=\"black\",\n",
    "# )\n",
    "\n",
    "# # get a quarter of max absolute value and make a colorscale\n",
    "# maxabs = vd.maxabs(rosetta.FAG_levelled) * 0.25\n",
    "# pygmt.makecpt(cmap=\"roma\", series=[-maxabs, maxabs])\n",
    "\n",
    "# # plot gravity data\n",
    "# fig.plot(x=rosetta.easting, y=rosetta.northing, color=rosetta.FAG_levelled, style=\"c2p\", cmap=True)\n",
    "\n",
    "# grav.plot_flightlines(fig, lines, plot_lines=False, direction=\"EW\")\n",
    "\n",
    "# grav.plot_flightlines(fig, lines, plot_lines=False, direction=\"NS\")\n",
    "\n",
    "# # plot the colorbar\n",
    "# fig.colorbar(frame='af+l\"free air gravity [mGal]\"')\n",
    "\n",
    "# # add a second figure to the right\n",
    "# fig = maps.basemap(\n",
    "#     region,\n",
    "#     title=\"ROSETTA-Ice flight elevations\",\n",
    "#     origin_shift=\"xshift\",\n",
    "#     fig=fig,\n",
    "#     background=\"black\",\n",
    "# )\n",
    "\n",
    "# # make a colorscale for flight elevations\n",
    "# pygmt.makecpt(cmap=\"thermal\", series=[rosetta.Height.min(), rosetta.Height.max()])\n",
    "\n",
    "# # plot flight elevation data\n",
    "# fig.plot(x=rosetta.easting, y=rosetta.northing, color=rosetta.Height, style=\"c2p\", cmap=True)\n",
    "\n",
    "# grav.plot_flightlines(fig, lines, plot_lines=False, direction=\"EW\")\n",
    "# grav.plot_flightlines(fig, ties, plot_lines=False, direction=\"NS\")\n",
    "\n",
    "# # plot the colorbar\n",
    "# fig.colorbar(frame='af+l\"flight elevation [m]\"')\n",
    "\n",
    "# fig.show()"
   ]
  },
  {
   "cell_type": "markdown",
   "metadata": {},
   "source": [
    "# Intersections\n",
    "create an intersections dataframe between all lines"
   ]
  },
  {
   "cell_type": "code",
   "execution_count": null,
   "metadata": {
    "execution": {
     "iopub.execute_input": "2023-05-10T21:21:46.618952Z",
     "iopub.status.busy": "2023-05-10T21:21:46.618595Z",
     "iopub.status.idle": "2023-05-10T21:22:05.401524Z",
     "shell.execute_reply": "2023-05-10T21:22:05.400887Z",
     "shell.execute_reply.started": "2023-05-10T21:21:46.618929Z"
    },
    "tags": []
   },
   "outputs": [],
   "source": [
    "# !!! ONLY MAKES INTERSECTION WITHIN LINE, IF REAL INT IS JUST OUTSIDE END OF LINE\n",
    "# IT WON'T COUNT. SHOULD BUFFER LINES BY DISTANCE.\n",
    "\n",
    "# buffer dist extends line ends to include crossovers, in this case, T1040 would intersect with\n",
    "# L20 if it were just 2 km longer.\n",
    "inters = grav.create_intersection_table(rosetta, cutoff_dist=10e3, plot=False)\n",
    "inters.describe()"
   ]
  },
  {
   "cell_type": "code",
   "execution_count": null,
   "metadata": {
    "execution": {
     "iopub.execute_input": "2023-05-10T21:01:49.454294Z",
     "iopub.status.busy": "2023-05-10T21:01:49.454031Z",
     "iopub.status.idle": "2023-05-10T21:02:11.424984Z",
     "shell.execute_reply": "2023-05-10T21:02:11.424334Z",
     "shell.execute_reply.started": "2023-05-10T21:01:49.454274Z"
    },
    "tags": []
   },
   "outputs": [],
   "source": [
    "# add empty row to\n",
    "rosetta, inters = grav.add_intersections(rosetta, inters)\n",
    "rosetta[rosetta.is_intersection]"
   ]
  },
  {
   "cell_type": "code",
   "execution_count": null,
   "metadata": {
    "execution": {
     "iopub.execute_input": "2023-05-10T21:06:20.071200Z",
     "iopub.status.busy": "2023-05-10T21:06:20.070691Z",
     "iopub.status.idle": "2023-05-10T21:06:20.119920Z",
     "shell.execute_reply": "2023-05-10T21:06:20.119457Z",
     "shell.execute_reply.started": "2023-05-10T21:06:20.071179Z"
    },
    "tags": []
   },
   "outputs": [],
   "source": [
    "inters.describe()"
   ]
  },
  {
   "cell_type": "code",
   "execution_count": null,
   "metadata": {
    "execution": {
     "iopub.execute_input": "2023-05-10T21:08:09.870986Z",
     "iopub.status.busy": "2023-05-10T21:08:09.870718Z",
     "iopub.status.idle": "2023-05-10T21:08:09.946898Z",
     "shell.execute_reply": "2023-05-10T21:08:09.946435Z",
     "shell.execute_reply.started": "2023-05-10T21:08:09.870967Z"
    },
    "tags": []
   },
   "outputs": [],
   "source": [
    "grav.plotly_points(\n",
    "    inters,\n",
    "    color_col=\"max_dist\",\n",
    "    hover_cols=[\"line1\", \"line2\", \"max_dist\"],\n",
    "    robust=True,\n",
    "    point_size=6,\n",
    "    theme=None,\n",
    "    cmap=\"greys\",\n",
    ")"
   ]
  },
  {
   "cell_type": "code",
   "execution_count": null,
   "metadata": {
    "execution": {
     "iopub.execute_input": "2023-05-10T21:17:14.250997Z",
     "iopub.status.busy": "2023-05-10T21:17:14.250679Z",
     "iopub.status.idle": "2023-05-10T21:17:19.901190Z",
     "shell.execute_reply": "2023-05-10T21:17:19.900640Z",
     "shell.execute_reply.started": "2023-05-10T21:17:14.250978Z"
    },
    "tags": []
   },
   "outputs": [],
   "source": [
    "grav.plotly_points(\n",
    "    rosetta,\n",
    "    # color_col=\"intersecting_line\",\n",
    "    color_col=\"FAG_levelled\",\n",
    "    hover_cols=[\"line\", \"dist_along_line\", \"unixtime\"],\n",
    "    robust=True,\n",
    "    # point_size=5,\n",
    ")"
   ]
  },
  {
   "cell_type": "code",
   "execution_count": null,
   "metadata": {
    "tags": []
   },
   "outputs": [],
   "source": [
    "# grav.plotly_points(\n",
    "#     rosetta[rosetta.line>=1000],\n",
    "#     color_col=\"dist_along_line\",\n",
    "#     hover_cols=[\"line\", \"dist_along_line\", \"unixtime\"],\n",
    "#     robust=True,\n",
    "#     point_size=5,\n",
    "# )"
   ]
  },
  {
   "cell_type": "code",
   "execution_count": null,
   "metadata": {
    "tags": []
   },
   "outputs": [],
   "source": [
    "# grav.plotly_points(\n",
    "#     rosetta[rosetta.line<1000],\n",
    "#     color_col=\"dist_along_line\",\n",
    "#     hover_cols=[\"line\", \"dist_along_line\", \"unixtime\"],\n",
    "#     robust=True,\n",
    "# )"
   ]
  },
  {
   "cell_type": "code",
   "execution_count": null,
   "metadata": {
    "tags": []
   },
   "outputs": [],
   "source": [
    "# x = grav.interp1d(\n",
    "#     rosetta[rosetta.line.isin([1000])],\n",
    "#     to_interp=[\"FAG_levelled\", \"Height\"],\n",
    "\n",
    "#     # interp_on=[\"x\",\"y\"],\n",
    "#     # engine=\"verde\",\n",
    "#     # method=vd.Spline(),\n",
    "\n",
    "#     interp_on=\"dist_along_line\",\n",
    "#     engine=\"scipy\",\n",
    "#     method=\"cubic\",\n",
    "\n",
    "#     # plot_line=True,\n",
    "# )\n",
    "\n",
    "# # x[x.is_intersection]"
   ]
  },
  {
   "cell_type": "code",
   "execution_count": null,
   "metadata": {
    "tags": []
   },
   "outputs": [],
   "source": [
    "# x = grav.interp1d_windows(\n",
    "#     rosetta[rosetta.line.isin([1000])],\n",
    "#     to_interp=[\"FAG_levelled\", \"Height\"],\n",
    "\n",
    "#     window_width = 1e3,\n",
    "\n",
    "#     # interp_on=[\"x\",\"y\"],\n",
    "#     # engine=\"verde\",\n",
    "#     # method=vd.Spline(),\n",
    "\n",
    "#     interp_on=\"dist_along_line\",\n",
    "#     engine=\"scipy\",\n",
    "#     method=\"cubic\",\n",
    "\n",
    "#     # plot_windows=True,\n",
    "#     # plot_line=True,\n",
    "# )\n",
    "\n",
    "# # x[x.is_intersection]"
   ]
  },
  {
   "cell_type": "markdown",
   "metadata": {},
   "source": [
    "## Interpolate data at intersections"
   ]
  },
  {
   "cell_type": "code",
   "execution_count": null,
   "metadata": {
    "execution": {
     "iopub.execute_input": "2023-05-10T07:22:01.810392Z",
     "iopub.status.busy": "2023-05-10T07:22:01.810060Z",
     "iopub.status.idle": "2023-05-10T07:22:02.369728Z",
     "shell.execute_reply": "2023-05-10T07:22:02.369179Z",
     "shell.execute_reply.started": "2023-05-10T07:22:01.810369Z"
    },
    "tags": []
   },
   "outputs": [],
   "source": [
    "rosetta = grav.interp1d_all_lines(\n",
    "    rosetta,\n",
    "    # rosetta[rosetta.line.isin(lines_with_elev_issues)],\n",
    "    # rosetta[rosetta.line.between(1080, 1100)],\n",
    "    # rosetta[rosetta.line==630],\n",
    "    to_interp=[\"FAG_levelled\", \"Height\"],\n",
    "    window_width=5e3,\n",
    "    # interp_on=[\"x\",\"y\"],\n",
    "    # engine=\"verde\",\n",
    "    # method=vd.Spline(),\n",
    "    interp_on=\"dist_along_line\",\n",
    "    engine=\"scipy\",\n",
    "    method=\"cubic\",\n",
    "    # plot=True,\n",
    "    # wait_for_input=True,\n",
    ")"
   ]
  },
  {
   "cell_type": "markdown",
   "metadata": {},
   "source": [
    "## Manually check and clean data"
   ]
  },
  {
   "cell_type": "code",
   "execution_count": null,
   "metadata": {
    "execution": {
     "iopub.execute_input": "2023-05-10T07:22:04.922597Z",
     "iopub.status.busy": "2023-05-10T07:22:04.922298Z",
     "iopub.status.idle": "2023-05-10T07:22:04.955346Z",
     "shell.execute_reply": "2023-05-10T07:22:04.954857Z",
     "shell.execute_reply.started": "2023-05-10T07:22:04.922578Z"
    },
    "tags": []
   },
   "outputs": [],
   "source": [
    "lines_with_no_intersections = [\n",
    "    20,\n",
    "    560.0,\n",
    "]\n",
    "lines_with_int_issues = [\n",
    "    250,  # gap at 1030\n",
    "    430,  # gap at 1100\n",
    "    470,  # iterpolated grav at 1050, 1040, and 1030\n",
    "    510,  # gap at 1000\n",
    "    630,  # gap at 1100, 1120\n",
    "    660,  # gap at 1020\n",
    "    680,  # gap at 1090 # might be close enough\n",
    "    700,  # gap at 1020, 1050\n",
    "    720,  # gap at 1020\n",
    "    1020,  # gap at 660,\n",
    "]\n",
    "intersection_issues = [\n",
    "    [250, 1300],\n",
    "    [430, 1100],\n",
    "    # [470, 1030],\n",
    "    [470, 1040],\n",
    "    # [470, 1050],\n",
    "    [510, 1000],\n",
    "    [630, 1100],\n",
    "    [630, 1120],\n",
    "    [660, 1020],\n",
    "    [680, 1090],\n",
    "    [700, 1020],\n",
    "    [700, 1050],\n",
    "    [720, 1020],\n",
    "    [1020, 660],\n",
    "]\n",
    "\n",
    "lines_with_elev_issues = [\n",
    "    590,  # short chunk of data at start\n",
    "]\n",
    "lines_with_grav_issues = [\n",
    "    450,  # flat at both ends\n",
    "    470,  # flat at start, flat between ints of 1050 and 1030, very negative at start\n",
    "    590,  # short chunk of data at start\n",
    "    870,  # flat at end\n",
    "    900,  # flat at start\n",
    "    910,  # flat at start\n",
    "    1070,  # flat at end\n",
    "    1120,  # very negative at start\n",
    "    1140,  # very positive at start\n",
    "]"
   ]
  },
  {
   "cell_type": "code",
   "execution_count": null,
   "metadata": {
    "tags": []
   },
   "outputs": [],
   "source": [
    "# grav.plot_line_and_crosses(\n",
    "#     rosetta_inters,\n",
    "#     line=1140,\n",
    "#     y=[\"FAG_levelled\", \"Height\"],\n",
    "#     y_axes=[1,2],\n",
    "# )"
   ]
  },
  {
   "cell_type": "code",
   "execution_count": null,
   "metadata": {
    "execution": {
     "iopub.execute_input": "2023-05-10T07:22:06.802360Z",
     "iopub.status.busy": "2023-05-10T07:22:06.802064Z",
     "iopub.status.idle": "2023-05-10T07:22:06.918874Z",
     "shell.execute_reply": "2023-05-10T07:22:06.918346Z",
     "shell.execute_reply.started": "2023-05-10T07:22:06.802341Z"
    },
    "tags": []
   },
   "outputs": [],
   "source": [
    "df = rosetta.copy()\n",
    "to_remove = []\n",
    "\n",
    "# 450: delete flat grav data at start\n",
    "clean = df.loc[\n",
    "    (df.line == 450) & ((df.dist_along_line < 6e3) | (df.dist_along_line > 802e3))\n",
    "]\n",
    "print(f\"removing {len(clean)} points from line {clean.line.unique()}\")\n",
    "to_remove.append(clean)\n",
    "\n",
    "# 470: delete flat grav data at start and flat data between ints 1030 and 1050\n",
    "clean = df.loc[\n",
    "    (df.line == 470)\n",
    "    & ((df.dist_along_line < 57e3) | (df.dist_along_line.between(476.5e3, 585.5e3)))\n",
    "]\n",
    "print(f\"removing {len(clean)} points from line {clean.line.unique()}\")\n",
    "to_remove.append(clean)\n",
    "\n",
    "# 590: delete grav + height data at start\n",
    "clean = df.loc[(df.line == 590) & (df.dist_along_line < 10e3)]\n",
    "print(f\"removing {len(clean)} points from line {clean.line.unique()}\")\n",
    "to_remove.append(clean)\n",
    "\n",
    "# 870: delete grav + height data at end\n",
    "clean = df.loc[(df.line == 870) & (df.dist_along_line > 318e3)]\n",
    "print(f\"removing {len(clean)} points from line {clean.line.unique()}\")\n",
    "to_remove.append(clean)\n",
    "\n",
    "# 900: delete grav + height data at start\n",
    "clean = df.loc[(df.line == 900) & (df.dist_along_line < 3.8e3)]\n",
    "print(f\"removing {len(clean)} points from line {clean.line.unique()}\")\n",
    "to_remove.append(clean)\n",
    "\n",
    "# 910: delete grav + height data at start\n",
    "clean = df.loc[(df.line == 910) & (df.dist_along_line < 26e3)]\n",
    "print(f\"removing {len(clean)} points from line {clean.line.unique()}\")\n",
    "to_remove.append(clean)\n",
    "\n",
    "# 1070: delete grav + height data at end, removes intersection with 880\n",
    "clean = df.loc[(df.line == 1070) & (df.dist_along_line > 700e3)]\n",
    "print(f\"removing {len(clean)} points from line {clean.line.unique()}\")\n",
    "to_remove.append(clean)\n",
    "\n",
    "df_remove = pd.concat(to_remove)\n",
    "\n",
    "rosetta_cleaned = rosetta.drop(index=df_remove.index)\n",
    "assert len(rosetta_cleaned) == len(rosetta) - len(df_remove)\n",
    "\n",
    "print(f\"\\ntotal number of rows in dataframe: {len(rosetta_cleaned)}\")"
   ]
  },
  {
   "cell_type": "code",
   "execution_count": null,
   "metadata": {
    "execution": {
     "iopub.execute_input": "2023-05-10T07:22:12.062894Z",
     "iopub.status.busy": "2023-05-10T07:22:12.062568Z",
     "iopub.status.idle": "2023-05-10T07:22:12.104205Z",
     "shell.execute_reply": "2023-05-10T07:22:12.103693Z",
     "shell.execute_reply.started": "2023-05-10T07:22:12.062873Z"
    },
    "tags": []
   },
   "outputs": [],
   "source": [
    "print(\n",
    "    f\"number of intersections in dataframe: {len(rosetta_cleaned[rosetta_cleaned.is_intersection])}\"\n",
    ")\n",
    "print(f\"number of intersections: {len(inters)}\")"
   ]
  },
  {
   "cell_type": "markdown",
   "metadata": {},
   "source": [
    "## Re-do intersections with cleaned data"
   ]
  },
  {
   "cell_type": "code",
   "execution_count": null,
   "metadata": {
    "execution": {
     "iopub.execute_input": "2023-05-10T07:22:15.321826Z",
     "iopub.status.busy": "2023-05-10T07:22:15.321514Z",
     "iopub.status.idle": "2023-05-10T07:22:55.797819Z",
     "shell.execute_reply": "2023-05-10T07:22:55.797163Z",
     "shell.execute_reply.started": "2023-05-10T07:22:15.321806Z"
    },
    "tags": []
   },
   "outputs": [],
   "source": [
    "inters = grav.create_intersection_table(rosetta_cleaned, cutoff_dist=10e3, plot=False)\n",
    "rosetta_df, inters = grav.add_intersections(rosetta_cleaned, inters)\n",
    "\n",
    "print(\n",
    "    f\"number of intersections in dataframe: {len(rosetta_df[rosetta_df.is_intersection])}\"\n",
    ")\n",
    "print(f\"number of intersections: {len(inters)}\")"
   ]
  },
  {
   "cell_type": "markdown",
   "metadata": {},
   "source": [
    "## Re-interpolate at new intersections"
   ]
  },
  {
   "cell_type": "code",
   "execution_count": null,
   "metadata": {
    "execution": {
     "iopub.execute_input": "2023-05-10T07:24:20.961534Z",
     "iopub.status.busy": "2023-05-10T07:24:20.961213Z",
     "iopub.status.idle": "2023-05-10T07:24:32.451124Z",
     "shell.execute_reply": "2023-05-10T07:24:32.450595Z",
     "shell.execute_reply.started": "2023-05-10T07:24:20.961509Z"
    },
    "tags": []
   },
   "outputs": [],
   "source": [
    "rosetta_df = grav.interp1d_all_lines(\n",
    "    rosetta_df,\n",
    "    to_interp=[\"FAG_levelled\", \"Height\"],\n",
    "    window_width=5e3,\n",
    "    interp_on=\"dist_along_line\",\n",
    "    engine=\"scipy\",\n",
    "    method=\"cubic\",\n",
    "    # plot=True,\n",
    "    # wait_for_input=True,\n",
    ")\n",
    "rosetta_df[rosetta_df.is_intersection]"
   ]
  },
  {
   "cell_type": "markdown",
   "metadata": {},
   "source": [
    "##  Get crossover errors\n",
    "\n",
    "https://gist.github.com/maptastik/dc3d3b4514546310500a13fb77663bb9\n"
   ]
  },
  {
   "cell_type": "code",
   "execution_count": null,
   "metadata": {
    "execution": {
     "iopub.execute_input": "2023-05-10T07:24:36.630862Z",
     "iopub.status.busy": "2023-05-10T07:24:36.630523Z",
     "iopub.status.idle": "2023-05-10T07:25:12.123427Z",
     "shell.execute_reply": "2023-05-10T07:25:12.122802Z",
     "shell.execute_reply.started": "2023-05-10T07:24:36.630841Z"
    },
    "tags": []
   },
   "outputs": [],
   "source": [
    "inters, rosetta_df = grav.calculate_misties(\n",
    "    inters,\n",
    "    rosetta_df,\n",
    "    data_col=\"FAG_levelled\",\n",
    "    mistie_name=\"mistie_before_UC\",\n",
    "    # plot=True,\n",
    "    robust=False,\n",
    ")\n",
    "print(\n",
    "    f\"mistie RMSE / mean: {utils.RMSE(inters.mistie_before_UC)} / {np.nanmean(inters.mistie_before_UC)}\"\n",
    ")\n",
    "inters.sort_values(by=\"mistie_before_UC\")"
   ]
  },
  {
   "cell_type": "markdown",
   "metadata": {},
   "source": [
    "## Save / load from csv"
   ]
  },
  {
   "cell_type": "code",
   "execution_count": null,
   "metadata": {
    "execution": {
     "iopub.execute_input": "2023-05-10T07:26:59.278240Z",
     "iopub.status.busy": "2023-05-10T07:26:59.277896Z",
     "iopub.status.idle": "2023-05-10T07:27:31.245366Z",
     "shell.execute_reply": "2023-05-10T07:27:31.244778Z",
     "shell.execute_reply.started": "2023-05-10T07:26:59.278218Z"
    },
    "tags": []
   },
   "outputs": [],
   "source": [
    "# rosetta_df.to_csv(\n",
    "#     \"../data/ROSETTA_cleaned.csv.gz\",\n",
    "#     sep=\",\",\n",
    "#     na_rep=\"\",\n",
    "#     header=True,\n",
    "#     index=False,\n",
    "#     encoding=\"utf-8\",\n",
    "#     compression=\"gzip\",\n",
    "# )\n",
    "# inters.to_file(\n",
    "#      \"../data/ROSETTA_cleaned_intersections.gpkg\",\n",
    "# )"
   ]
  },
  {
   "cell_type": "code",
   "execution_count": null,
   "metadata": {
    "execution": {
     "iopub.execute_input": "2023-05-10T20:50:21.142609Z",
     "iopub.status.busy": "2023-05-10T20:50:21.142295Z",
     "iopub.status.idle": "2023-05-10T20:50:22.537897Z",
     "shell.execute_reply": "2023-05-10T20:50:22.537358Z",
     "shell.execute_reply.started": "2023-05-10T20:50:21.142588Z"
    },
    "tags": []
   },
   "outputs": [],
   "source": [
    "rosetta_df = pd.read_csv(\n",
    "    \"../data/ROSETTA_cleaned.csv.gz\",\n",
    "    sep=\",\",\n",
    "    header=\"infer\",\n",
    "    index_col=None,\n",
    "    compression=\"gzip\",\n",
    ")\n",
    "inters = gpd.GeoDataFrame.from_file(\n",
    "    \"../data/ROSETTA_cleaned_intersections.gpkg\",\n",
    ")\n",
    "rosetta_df"
   ]
  },
  {
   "cell_type": "code",
   "execution_count": null,
   "metadata": {},
   "outputs": [],
   "source": []
  },
  {
   "cell_type": "markdown",
   "metadata": {
    "tags": []
   },
   "source": [
    "# Individually block-reduce lines"
   ]
  },
  {
   "cell_type": "code",
   "execution_count": null,
   "metadata": {
    "execution": {
     "iopub.execute_input": "2023-05-10T07:28:29.056475Z",
     "iopub.status.busy": "2023-05-10T07:28:29.056144Z",
     "iopub.status.idle": "2023-05-10T07:28:29.786748Z",
     "shell.execute_reply": "2023-05-10T07:28:29.786155Z",
     "shell.execute_reply.started": "2023-05-10T07:28:29.056450Z"
    },
    "tags": []
   },
   "outputs": [],
   "source": [
    "grouped = rosetta_df.groupby(\"line\")\n",
    "\n",
    "blocked_dfs = []\n",
    "for name, group in grouped:\n",
    "    df = group.drop(columns=\"geometry\")\n",
    "\n",
    "    blocked = utils.block_reduce(\n",
    "        df.drop(columns=[\"is_intersection\", \"intersecting_line\"]),\n",
    "        np.mean,\n",
    "        spacing=1e3,\n",
    "        center_coordinates=False,\n",
    "        input_coord_names=[\"easting\", \"northing\"],\n",
    "    )\n",
    "\n",
    "    # add back columns\n",
    "    blocked[\"is_intersection\"] = False\n",
    "    blocked[\"intersecting_line\"] = \"\"\n",
    "\n",
    "    # merge back intersection points\n",
    "    prior_len = len(blocked)\n",
    "    blocked = pd.concat([blocked, df[df.is_intersection]])\n",
    "    assert len(blocked) == prior_len + len(df[df.is_intersection])\n",
    "\n",
    "    blocked_dfs.append(blocked)\n",
    "\n",
    "rosetta_blocked = pd.concat(blocked_dfs)\n",
    "rosetta_blocked"
   ]
  },
  {
   "cell_type": "code",
   "execution_count": null,
   "metadata": {
    "execution": {
     "iopub.execute_input": "2023-05-10T07:28:34.032655Z",
     "iopub.status.busy": "2023-05-10T07:28:34.032315Z",
     "iopub.status.idle": "2023-05-10T07:28:34.080320Z",
     "shell.execute_reply": "2023-05-10T07:28:34.079823Z",
     "shell.execute_reply.started": "2023-05-10T07:28:34.032635Z"
    },
    "tags": []
   },
   "outputs": [],
   "source": [
    "rosetta_blocked[rosetta_blocked.is_intersection]"
   ]
  },
  {
   "cell_type": "markdown",
   "metadata": {},
   "source": [
    "## Save / load from csv"
   ]
  },
  {
   "cell_type": "code",
   "execution_count": null,
   "metadata": {
    "execution": {
     "iopub.execute_input": "2023-05-10T07:28:56.342316Z",
     "iopub.status.busy": "2023-05-10T07:28:56.341985Z",
     "iopub.status.idle": "2023-05-10T07:28:57.538650Z",
     "shell.execute_reply": "2023-05-10T07:28:57.537833Z",
     "shell.execute_reply.started": "2023-05-10T07:28:56.342295Z"
    },
    "tags": []
   },
   "outputs": [],
   "source": [
    "# rosetta_blocked.to_csv(\n",
    "#     \"../data/ROSETTA_cleaned_blocked.csv.gz\",\n",
    "#     sep=\",\",\n",
    "#     na_rep=\"\",\n",
    "#     header=True,\n",
    "#     index=False,\n",
    "#     encoding=\"utf-8\",\n",
    "#     compression=\"gzip\",\n",
    "# )"
   ]
  },
  {
   "cell_type": "code",
   "execution_count": null,
   "metadata": {
    "execution": {
     "iopub.execute_input": "2023-05-10T20:50:40.663233Z",
     "iopub.status.busy": "2023-05-10T20:50:40.662883Z",
     "iopub.status.idle": "2023-05-10T20:50:40.789942Z",
     "shell.execute_reply": "2023-05-10T20:50:40.789459Z",
     "shell.execute_reply.started": "2023-05-10T20:50:40.663208Z"
    },
    "tags": []
   },
   "outputs": [],
   "source": [
    "rosetta_blocked = pd.read_csv(\n",
    "    \"../data/ROSETTA_cleaned_blocked.csv.gz\",\n",
    "    sep=\",\",\n",
    "    header=\"infer\",\n",
    "    index_col=None,\n",
    "    compression=\"gzip\",\n",
    ")\n",
    "rosetta_blocked"
   ]
  },
  {
   "cell_type": "code",
   "execution_count": null,
   "metadata": {
    "execution": {
     "iopub.execute_input": "2023-05-10T20:56:19.791481Z",
     "iopub.status.busy": "2023-05-10T20:56:19.790811Z",
     "iopub.status.idle": "2023-05-10T20:56:20.520920Z",
     "shell.execute_reply": "2023-05-10T20:56:20.520390Z",
     "shell.execute_reply.started": "2023-05-10T20:56:19.791454Z"
    },
    "tags": []
   },
   "outputs": [],
   "source": [
    "grav.plotly_points(\n",
    "    rosetta_blocked,\n",
    "    coord_names=[\"easting\", \"northing\"],\n",
    "    color_col=\"FAG_levelled\",\n",
    "    hover_cols=[\"FAG_levelled\", \"Height\", \"line\"],\n",
    "    robust=True,\n",
    "    # point_size=4,\n",
    ")"
   ]
  },
  {
   "cell_type": "code",
   "execution_count": null,
   "metadata": {
    "execution": {
     "iopub.execute_input": "2023-05-10T07:29:04.401887Z",
     "iopub.status.busy": "2023-05-10T07:29:04.401590Z",
     "iopub.status.idle": "2023-05-10T07:29:05.137960Z",
     "shell.execute_reply": "2023-05-10T07:29:05.137397Z",
     "shell.execute_reply.started": "2023-05-10T07:29:04.401868Z"
    },
    "tags": []
   },
   "outputs": [],
   "source": [
    "grav.plotly_points(\n",
    "    rosetta_blocked,\n",
    "    coord_names=[\"easting\", \"northing\"],\n",
    "    color_col=\"Height\",\n",
    "    hover_cols=[\"FAG_levelled\", \"Height\", \"line\"],\n",
    "    robust=True,\n",
    "    # point_size=5,\n",
    ")"
   ]
  },
  {
   "cell_type": "markdown",
   "metadata": {},
   "source": [
    "# Individually upward continue lines"
   ]
  },
  {
   "cell_type": "markdown",
   "metadata": {},
   "source": [
    "## find optimal parameters for each line"
   ]
  },
  {
   "cell_type": "code",
   "execution_count": null,
   "metadata": {
    "execution": {
     "iopub.execute_input": "2023-05-10T10:09:53.211806Z",
     "iopub.status.busy": "2023-05-10T10:09:53.211457Z",
     "iopub.status.idle": "2023-05-10T10:17:40.323828Z",
     "shell.execute_reply": "2023-05-10T10:17:40.323288Z",
     "shell.execute_reply.started": "2023-05-10T10:09:53.211782Z"
    },
    "tags": []
   },
   "outputs": [],
   "source": [
    "df = rosetta_blocked.copy()\n",
    "lines = df.groupby(\"line\")\n",
    "\n",
    "damping_limits = [1, 1000]\n",
    "depth_limits = [0, 50e3]\n",
    "\n",
    "best_dampings = []\n",
    "best_depths = []\n",
    "eqs_bests = []\n",
    "line_names = []\n",
    "scores = []\n",
    "for line, df in tqdm(lines, desc=\"Lines\"):\n",
    "    coords = (df.easting, df.northing, df.Height)\n",
    "    data = df.FAG_levelled\n",
    "\n",
    "    study_df, eqs = inv_utils.optimize_eq_source_params(\n",
    "        coords,\n",
    "        data,\n",
    "        n_trials=10,\n",
    "        damping_limits=damping_limits,\n",
    "        depth_limits=depth_limits,\n",
    "        parallel=False,\n",
    "        # fname=\"tmp\",\n",
    "        # use_existing=True,\n",
    "        plot=False,\n",
    "    )\n",
    "\n",
    "    # get best score\n",
    "    score = study_df.iloc[0].value\n",
    "\n",
    "    # add values to lists\n",
    "    best_dampings.append(eqs.damping)\n",
    "    best_depths.append(eqs.depth)\n",
    "    eqs_bests.append(eqs)\n",
    "    line_names.append(line)\n",
    "    scores.append(score)\n",
    "\n",
    "best_eqs_per_line = pd.DataFrame(\n",
    "    {\n",
    "        \"line\": line_names,\n",
    "        \"eq_fitted\": eqs_bests,\n",
    "        \"damping\": best_dampings,\n",
    "        \"depth\": best_depths,\n",
    "        \"score\": scores,\n",
    "    }\n",
    ")\n",
    "\n",
    "best_eqs_per_line.to_pickle(\"../data/RIS_best_eqs_per_line.pkl\")\n",
    "\n",
    "best_eqs_per_line = pd.read_pickle(\n",
    "    \"../data/RIS_best_eqs_per_line.pkl\",\n",
    ")\n",
    "\n",
    "print(\n",
    "    f\"Dampings: possible range: {damping_limits[0], damping_limits[1]}\\n\",\n",
    "    f\"  min: {np.min(best_eqs_per_line.damping)}\\n\",\n",
    "    f\"  mode: {best_eqs_per_line.damping.mode()[0]}\\n\",\n",
    "    f\"  max: {np.max(best_eqs_per_line.damping)}\",\n",
    ")\n",
    "print(\n",
    "    f\"Depths: possible range: {depth_limits[0], depth_limits[1]}\\n\",\n",
    "    f\"  min: {np.min(best_eqs_per_line.depth)}\\n\",\n",
    "    f\"  mode: {best_eqs_per_line.depth.mode()[0]}\\n\",\n",
    "    f\"  max: {np.max(best_eqs_per_line.depth)}\",\n",
    ")\n",
    "best_eqs_per_line"
   ]
  },
  {
   "cell_type": "code",
   "execution_count": null,
   "metadata": {
    "execution": {
     "iopub.execute_input": "2023-05-10T10:19:26.010758Z",
     "iopub.status.busy": "2023-05-10T10:19:26.010442Z",
     "iopub.status.idle": "2023-05-10T10:19:26.494685Z",
     "shell.execute_reply": "2023-05-10T10:19:26.494188Z",
     "shell.execute_reply.started": "2023-05-10T10:19:26.010734Z"
    },
    "tags": []
   },
   "outputs": [],
   "source": [
    "df = best_eqs_per_line\n",
    "# df.sort_values(by=\"dampings\", inplace=True)\n",
    "\n",
    "best = df.score.argmax()\n",
    "\n",
    "sns.set_theme()\n",
    "\n",
    "fig, axes = plt.subplots(1, 2, figsize=(10, 3.5))\n",
    "plt.suptitle(f\"Equivalent Source Parameters\")\n",
    "\n",
    "# Dampings\n",
    "axes[0].scatter(\n",
    "    df.damping,\n",
    "    df.score,\n",
    "    marker=\"o\",\n",
    ")\n",
    "axes[0].scatter(\n",
    "    df.damping.iloc[best],\n",
    "    df.score.iloc[best],\n",
    "    marker=\"s\",\n",
    "    # markersize=10,\n",
    "    color=sns.color_palette()[3],\n",
    "    label=\"Minimum\",\n",
    ")\n",
    "axes[0].legend(loc=\"best\")\n",
    "axes[0].set_xlabel(\"Damping\")\n",
    "axes[0].set_ylabel(\"Score\")\n",
    "\n",
    "# Depths\n",
    "axes[1].scatter(\n",
    "    df.depth,\n",
    "    df.score,\n",
    "    marker=\"o\",\n",
    ")\n",
    "axes[1].scatter(\n",
    "    df.depth.iloc[best],\n",
    "    df.score.iloc[best],\n",
    "    marker=\"s\",\n",
    "    # markersize=10,\n",
    "    color=sns.color_palette()[3],\n",
    "    label=\"Minimum\",\n",
    ")\n",
    "axes[1].set_xlabel(\"Depth\")\n",
    "axes[1].set_ylabel(\"Score\")\n",
    "axes[1].legend(loc=\"best\")\n",
    "\n",
    "ylims = [0.995, 1.0005]\n",
    "axes[0].set_ylim(ylims)\n",
    "axes[1].set_ylim(ylims)\n",
    "\n",
    "plt.tight_layout()"
   ]
  },
  {
   "cell_type": "markdown",
   "metadata": {},
   "source": [
    "## Upward continue data "
   ]
  },
  {
   "cell_type": "code",
   "execution_count": null,
   "metadata": {
    "execution": {
     "iopub.execute_input": "2023-05-10T10:19:43.810900Z",
     "iopub.status.busy": "2023-05-10T10:19:43.810576Z",
     "iopub.status.idle": "2023-05-10T10:19:44.026620Z",
     "shell.execute_reply": "2023-05-10T10:19:44.026125Z",
     "shell.execute_reply.started": "2023-05-10T10:19:43.810881Z"
    },
    "tags": []
   },
   "outputs": [],
   "source": [
    "plot = False\n",
    "\n",
    "# df = rosetta_blocked[rosetta_blocked.line.isin(best_eqs_per_line.line.unique())].copy()\n",
    "\n",
    "grouped = rosetta_blocked.copy()\n",
    "grouped[\"up_cont_grav\"] = np.nan\n",
    "grouped = grouped.groupby(\"line\")\n",
    "\n",
    "line_numbers = []\n",
    "up_cont_RMSE = []\n",
    "line_dfs = []\n",
    "for line, df in tqdm(grouped, desc=\"Lines\"):\n",
    "    eq_fitted = best_eqs_per_line[best_eqs_per_line.line == line].eq_fitted.iloc[0]\n",
    "\n",
    "    # up cont to 1km at some points as before\n",
    "    values = eq_fitted.predict(\n",
    "        (df.easting, df.northing, np.ones_like(df.northing) * 1e3)\n",
    "    )\n",
    "    df.loc[df.line == line, \"up_cont_grav\"] = values\n",
    "\n",
    "    if plot is True:\n",
    "        grav.plot_line_and_crosses(\n",
    "            df,\n",
    "            line=line,\n",
    "            y=[\"Height\", \"FAG_levelled\", \"up_cont_grav\"],\n",
    "        )\n",
    "\n",
    "    # compare to original gravity\n",
    "    df[\"dif\"] = df.up_cont_grav - df.FAG_levelled\n",
    "\n",
    "    rmse = utils.RMSE(df[df.line == line].dif)\n",
    "\n",
    "    line_numbers.append(line)\n",
    "    up_cont_RMSE.append(rmse)\n",
    "    line_dfs.append(df)\n",
    "\n",
    "rosetta_UC = pd.concat(line_dfs)\n",
    "\n",
    "eq_diffs = pd.DataFrame(\n",
    "    {\"line\": line_numbers, \"up_cont_RMSE\": up_cont_RMSE}\n",
    ").sort_values(by=\"up_cont_RMSE\", ascending=False)\n",
    "eq_diffs"
   ]
  },
  {
   "cell_type": "markdown",
   "metadata": {},
   "source": [
    "## Update the misties"
   ]
  },
  {
   "cell_type": "code",
   "execution_count": null,
   "metadata": {
    "execution": {
     "iopub.execute_input": "2023-05-10T10:19:50.510642Z",
     "iopub.status.busy": "2023-05-10T10:19:50.510402Z",
     "iopub.status.idle": "2023-05-10T10:19:51.470352Z",
     "shell.execute_reply": "2023-05-10T10:19:51.469863Z",
     "shell.execute_reply.started": "2023-05-10T10:19:50.510623Z"
    },
    "tags": []
   },
   "outputs": [],
   "source": [
    "print(f\"Previous mistie RMSE: {utils.RMSE(inters.mistie_before_UC)}\")\n",
    "inters, rosetta_UC = grav.calculate_misties(\n",
    "    inters,\n",
    "    rosetta_UC,\n",
    "    data_col=\"up_cont_grav\",\n",
    "    mistie_name=\"mistie_after_UC\",\n",
    "    # plot=True,\n",
    "    robust=False,\n",
    ")\n",
    "print(f\"Updated mistie RMSE: {utils.RMSE(inters.mistie_after_UC)}\")\n",
    "inters.sort_values(by=\"mistie_after_UC\").head()"
   ]
  },
  {
   "cell_type": "markdown",
   "metadata": {},
   "source": [
    "## Save and load from csv"
   ]
  },
  {
   "cell_type": "code",
   "execution_count": null,
   "metadata": {
    "execution": {
     "iopub.execute_input": "2023-05-10T10:21:22.551332Z",
     "iopub.status.busy": "2023-05-10T10:21:22.550901Z",
     "iopub.status.idle": "2023-05-10T10:21:26.180820Z",
     "shell.execute_reply": "2023-05-10T10:21:26.180236Z",
     "shell.execute_reply.started": "2023-05-10T10:21:22.551305Z"
    },
    "tags": []
   },
   "outputs": [],
   "source": [
    "rosetta_UC.to_csv(\n",
    "    \"../data/ROSETTA_UC.csv.gz\",\n",
    "    sep=\",\",\n",
    "    na_rep=\"\",\n",
    "    header=True,\n",
    "    index=False,\n",
    "    encoding=\"utf-8\",\n",
    "    compression=\"gzip\",\n",
    ")\n",
    "inters.to_file(\n",
    "    \"../data/ROSETTA_UC_intersections.gpkg\",\n",
    ")"
   ]
  },
  {
   "cell_type": "code",
   "execution_count": null,
   "metadata": {
    "execution": {
     "iopub.execute_input": "2023-05-10T09:23:47.712080Z",
     "iopub.status.busy": "2023-05-10T09:23:47.711745Z",
     "iopub.status.idle": "2023-05-10T09:23:47.957933Z",
     "shell.execute_reply": "2023-05-10T09:23:47.957420Z",
     "shell.execute_reply.started": "2023-05-10T09:23:47.712059Z"
    },
    "tags": []
   },
   "outputs": [],
   "source": [
    "rosetta_UC = pd.read_csv(\n",
    "    \"../data/ROSETTA_UC.csv.gz\",\n",
    "    sep=\",\",\n",
    "    header=\"infer\",\n",
    "    index_col=None,\n",
    "    compression=\"gzip\",\n",
    ")\n",
    "inters = gpd.GeoDataFrame.from_file(\n",
    "    \"../data/ROSETTA_UC_intersections.gpkg\",\n",
    ")\n",
    "inters"
   ]
  },
  {
   "cell_type": "code",
   "execution_count": null,
   "metadata": {
    "execution": {
     "iopub.execute_input": "2023-05-10T10:20:01.929733Z",
     "iopub.status.busy": "2023-05-10T10:20:01.929476Z",
     "iopub.status.idle": "2023-05-10T10:20:02.981401Z",
     "shell.execute_reply": "2023-05-10T10:20:02.980782Z",
     "shell.execute_reply.started": "2023-05-10T10:20:01.929714Z"
    },
    "tags": []
   },
   "outputs": [],
   "source": [
    "grav.plotly_points(\n",
    "    rosetta_UC,\n",
    "    color_col=\"dif\",\n",
    "    hover_cols=[\"FAG_levelled\", \"up_cont_grav\", \"dif\", \"Height\", \"line\"],\n",
    "    robust=True,\n",
    "    # point_size=5,\n",
    ")"
   ]
  },
  {
   "cell_type": "code",
   "execution_count": null,
   "metadata": {
    "execution": {
     "iopub.execute_input": "2023-05-10T10:20:02.982873Z",
     "iopub.status.busy": "2023-05-10T10:20:02.982455Z",
     "iopub.status.idle": "2023-05-10T10:20:03.697011Z",
     "shell.execute_reply": "2023-05-10T10:20:03.696440Z",
     "shell.execute_reply.started": "2023-05-10T10:20:02.982853Z"
    },
    "tags": []
   },
   "outputs": [],
   "source": [
    "grav.plotly_points(\n",
    "    rosetta_UC,\n",
    "    color_col=\"FAG_levelled\",\n",
    "    hover_cols=[\"FAG_levelled\", \"up_cont_grav\", \"dif\", \"Height\", \"line\"],\n",
    "    robust=True,\n",
    "    # point_size=5,\n",
    ")"
   ]
  },
  {
   "cell_type": "code",
   "execution_count": null,
   "metadata": {
    "execution": {
     "iopub.execute_input": "2023-05-10T10:20:03.698119Z",
     "iopub.status.busy": "2023-05-10T10:20:03.697714Z",
     "iopub.status.idle": "2023-05-10T10:20:04.403173Z",
     "shell.execute_reply": "2023-05-10T10:20:04.402607Z",
     "shell.execute_reply.started": "2023-05-10T10:20:03.698100Z"
    },
    "tags": []
   },
   "outputs": [],
   "source": [
    "grav.plotly_points(\n",
    "    rosetta_UC,\n",
    "    color_col=\"up_cont_grav\",\n",
    "    hover_cols=[\"FAG_levelled\", \"up_cont_grav\", \"dif\", \"Height\", \"line\"],\n",
    "    robust=True,\n",
    "    # point_size=5,\n",
    ")"
   ]
  },
  {
   "cell_type": "code",
   "execution_count": null,
   "metadata": {
    "execution": {
     "iopub.execute_input": "2023-04-07T00:54:15.275486Z",
     "iopub.status.busy": "2023-04-07T00:54:15.275169Z",
     "iopub.status.idle": "2023-04-07T00:54:15.401421Z",
     "shell.execute_reply": "2023-04-07T00:54:15.400981Z",
     "shell.execute_reply.started": "2023-04-07T00:54:15.275469Z"
    },
    "tags": []
   },
   "outputs": [],
   "source": [
    "# grav.plot_line_and_crosses(\n",
    "#     df,\n",
    "#     line=80,\n",
    "#     y=[\"Height\", \"FAG_levelled\", \"up_cont_grav\",],\n",
    "# )"
   ]
  },
  {
   "cell_type": "markdown",
   "metadata": {},
   "source": [
    "# Level lines to ties"
   ]
  },
  {
   "cell_type": "markdown",
   "metadata": {
    "tags": []
   },
   "source": [
    "## 0th order levelling\n",
    "Apply DC-shifts to all lines to minimize mistie values\n",
    "\n",
    "calculates least-squares trend through intersection points"
   ]
  },
  {
   "cell_type": "code",
   "execution_count": null,
   "metadata": {
    "tags": []
   },
   "outputs": [],
   "source": [
    "# # level an individual line\n",
    "# line = 1090\n",
    "# df1 = grav.verde_predict_trend(\n",
    "#     inters[inters.line2==line],\n",
    "#     [\"easting\", \"northing\", \"mistie_after_UC\"],\n",
    "#     rosetta_UC[rosetta_UC.line==line],\n",
    "#     [\"easting\", \"northing\", \"levelling_correction\"],\n",
    "#     degree=1,\n",
    "# )\n",
    "# df1['levelled'] = df1.up_cont_grav - df1.levelling_correction\n",
    "\n",
    "# grav.plot_line_and_crosses(\n",
    "#     df1,\n",
    "#     y=[\n",
    "#         \"up_cont_grav\",\n",
    "#         \"levelled\",\n",
    "#         \"levelling_correction\",\n",
    "#         \"mistie_after_UC\"\n",
    "#     ],\n",
    "#     y_axes = [1,1,1,1],\n",
    "#     plot_inters = [True, False, False, False],\n",
    "#     marker_sizes=[2,2,2,10]\n",
    "#     )"
   ]
  },
  {
   "cell_type": "code",
   "execution_count": null,
   "metadata": {
    "tags": []
   },
   "outputs": [],
   "source": [
    "# # level an individual line\n",
    "# line = 190\n",
    "# df1 = grav.skl_predict_trend(\n",
    "#     inters[(inters.line1==line) | (inters.line2==line)],\n",
    "#     [\"dist_along_line1\", \"mistie_after_UC\"],\n",
    "#     rosetta_UC[rosetta_UC.line==line],\n",
    "#     [\"dist_along_line\", \"levelling_correction\"],\n",
    "#     degree=1,\n",
    "# )\n",
    "# df1['levelled'] = df1.up_cont_grav - df1.levelling_correction\n",
    "\n",
    "# grav.plot_line_and_crosses(\n",
    "#     df1,\n",
    "#     y=[\n",
    "#         \"up_cont_grav\",\n",
    "#         \"levelled\",\n",
    "#         \"levelling_correction\",\n",
    "#         \"mistie_after_UC\"\n",
    "#     ],\n",
    "#     y_axes = [1,1,1,1],\n",
    "#     plot_inters = [True, False, False, False],\n",
    "#     marker_sizes=[2,2,2,10]\n",
    "#     )"
   ]
  },
  {
   "cell_type": "code",
   "execution_count": null,
   "metadata": {
    "tags": []
   },
   "outputs": [],
   "source": [
    "# # level a group of lines\n",
    "# rosetta_UC, inters = grav.level_lines(\n",
    "#     inters,\n",
    "#     rosetta_UC,\n",
    "#     lines_to_level = rosetta_UC.line[rosetta_UC.line<1000].unique(),\n",
    "#     cols_to_fit = \"dist_along_line1\",\n",
    "#     cols_to_predict = \"dist_along_line\",\n",
    "#     degree=0,\n",
    "#     data_col = \"up_cont_grav\",\n",
    "#     mistie_col = \"mistie_before_UC\",\n",
    "#     new_mistie_col = \"mistie_trend0_1\",\n",
    "#     levelled_col = \"levelled\",\n",
    "#     plot=True,\n",
    "# )"
   ]
  },
  {
   "cell_type": "code",
   "execution_count": null,
   "metadata": {
    "execution": {
     "iopub.execute_input": "2023-05-10T10:31:39.683059Z",
     "iopub.status.busy": "2023-05-10T10:31:39.682553Z",
     "iopub.status.idle": "2023-05-10T10:31:47.510192Z",
     "shell.execute_reply": "2023-05-10T10:31:47.509611Z",
     "shell.execute_reply.started": "2023-05-10T10:31:39.683029Z"
    },
    "tags": []
   },
   "outputs": [],
   "source": [
    "# perform iterative levelling, just moving lines to match ties\n",
    "rosetta_trend0, inters = grav.iterative_line_levelling(\n",
    "    inters,\n",
    "    rosetta_UC,\n",
    "    flight_line_names=rosetta_UC.line[rosetta_UC.line < 1000].unique(),\n",
    "    degree=0,\n",
    "    starting_mistie_col=\"mistie_after_UC\",\n",
    "    starting_data_col=\"up_cont_grav\",\n",
    "    cols_to_fit=\"dist_along_line1\",\n",
    "    iterations=5,\n",
    "    # plot_iterations=True,\n",
    "    plot_results=True,\n",
    ")\n",
    "trend0_final_mistie_col = list(rosetta_trend0.columns)[-1]\n",
    "trend0_final_data_col = list(rosetta_trend0.columns)[-2]\n",
    "\n",
    "print(trend0_final_mistie_col)\n",
    "print(trend0_final_data_col)\n",
    "\n",
    "rosetta_trend0.describe()"
   ]
  },
  {
   "cell_type": "markdown",
   "metadata": {},
   "source": [
    "## 1st order levelling"
   ]
  },
  {
   "cell_type": "code",
   "execution_count": null,
   "metadata": {
    "execution": {
     "iopub.execute_input": "2023-05-10T10:32:45.990106Z",
     "iopub.status.busy": "2023-05-10T10:32:45.989780Z",
     "iopub.status.idle": "2023-05-10T10:32:52.889610Z",
     "shell.execute_reply": "2023-05-10T10:32:52.888931Z",
     "shell.execute_reply.started": "2023-05-10T10:32:45.990086Z"
    },
    "tags": []
   },
   "outputs": [],
   "source": [
    "# repeate at a higher order trend\n",
    "rosetta_trend1, inters = grav.iterative_line_levelling(\n",
    "    inters,\n",
    "    rosetta_trend0,\n",
    "    flight_line_names=rosetta_trend0.line[rosetta_trend0.line < 1000].unique(),\n",
    "    degree=1,\n",
    "    starting_mistie_col=trend0_final_mistie_col,\n",
    "    starting_data_col=trend0_final_data_col,\n",
    "    cols_to_fit=\"dist_along_line1\",\n",
    "    iterations=5,\n",
    "    # plot_iterations=True,\n",
    "    plot_results=True,\n",
    ")\n",
    "trend1_final_mistie_col = list(rosetta_trend1.columns)[-1]\n",
    "trend1_final_data_col = list(rosetta_trend1.columns)[-2]\n",
    "\n",
    "print(trend1_final_mistie_col)\n",
    "print(trend1_final_data_col)\n",
    "\n",
    "rosetta_trend1.describe()"
   ]
  },
  {
   "cell_type": "code",
   "execution_count": null,
   "metadata": {
    "execution": {
     "iopub.execute_input": "2023-05-10T09:56:13.206520Z",
     "iopub.status.busy": "2023-05-10T09:56:13.206233Z",
     "iopub.status.idle": "2023-05-10T09:56:13.237215Z",
     "shell.execute_reply": "2023-05-10T09:56:13.236706Z",
     "shell.execute_reply.started": "2023-05-10T09:56:13.206501Z"
    },
    "tags": []
   },
   "outputs": [],
   "source": [
    "# grav.plotly_points(\n",
    "#     rosetta_trend1,\n",
    "#     color_col=trend1_final_data_col,\n",
    "#     hover_cols=[\"FAG_levelled\", \"up_cont_grav\", \"dif\", \"Height\", \"line\"],\n",
    "#     robust=True,\n",
    "#     # point_size=5,\n",
    "# )"
   ]
  },
  {
   "cell_type": "markdown",
   "metadata": {},
   "source": [
    "## 2nd order levelling"
   ]
  },
  {
   "cell_type": "code",
   "execution_count": null,
   "metadata": {
    "execution": {
     "iopub.execute_input": "2023-05-10T10:33:14.989994Z",
     "iopub.status.busy": "2023-05-10T10:33:14.989658Z",
     "iopub.status.idle": "2023-05-10T10:33:22.143410Z",
     "shell.execute_reply": "2023-05-10T10:33:22.141476Z",
     "shell.execute_reply.started": "2023-05-10T10:33:14.989972Z"
    },
    "tags": []
   },
   "outputs": [],
   "source": [
    "# repeate at a higher order trend\n",
    "rosetta_trend2, inters = grav.iterative_line_levelling(\n",
    "    inters,\n",
    "    rosetta_trend1,\n",
    "    flight_line_names=rosetta_trend1.line[rosetta_trend1.line < 1000].unique(),\n",
    "    degree=2,\n",
    "    starting_mistie_col=trend1_final_mistie_col,\n",
    "    starting_data_col=trend1_final_data_col,\n",
    "    cols_to_fit=\"dist_along_line1\",\n",
    "    iterations=5,\n",
    "    # plot_iterations=True,\n",
    "    plot_results=True,\n",
    ")\n",
    "trend2_final_mistie_col = list(rosetta_trend2.columns)[-1]\n",
    "trend2_final_data_col = list(rosetta_trend2.columns)[-2]\n",
    "\n",
    "print(trend2_final_mistie_col)\n",
    "print(trend2_final_data_col)\n",
    "\n",
    "rosetta_trend2.describe()"
   ]
  },
  {
   "cell_type": "code",
   "execution_count": null,
   "metadata": {
    "execution": {
     "iopub.execute_input": "2023-05-10T10:35:37.381562Z",
     "iopub.status.busy": "2023-05-10T10:35:37.381184Z",
     "iopub.status.idle": "2023-05-10T10:35:38.740485Z",
     "shell.execute_reply": "2023-05-10T10:35:38.739589Z",
     "shell.execute_reply.started": "2023-05-10T10:35:37.381531Z"
    },
    "tags": []
   },
   "outputs": [],
   "source": [
    "grav.plotly_points(\n",
    "    rosetta_trend2,\n",
    "    color_col=trend2_final_data_col,\n",
    "    hover_cols=[\"FAG_levelled\", \"up_cont_grav\", \"dif\", \"Height\", \"line\"],\n",
    "    robust=True,\n",
    "    # point_size=5,\n",
    ")"
   ]
  },
  {
   "cell_type": "code",
   "execution_count": null,
   "metadata": {
    "execution": {
     "iopub.execute_input": "2023-05-10T10:58:43.649555Z",
     "iopub.status.busy": "2023-05-10T10:58:43.649209Z",
     "iopub.status.idle": "2023-05-10T10:59:11.317855Z",
     "shell.execute_reply": "2023-05-10T10:59:11.317113Z",
     "shell.execute_reply.started": "2023-05-10T10:58:43.649533Z"
    },
    "tags": []
   },
   "outputs": [],
   "source": [
    "eqs = hm.EquivalentSources(damping=1e2, depth=10e3, block_size=2e3)\n",
    "\n",
    "coords = (\n",
    "    rosetta_trend2.easting,\n",
    "    rosetta_trend2.northing,\n",
    "    np.ones_like(rosetta_trend2.northing) * 1e3,\n",
    ")\n",
    "\n",
    "data = rosetta_trend2[trend2_final_data_col]\n",
    "\n",
    "eqs.fit(coords, data)"
   ]
  },
  {
   "cell_type": "code",
   "execution_count": null,
   "metadata": {},
   "outputs": [],
   "source": [
    "# Define grid coordinates\n",
    "region = vd.pad_region(vd.get_region(coords), 20e3)\n",
    "grid_coords = vd.grid_coordinates(\n",
    "    region=region,\n",
    "    spacing=5e3,\n",
    "    extra_coords=1e3,  # upward continue to 1km\n",
    ")\n",
    "\n",
    "grid = eqs.grid(grid_coords)\n",
    "\n",
    "masked = vd.distance_mask((coords[0], coords[1]), maxdist=20e3, grid=grid)\n",
    "masked = masked.reset_coords(names=\"upward\")\n",
    "masked.scalars.plot(robust=True)"
   ]
  },
  {
   "cell_type": "markdown",
   "metadata": {},
   "source": [
    "# Level ties to lines"
   ]
  },
  {
   "cell_type": "markdown",
   "metadata": {},
   "source": [
    "## 0th order"
   ]
  },
  {
   "cell_type": "code",
   "execution_count": null,
   "metadata": {
    "execution": {
     "iopub.execute_input": "2023-05-10T10:36:20.809536Z",
     "iopub.status.busy": "2023-05-10T10:36:20.809154Z",
     "iopub.status.idle": "2023-05-10T10:36:26.159996Z",
     "shell.execute_reply": "2023-05-10T10:36:26.159426Z",
     "shell.execute_reply.started": "2023-05-10T10:36:20.809513Z"
    },
    "tags": []
   },
   "outputs": [],
   "source": [
    "rosetta_ties_trend0, inters = grav.iterative_line_levelling(\n",
    "    inters,\n",
    "    rosetta_trend2,\n",
    "    flight_line_names=rosetta_trend2.line[rosetta_trend2.line >= 1000].unique(),\n",
    "    degree=0,\n",
    "    starting_mistie_col=trend2_final_mistie_col,\n",
    "    starting_data_col=trend2_final_data_col,\n",
    "    iterations=5,\n",
    "    mistie_prefix=\"ties_to_lines_mistie_trend0\",\n",
    "    levelled_data_prefix=\"ties_to_lines_levelled_data_trend0\",\n",
    "    cols_to_fit=\"dist_along_line2\",\n",
    "    # plot_iterations=True,\n",
    "    plot_results=True,\n",
    ")\n",
    "ties_trend0_final_mistie_col = list(rosetta_ties_trend0.columns)[-1]\n",
    "ties_trend0_final_data_col = list(rosetta_ties_trend0.columns)[-2]\n",
    "\n",
    "print(ties_trend0_final_mistie_col)\n",
    "print(ties_trend0_final_data_col)\n",
    "\n",
    "rosetta_ties_trend0.describe()"
   ]
  },
  {
   "cell_type": "code",
   "execution_count": null,
   "metadata": {
    "execution": {
     "iopub.execute_input": "2023-05-10T09:58:06.272275Z",
     "iopub.status.busy": "2023-05-10T09:58:06.271941Z",
     "iopub.status.idle": "2023-05-10T09:58:06.304580Z",
     "shell.execute_reply": "2023-05-10T09:58:06.304072Z",
     "shell.execute_reply.started": "2023-05-10T09:58:06.272254Z"
    },
    "tags": []
   },
   "outputs": [],
   "source": [
    "ties_trend0_final_mistie_col"
   ]
  },
  {
   "cell_type": "code",
   "execution_count": null,
   "metadata": {
    "execution": {
     "iopub.execute_input": "2023-05-10T09:58:06.951839Z",
     "iopub.status.busy": "2023-05-10T09:58:06.951554Z",
     "iopub.status.idle": "2023-05-10T09:58:06.983465Z",
     "shell.execute_reply": "2023-05-10T09:58:06.982957Z",
     "shell.execute_reply.started": "2023-05-10T09:58:06.951821Z"
    },
    "tags": []
   },
   "outputs": [],
   "source": [
    "ties_trend0_final_data_col"
   ]
  },
  {
   "cell_type": "code",
   "execution_count": null,
   "metadata": {
    "execution": {
     "iopub.execute_input": "2023-05-10T09:58:22.837220Z",
     "iopub.status.busy": "2023-05-10T09:58:22.836885Z",
     "iopub.status.idle": "2023-05-10T09:58:23.743319Z",
     "shell.execute_reply": "2023-05-10T09:58:23.742740Z",
     "shell.execute_reply.started": "2023-05-10T09:58:22.837198Z"
    },
    "tags": []
   },
   "outputs": [],
   "source": [
    "grav.plotly_points(\n",
    "    rosetta_ties_trend0,\n",
    "    color_col=ties_trend0_final_data_col,\n",
    "    hover_cols=[\"FAG_levelled\", \"up_cont_grav\", \"dif\", \"Height\", \"line\"],\n",
    "    robust=True,\n",
    "    # point_size=5,\n",
    ")"
   ]
  },
  {
   "cell_type": "markdown",
   "metadata": {},
   "source": [
    "## 1st order"
   ]
  },
  {
   "cell_type": "code",
   "execution_count": null,
   "metadata": {
    "execution": {
     "iopub.execute_input": "2023-05-10T09:59:11.512162Z",
     "iopub.status.busy": "2023-05-10T09:59:11.511837Z",
     "iopub.status.idle": "2023-05-10T09:59:16.983854Z",
     "shell.execute_reply": "2023-05-10T09:59:16.983307Z",
     "shell.execute_reply.started": "2023-05-10T09:59:11.512142Z"
    },
    "tags": []
   },
   "outputs": [],
   "source": [
    "rosetta_ties_trend1, inters = grav.iterative_line_levelling(\n",
    "    inters,\n",
    "    rosetta_ties_trend0,\n",
    "    flight_line_names=rosetta_ties_trend0.line[\n",
    "        rosetta_ties_trend0.line >= 1000\n",
    "    ].unique(),\n",
    "    degree=1,\n",
    "    starting_mistie_col=ties_trend0_final_mistie_col,\n",
    "    starting_data_col=ties_trend0_final_data_col,\n",
    "    mistie_prefix=\"ties_to_lines_mistie_trend1\",\n",
    "    levelled_data_prefix=\"ties_to_lines_levelled_data_trend1\",\n",
    "    cols_to_fit=\"dist_along_line2\",\n",
    "    iterations=5,\n",
    "    # plot_iterations=True,\n",
    "    plot_results=True,\n",
    ")\n",
    "ties_trend1_final_mistie_col = list(rosetta_ties_trend1.columns)[-1]\n",
    "ties_trend1_final_data_col = list(rosetta_ties_trend1.columns)[-2]\n",
    "\n",
    "rosetta_ties_trend1.describe()"
   ]
  },
  {
   "cell_type": "code",
   "execution_count": null,
   "metadata": {
    "execution": {
     "iopub.execute_input": "2023-05-10T09:59:35.243035Z",
     "iopub.status.busy": "2023-05-10T09:59:35.242738Z",
     "iopub.status.idle": "2023-05-10T09:59:35.274867Z",
     "shell.execute_reply": "2023-05-10T09:59:35.274360Z",
     "shell.execute_reply.started": "2023-05-10T09:59:35.243015Z"
    },
    "tags": []
   },
   "outputs": [],
   "source": [
    "ties_trend1_final_mistie_col"
   ]
  },
  {
   "cell_type": "code",
   "execution_count": null,
   "metadata": {
    "execution": {
     "iopub.execute_input": "2023-05-10T09:59:33.391877Z",
     "iopub.status.busy": "2023-05-10T09:59:33.391541Z",
     "iopub.status.idle": "2023-05-10T09:59:33.423918Z",
     "shell.execute_reply": "2023-05-10T09:59:33.423411Z",
     "shell.execute_reply.started": "2023-05-10T09:59:33.391855Z"
    },
    "tags": []
   },
   "outputs": [],
   "source": [
    "ties_trend1_final_data_col"
   ]
  },
  {
   "cell_type": "code",
   "execution_count": null,
   "metadata": {
    "execution": {
     "iopub.execute_input": "2023-05-10T09:59:50.152134Z",
     "iopub.status.busy": "2023-05-10T09:59:50.151823Z",
     "iopub.status.idle": "2023-05-10T09:59:51.081249Z",
     "shell.execute_reply": "2023-05-10T09:59:51.080668Z",
     "shell.execute_reply.started": "2023-05-10T09:59:50.152115Z"
    },
    "tags": []
   },
   "outputs": [],
   "source": [
    "grav.plotly_points(\n",
    "    rosetta_ties_trend1,\n",
    "    color_col=ties_trend1_final_data_col,\n",
    "    hover_cols=[\"FAG_levelled\", \"up_cont_grav\", \"dif\", \"Height\", \"line\"],\n",
    "    robust=True,\n",
    "    # point_size=5,\n",
    ")"
   ]
  },
  {
   "cell_type": "code",
   "execution_count": null,
   "metadata": {},
   "outputs": [],
   "source": []
  },
  {
   "cell_type": "code",
   "execution_count": null,
   "metadata": {
    "execution": {
     "iopub.execute_input": "2023-05-10T10:00:12.452203Z",
     "iopub.status.busy": "2023-05-10T10:00:12.451868Z",
     "iopub.status.idle": "2023-05-10T10:00:21.734576Z",
     "shell.execute_reply": "2023-05-10T10:00:21.733913Z",
     "shell.execute_reply.started": "2023-05-10T10:00:12.452183Z"
    },
    "tags": []
   },
   "outputs": [],
   "source": [
    "# perform iterative leveling, alternating between flight and tie lines\n",
    "rosetta_UC, inters = grav.iterative_levelling_alternate(\n",
    "    inters,\n",
    "    rosetta_UC,\n",
    "    tie_line_names=rosetta_UC.line[rosetta_UC.line >= 1000].unique(),\n",
    "    flight_line_names=rosetta_UC.line[rosetta_UC.line < 1000].unique(),\n",
    "    degree=0,\n",
    "    starting_mistie_col=\"mistie_after_UC\",\n",
    "    starting_data_col=\"up_cont_grav\",\n",
    "    iterations=4,\n",
    "    # plot_iterations=True,\n",
    "    plot_results=True,\n",
    ")"
   ]
  },
  {
   "cell_type": "code",
   "execution_count": null,
   "metadata": {},
   "outputs": [],
   "source": [
    "rosetta_UC, inters = grav.level_lines(\n",
    "    inters,\n",
    "    rosetta_UC,\n",
    "    lines_to_level=rosetta_UC.line[rosetta_UC.line > 1000].unique(),\n",
    "    cols_to_fit=\"dist_along_line2\",\n",
    "    cols_to_predict=\"dist_along_line\",\n",
    "    degree=0,\n",
    "    data_col=\"levelled\",\n",
    "    mistie_col=\"mistie_3\",\n",
    "    new_mistie_col=\"mistie_4\",\n",
    "    levelled_col=\"levelled2\",\n",
    "    plot=True,\n",
    ")"
   ]
  },
  {
   "cell_type": "code",
   "execution_count": null,
   "metadata": {},
   "outputs": [],
   "source": [
    "rosetta_UC, inters = grav.level_lines(\n",
    "    inters,\n",
    "    rosetta_UC,\n",
    "    lines_to_level=rosetta_UC.line[rosetta_UC.line < 1000].unique(),\n",
    "    cols_to_fit=\"dist_along_line1\",\n",
    "    cols_to_predict=\"dist_along_line\",\n",
    "    degree=0,\n",
    "    data_col=\"levelled2\",\n",
    "    mistie_col=\"mistie_4\",\n",
    "    new_mistie_col=\"mistie_5\",\n",
    "    levelled_col=\"levelled3\",\n",
    "    plot=True,\n",
    ")"
   ]
  },
  {
   "cell_type": "code",
   "execution_count": null,
   "metadata": {
    "tags": []
   },
   "outputs": [],
   "source": [
    "# iterate through the E-W lines\n",
    "\n",
    "rosetta_UC[\"levelled\"] = np.nan\n",
    "\n",
    "for line in rosetta_UC[rosetta_UC.line < 1000].line.unique():\n",
    "    df = rosetta_UC[rosetta_UC.line == line].copy()\n",
    "\n",
    "    # fit a polynomial trend through the misties values\n",
    "    ints = inters[inters.line1 == line]\n",
    "    coords = (ints.geometry.x, ints.geometry.y)\n",
    "    with warnings.catch_warnings():\n",
    "        warnings.filterwarnings(\"ignore\", message=\"Under-determined problem\")\n",
    "        try:\n",
    "            trend = vd.Trend(degree=0).fit(coords, ints.mistie_2)\n",
    "            # predict the trend on the line data\n",
    "            df[\"trend\"] = trend.predict((df.easting, df.northing))\n",
    "        except ValueError:\n",
    "            print(f\"Issue with line {line}\")\n",
    "            df[\"trend\"] = 0\n",
    "\n",
    "    # remove the trend from the gravity\n",
    "    values = df.up_cont_grav - df.trend\n",
    "\n",
    "    rosetta_UC.loc[rosetta_UC.line == line, \"levelled\"] = values\n",
    "\n",
    "for line in rosetta_UC[rosetta_UC.line >= 1000].line.unique():\n",
    "    rosetta_UC.loc[rosetta_UC.line == line, \"levelled\"] = rosetta_UC.loc[\n",
    "        rosetta_UC.line == line, \"up_cont_grav\"\n",
    "    ]\n",
    "\n",
    "rosetta_UC[\"levelling_change\"] = rosetta_UC.up_cont_grav - rosetta_UC.levelled"
   ]
  },
  {
   "cell_type": "code",
   "execution_count": null,
   "metadata": {
    "tags": []
   },
   "outputs": [],
   "source": [
    "print(f\"Previous mistie RMSE: {utils.RMSE(inters.mistie_2)}\")\n",
    "inters = grav.calculate_misties(\n",
    "    inters,\n",
    "    rosetta_UC,\n",
    "    data_col=\"levelled\",\n",
    "    mistie_name=\"mistie_3\",\n",
    "    # plot=True,\n",
    "    robust=False,\n",
    ")\n",
    "inters.sort_values(by=\"mistie_3\")\n",
    "\n",
    "grav.plotly_points(rosetta_UC, color_col=\"up_cont_grav\", point_size=2)\n",
    "grav.plotly_points(rosetta_UC, color_col=\"levelled\", point_size=2)\n",
    "grav.plotly_points(rosetta_UC, color_col=\"levelling_change\", point_size=2)\n",
    "grav.plotly_points(inters, color_col=\"mistie_2\", point_size=4)\n",
    "grav.plotly_points(inters, color_col=\"mistie_3\", point_size=4)"
   ]
  },
  {
   "cell_type": "code",
   "execution_count": null,
   "metadata": {
    "tags": []
   },
   "outputs": [],
   "source": [
    "# fit a polynomial trend through the misties\n",
    "coords = (inters.geometry.x, inters.geometry.y)\n",
    "trend = vd.Trend(degree=20).fit(coords, inters.mistie_2)\n",
    "\n",
    "# predict the trend on the intersection points\n",
    "inters[\"trend\"] = trend.predict(coords)\n",
    "\n",
    "# remove the trend from the misties\n",
    "inters[\"residual\"] = inters.mistie_2 - inters.trend\n",
    "\n",
    "print(utils.RMSE(inters.mistie_2), inters.mistie_2.mean())\n",
    "print(utils.RMSE(inters.residual), inters.residual.mean())\n",
    "\n",
    "grav.plotly_points(rosetta_UC, color_col=\"up_cont_grav\", point_size=2)\n",
    "grav.plotly_points(inters, color_col=\"mistie_2\", point_size=4)\n",
    "grav.plotly_points(inters, color_col=\"trend\", point_size=4)\n",
    "grav.plotly_points(inters, color_col=\"residual\", point_size=4)"
   ]
  },
  {
   "cell_type": "code",
   "execution_count": null,
   "metadata": {
    "tags": []
   },
   "outputs": [],
   "source": [
    "# apply correction to the line data\n",
    "\n",
    "# fit a polynomial trend to the crossover misties\n",
    "trend = vd.Trend(degree=2).fit(coords, inters.mistie_2)\n",
    "\n",
    "# predict that trend on the flight line datapoints\n",
    "rosetta_UC[\"trend\"] = trend.predict((rosetta_UC.easting, rosetta_UC.northing))\n",
    "\n",
    "# remove the trend from the data\n",
    "rosetta_UC[\"levelled\"] = rosetta_UC.up_cont_grav - rosetta_UC.trend\n",
    "\n",
    "grav.plotly_points(\n",
    "    rosetta_UC,\n",
    "    color_col=\"up_cont_grav\",\n",
    "    point_size=2,\n",
    "    hover_cols=[\"up_cont_grav\", \"levelled\", \"trend\"],\n",
    ")\n",
    "grav.plotly_points(\n",
    "    rosetta_UC,\n",
    "    color_col=\"trend\",\n",
    "    point_size=2,\n",
    "    hover_cols=[\"up_cont_grav\", \"levelled\", \"trend\"],\n",
    ")\n",
    "grav.plotly_points(\n",
    "    rosetta_UC,\n",
    "    color_col=\"levelled\",\n",
    "    point_size=2,\n",
    "    hover_cols=[\"up_cont_grav\", \"levelled\", \"trend\"],\n",
    ")"
   ]
  },
  {
   "cell_type": "code",
   "execution_count": null,
   "metadata": {
    "tags": []
   },
   "outputs": [],
   "source": [
    "inters.drop(columns=[\"line1_value\", \"line2_value\"], inplace=True)\n",
    "inters"
   ]
  },
  {
   "cell_type": "code",
   "execution_count": null,
   "metadata": {
    "tags": []
   },
   "outputs": [],
   "source": [
    "print(f\"Previous mistie RMSE: {utils.RMSE(inters.mistie_2)}\")\n",
    "inters = grav.calculate_misties(\n",
    "    inters,\n",
    "    rosetta_UC,\n",
    "    data_col=\"levelled\",\n",
    "    mistie_name=\"mistie_3\",\n",
    "    plot=True,\n",
    "    robust=False,\n",
    ")\n",
    "inters.sort_values(by=\"mistie_3\")"
   ]
  },
  {
   "cell_type": "markdown",
   "metadata": {
    "tags": []
   },
   "source": [
    "## 1st order levelling\n",
    "Tilt lines to minimize misfit values"
   ]
  }
 ],
 "metadata": {
  "kernelspec": {
   "display_name": "Python 3 (ipykernel)",
   "language": "python",
   "name": "python3"
  },
  "language_info": {
   "codemirror_mode": {
    "name": "ipython",
    "version": 3
   },
   "file_extension": ".py",
   "mimetype": "text/x-python",
   "name": "python",
   "nbconvert_exporter": "python",
   "pygments_lexer": "ipython3",
   "version": "3.10.9"
  },
  "vscode": {
   "interpreter": {
    "hash": "be5ed6196e54cd5072f7416641aebafb9cc46c9e9ac253365d503760856c4c67"
   }
  }
 },
 "nbformat": 4,
 "nbformat_minor": 4
}
