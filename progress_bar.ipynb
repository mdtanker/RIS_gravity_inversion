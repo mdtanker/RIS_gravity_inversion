{
 "cells": [
  {
   "cell_type": "code",
   "execution_count": 1,
   "metadata": {},
   "outputs": [],
   "source": [
    "from numba_progress import ProgressBar\n",
    "from progress_test import jacobian, jacobian2\n",
    "import xarray as xr\n",
    "import pandas as pd"
   ]
  },
  {
   "cell_type": "code",
   "execution_count": 2,
   "metadata": {},
   "outputs": [],
   "source": [
    "fname='C:/Users/matthewt/Documents/Python_Scripts/RIS_gravity_inversion/inversion_layers/gravity_inv.nc'\n",
    "grav_spacing = 40e3\n",
    "grid_grav = xr.load_dataset(fname)           \n",
    "df_grav = xr.load_dataset(fname).to_dataframe().reset_index() \n",
    "df_grav.rename(columns={'z':'Gobs'}, inplace=True)\n",
    "df_grav.dropna(how='any', inplace=True)\n",
    "df_grav['z']=750\n",
    "\n",
    "fname = 'C:/Users/matthewt/Documents/Python_Scripts/RIS_gravity_inversion/inversion_layers/BedMachine_surface_filled_inv.nc'\n",
    "grid=xr.load_dataset(fname)\n",
    "df=grid.to_dataframe().reset_index()   \n",
    "df.rename(columns={'x':'easting','y':'northing','z':'top'}, inplace=True)  \n",
    "df['bottom']=df.top*-1.24  \n",
    "df['density']=920\n",
    "  "
   ]
  },
  {
   "cell_type": "code",
   "execution_count": 3,
   "metadata": {},
   "outputs": [
    {
     "name": "stdout",
     "output_type": "stream",
     "text": [
      "100%|██████████| 1089.0/1089 [00:05<00:00, 203.00it/s]\n"
     ]
    }
   ],
   "source": [
    "spacing = 40e3\n",
    "\n",
    "num_iterations = len(df_grav)\n",
    "\n",
    "with ProgressBar(total=num_iterations) as progress:\n",
    "    jacobian2(df_grav, df, spacing, progress)"
   ]
  },
  {
   "cell_type": "code",
   "execution_count": 4,
   "metadata": {},
   "outputs": [
    {
     "data": {
      "text/plain": [
       "array([[ 4.72415993e-02,  1.53222014e-04,  1.53354136e-05, ...,\n",
       "        -3.92628302e-09, -3.84101545e-09, -3.76251054e-09],\n",
       "       [ 1.53222014e-04,  4.72415993e-02,  1.53222014e-04, ...,\n",
       "        -4.11407973e-09, -4.02513937e-09, -3.94306138e-09],\n",
       "       [ 1.53354136e-05,  1.53222014e-04,  4.72415993e-02, ...,\n",
       "        -4.31017717e-09, -4.21766442e-09, -4.13207698e-09],\n",
       "       ...,\n",
       "       [ 1.36323889e-09,  1.42844360e-09,  1.49653040e-09, ...,\n",
       "        -4.38105378e-02, -4.48896161e-04, -4.64246638e-05],\n",
       "       [ 1.30087951e-09,  1.36323889e-09,  1.42844360e-09, ...,\n",
       "        -4.38057636e-04, -4.36794284e-02, -4.60604871e-04],\n",
       "       [ 1.24131279e-09,  1.30087951e-09,  1.36323889e-09, ...,\n",
       "        -4.41185407e-05, -4.48896161e-04, -4.35377335e-02]])"
      ]
     },
     "execution_count": 4,
     "metadata": {},
     "output_type": "execute_result"
    }
   ],
   "source": [
    "jacobian(df_grav, df, spacing)"
   ]
  },
  {
   "cell_type": "code",
   "execution_count": 5,
   "metadata": {},
   "outputs": [],
   "source": [
    "# spacing = 40e3\n",
    "\n",
    "# num_iterations = 1089\n",
    "# with ProgressBar(total=num_iterations) as progress:\n",
    "#     jacobian2(num_iterations, df_grav, df, spacing, progress)"
   ]
  },
  {
   "cell_type": "code",
   "execution_count": 6,
   "metadata": {},
   "outputs": [],
   "source": [
    "# num_iterations = 10000\n",
    "\n",
    "# # with ProgressBar(total=num_iterations) as numba_progress:\n",
    "# #     prism.numba_function(num_iterations, numba_progress)\n",
    "\n",
    "\n",
    "# def test(num_iterations):\n",
    "#     x=[]\n",
    "#     for i in range(num_iterations):\n",
    "#         x.append(i)\n",
    "#     return x\n",
    "# x"
   ]
  }
 ],
 "metadata": {
  "interpreter": {
   "hash": "68dad37a2c0b0e52e9d703331910b3b2740e3c89c9c0fb4a294709abe78ce60f"
  },
  "kernelspec": {
   "display_name": "Python 3.10.4 ('grav_inv_progress')",
   "language": "python",
   "name": "python3"
  },
  "language_info": {
   "codemirror_mode": {
    "name": "ipython",
    "version": 3
   },
   "file_extension": ".py",
   "mimetype": "text/x-python",
   "name": "python",
   "nbconvert_exporter": "python",
   "pygments_lexer": "ipython3",
   "version": "3.10.4"
  },
  "orig_nbformat": 4
 },
 "nbformat": 4,
 "nbformat_minor": 2
}
